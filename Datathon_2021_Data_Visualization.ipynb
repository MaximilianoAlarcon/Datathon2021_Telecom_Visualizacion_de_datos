{
  "nbformat": 4,
  "nbformat_minor": 0,
  "metadata": {
    "colab": {
      "name": "Datathon 2021 Data Visualization.ipynb",
      "provenance": [],
      "collapsed_sections": []
    },
    "kernelspec": {
      "name": "python3",
      "display_name": "Python 3"
    },
    "language_info": {
      "name": "python"
    }
  },
  "cells": [
    {
      "cell_type": "markdown",
      "metadata": {
        "id": "eyd9YFpPCCgu"
      },
      "source": [
        "# **Insight 1: Show_type TOP 1**"
      ]
    },
    {
      "cell_type": "markdown",
      "metadata": {
        "id": "D8Yg_xrct3JJ"
      },
      "source": [
        "Una inversion en contenido puede significar una ganancia o una perdida para una plataforma que ofrezca estos servicios.\n",
        "Naturalmente, antes de tomar una decision es conveniente eliminar o por lo menos reducir incertidumbre sobre algunas variables. \n",
        "\n",
        "En el caso de la empresa flow, lo mas prudente es hacer un estudio de mercado para saber que clase de contenidos prometen ganancias, es el caso de este insight, las series y peliculas"
      ]
    },
    {
      "cell_type": "code",
      "metadata": {
        "id": "o5CvExFsCEg1"
      },
      "source": [
        "import pandas as pd\n",
        "import numpy as np\n",
        "import matplotlib.pyplot as plt\n",
        "import seaborn as sns"
      ],
      "execution_count": null,
      "outputs": []
    },
    {
      "cell_type": "code",
      "metadata": {
        "colab": {
          "base_uri": "https://localhost:8080/"
        },
        "id": "xgqJ4FZOCIcW",
        "outputId": "1037251d-54c2-46fb-adf5-754b7d2ce935"
      },
      "source": [
        "from google.colab import drive\n",
        "drive.mount('/content/drive')"
      ],
      "execution_count": null,
      "outputs": [
        {
          "output_type": "stream",
          "text": [
            "Drive already mounted at /content/drive; to attempt to forcibly remount, call drive.mount(\"/content/drive\", force_remount=True).\n"
          ],
          "name": "stdout"
        }
      ]
    },
    {
      "cell_type": "code",
      "metadata": {
        "id": "OJTX-puFCJs0"
      },
      "source": [
        "ruta_train = \"/content/drive/MyDrive/datathon_2021_sr/train.csv\"\n",
        "ruta_metadata = \"/content/drive/MyDrive/datathon_2021_sr/metadata.csv\""
      ],
      "execution_count": null,
      "outputs": []
    },
    {
      "cell_type": "code",
      "metadata": {
        "colab": {
          "base_uri": "https://localhost:8080/",
          "height": 204
        },
        "id": "BcDpEl2LCbZN",
        "outputId": "fe13b326-fdcb-4e6d-fca9-f9de419f1d38"
      },
      "source": [
        "df_train = pd.read_csv(ruta_train)\n",
        "columnas_necesarias = [\"account_id\",\"asset_id\",\"tunein\",\"tuneout\"]\n",
        "df_train.head()"
      ],
      "execution_count": null,
      "outputs": [
        {
          "output_type": "execute_result",
          "data": {
            "text/html": [
              "<div>\n",
              "<style scoped>\n",
              "    .dataframe tbody tr th:only-of-type {\n",
              "        vertical-align: middle;\n",
              "    }\n",
              "\n",
              "    .dataframe tbody tr th {\n",
              "        vertical-align: top;\n",
              "    }\n",
              "\n",
              "    .dataframe thead th {\n",
              "        text-align: right;\n",
              "    }\n",
              "</style>\n",
              "<table border=\"1\" class=\"dataframe\">\n",
              "  <thead>\n",
              "    <tr style=\"text-align: right;\">\n",
              "      <th></th>\n",
              "      <th>customer_id</th>\n",
              "      <th>account_id</th>\n",
              "      <th>device_type</th>\n",
              "      <th>asset_id</th>\n",
              "      <th>tunein</th>\n",
              "      <th>tuneout</th>\n",
              "      <th>resume</th>\n",
              "    </tr>\n",
              "  </thead>\n",
              "  <tbody>\n",
              "    <tr>\n",
              "      <th>0</th>\n",
              "      <td>0</td>\n",
              "      <td>90627</td>\n",
              "      <td>STATIONARY</td>\n",
              "      <td>18332.0</td>\n",
              "      <td>2021-02-18 22:52:00.0</td>\n",
              "      <td>2021-02-18 23:35:00.0</td>\n",
              "      <td>0</td>\n",
              "    </tr>\n",
              "    <tr>\n",
              "      <th>1</th>\n",
              "      <td>0</td>\n",
              "      <td>90627</td>\n",
              "      <td>STATIONARY</td>\n",
              "      <td>24727.0</td>\n",
              "      <td>2021-03-24 23:17:00.0</td>\n",
              "      <td>2021-03-25 00:01:00.0</td>\n",
              "      <td>0</td>\n",
              "    </tr>\n",
              "    <tr>\n",
              "      <th>2</th>\n",
              "      <td>1</td>\n",
              "      <td>3387</td>\n",
              "      <td>STB</td>\n",
              "      <td>895.0</td>\n",
              "      <td>2021-03-15 10:05:00.0</td>\n",
              "      <td>2021-03-15 10:23:00.0</td>\n",
              "      <td>0</td>\n",
              "    </tr>\n",
              "    <tr>\n",
              "      <th>3</th>\n",
              "      <td>1</td>\n",
              "      <td>3387</td>\n",
              "      <td>STB</td>\n",
              "      <td>895.0</td>\n",
              "      <td>2021-03-15 10:23:00.0</td>\n",
              "      <td>2021-03-15 11:18:00.0</td>\n",
              "      <td>1</td>\n",
              "    </tr>\n",
              "    <tr>\n",
              "      <th>4</th>\n",
              "      <td>1</td>\n",
              "      <td>3387</td>\n",
              "      <td>STB</td>\n",
              "      <td>26062.0</td>\n",
              "      <td>2021-03-16 09:24:00.0</td>\n",
              "      <td>2021-03-16 09:44:00.0</td>\n",
              "      <td>0</td>\n",
              "    </tr>\n",
              "  </tbody>\n",
              "</table>\n",
              "</div>"
            ],
            "text/plain": [
              "   customer_id  account_id  ...                tuneout  resume\n",
              "0            0       90627  ...  2021-02-18 23:35:00.0       0\n",
              "1            0       90627  ...  2021-03-25 00:01:00.0       0\n",
              "2            1        3387  ...  2021-03-15 10:23:00.0       0\n",
              "3            1        3387  ...  2021-03-15 11:18:00.0       1\n",
              "4            1        3387  ...  2021-03-16 09:44:00.0       0\n",
              "\n",
              "[5 rows x 7 columns]"
            ]
          },
          "metadata": {
            "tags": []
          },
          "execution_count": 4
        }
      ]
    },
    {
      "cell_type": "code",
      "metadata": {
        "colab": {
          "base_uri": "https://localhost:8080/",
          "height": 35
        },
        "id": "FFYL_RU9FsDL",
        "outputId": "97e45b4d-457e-4869-98c2-a47cbbd04c3a"
      },
      "source": [
        "df_train[\"tuneout\"].max()"
      ],
      "execution_count": null,
      "outputs": [
        {
          "output_type": "execute_result",
          "data": {
            "application/vnd.google.colaboratory.intrinsic+json": {
              "type": "string"
            },
            "text/plain": [
              "'2021-04-01 03:46:00.0'"
            ]
          },
          "metadata": {
            "tags": []
          },
          "execution_count": 6
        }
      ]
    },
    {
      "cell_type": "code",
      "metadata": {
        "colab": {
          "base_uri": "https://localhost:8080/",
          "height": 204
        },
        "id": "mRN6GJVzBNdg",
        "outputId": "f3d090fe-9a6d-48f3-85cf-ca784995aab7"
      },
      "source": [
        "df_train.sort_values(by=['account_id','asset_id'],ascending=True,inplace=True)\n",
        "df_train.head()"
      ],
      "execution_count": null,
      "outputs": [
        {
          "output_type": "execute_result",
          "data": {
            "text/html": [
              "<div>\n",
              "<style scoped>\n",
              "    .dataframe tbody tr th:only-of-type {\n",
              "        vertical-align: middle;\n",
              "    }\n",
              "\n",
              "    .dataframe tbody tr th {\n",
              "        vertical-align: top;\n",
              "    }\n",
              "\n",
              "    .dataframe thead th {\n",
              "        text-align: right;\n",
              "    }\n",
              "</style>\n",
              "<table border=\"1\" class=\"dataframe\">\n",
              "  <thead>\n",
              "    <tr style=\"text-align: right;\">\n",
              "      <th></th>\n",
              "      <th>customer_id</th>\n",
              "      <th>account_id</th>\n",
              "      <th>device_type</th>\n",
              "      <th>asset_id</th>\n",
              "      <th>tunein</th>\n",
              "      <th>tuneout</th>\n",
              "      <th>resume</th>\n",
              "    </tr>\n",
              "  </thead>\n",
              "  <tbody>\n",
              "    <tr>\n",
              "      <th>3164588</th>\n",
              "      <td>94636</td>\n",
              "      <td>0</td>\n",
              "      <td>CLOUD_CLIENT</td>\n",
              "      <td>6397.0</td>\n",
              "      <td>2021-02-25 21:05:00.0</td>\n",
              "      <td>2021-02-25 21:53:00.0</td>\n",
              "      <td>0</td>\n",
              "    </tr>\n",
              "    <tr>\n",
              "      <th>3164585</th>\n",
              "      <td>94636</td>\n",
              "      <td>0</td>\n",
              "      <td>STB</td>\n",
              "      <td>13056.0</td>\n",
              "      <td>2021-01-13 00:12:00.0</td>\n",
              "      <td>2021-01-13 01:17:00.0</td>\n",
              "      <td>1</td>\n",
              "    </tr>\n",
              "    <tr>\n",
              "      <th>3164587</th>\n",
              "      <td>94636</td>\n",
              "      <td>0</td>\n",
              "      <td>STB</td>\n",
              "      <td>15900.0</td>\n",
              "      <td>2021-01-18 15:21:00.0</td>\n",
              "      <td>2021-01-18 17:29:00.0</td>\n",
              "      <td>0</td>\n",
              "    </tr>\n",
              "    <tr>\n",
              "      <th>3164584</th>\n",
              "      <td>94636</td>\n",
              "      <td>0</td>\n",
              "      <td>STB</td>\n",
              "      <td>29811.0</td>\n",
              "      <td>2021-01-12 21:13:00.0</td>\n",
              "      <td>2021-01-12 22:32:00.0</td>\n",
              "      <td>0</td>\n",
              "    </tr>\n",
              "    <tr>\n",
              "      <th>3164586</th>\n",
              "      <td>94636</td>\n",
              "      <td>0</td>\n",
              "      <td>STB</td>\n",
              "      <td>29897.0</td>\n",
              "      <td>2021-01-17 01:45:00.0</td>\n",
              "      <td>2021-01-17 02:01:00.0</td>\n",
              "      <td>1</td>\n",
              "    </tr>\n",
              "  </tbody>\n",
              "</table>\n",
              "</div>"
            ],
            "text/plain": [
              "         customer_id  account_id  ...                tuneout  resume\n",
              "3164588        94636           0  ...  2021-02-25 21:53:00.0       0\n",
              "3164585        94636           0  ...  2021-01-13 01:17:00.0       1\n",
              "3164587        94636           0  ...  2021-01-18 17:29:00.0       0\n",
              "3164584        94636           0  ...  2021-01-12 22:32:00.0       0\n",
              "3164586        94636           0  ...  2021-01-17 02:01:00.0       1\n",
              "\n",
              "[5 rows x 7 columns]"
            ]
          },
          "metadata": {
            "tags": []
          },
          "execution_count": 83
        }
      ]
    },
    {
      "cell_type": "code",
      "metadata": {
        "colab": {
          "base_uri": "https://localhost:8080/"
        },
        "id": "V99gRECxBRBb",
        "outputId": "429500da-5855-42b1-ba80-55e49d637fb3"
      },
      "source": [
        "df_train.shape"
      ],
      "execution_count": null,
      "outputs": [
        {
          "output_type": "execute_result",
          "data": {
            "text/plain": [
              "(3657801, 7)"
            ]
          },
          "metadata": {
            "tags": []
          },
          "execution_count": 84
        }
      ]
    },
    {
      "cell_type": "code",
      "metadata": {
        "colab": {
          "base_uri": "https://localhost:8080/"
        },
        "id": "qCyISksVBTDW",
        "outputId": "3d517fd3-6a9f-4501-f787-f9be4f888816"
      },
      "source": [
        "print(f'Nº de filas: {df_train.shape[0]}')\n",
        "print(f'Nº de columnas: {df_train.shape[1]}')\n",
        "columnas = df_train.columns\n",
        "print('Nombre de las columnas: ')\n",
        "for col in columnas:\n",
        "    print(col)"
      ],
      "execution_count": null,
      "outputs": [
        {
          "output_type": "stream",
          "text": [
            "Nº de filas: 3657801\n",
            "Nº de columnas: 7\n",
            "Nombre de las columnas: \n",
            "customer_id\n",
            "account_id\n",
            "device_type\n",
            "asset_id\n",
            "tunein\n",
            "tuneout\n",
            "resume\n"
          ],
          "name": "stdout"
        }
      ]
    },
    {
      "cell_type": "code",
      "metadata": {
        "colab": {
          "base_uri": "https://localhost:8080/"
        },
        "id": "AHkAH9p9BVOz",
        "outputId": "675f88a5-76fa-4a5c-f2cb-9227e2d3102d"
      },
      "source": [
        "print(df_train.isnull().sum())"
      ],
      "execution_count": null,
      "outputs": [
        {
          "output_type": "stream",
          "text": [
            "customer_id     0\n",
            "account_id      0\n",
            "device_type    29\n",
            "asset_id       22\n",
            "tunein          0\n",
            "tuneout         0\n",
            "resume          0\n",
            "dtype: int64\n"
          ],
          "name": "stdout"
        }
      ]
    },
    {
      "cell_type": "code",
      "metadata": {
        "colab": {
          "base_uri": "https://localhost:8080/",
          "height": 631
        },
        "id": "nVGp01kfBYl2",
        "outputId": "cbddd9d9-351f-4ba7-d536-13560860159d"
      },
      "source": [
        "plt.figure(figsize=(23,10))\n",
        "sns.countplot(df_train[\"device_type\"])\n",
        "plt.show()"
      ],
      "execution_count": null,
      "outputs": [
        {
          "output_type": "stream",
          "text": [
            "/usr/local/lib/python3.7/dist-packages/seaborn/_decorators.py:43: FutureWarning: Pass the following variable as a keyword arg: x. From version 0.12, the only valid positional argument will be `data`, and passing other arguments without an explicit keyword will result in an error or misinterpretation.\n",
            "  FutureWarning\n"
          ],
          "name": "stderr"
        },
        {
          "output_type": "display_data",
          "data": {
            "image/png": "[encoded data removed]",
            "text/plain": [
              "<Figure size 1656x720 with 1 Axes>"
            ]
          },
          "metadata": {
            "tags": [],
            "needs_background": "light"
          }
        }
      ]
    },
    {
      "cell_type": "code",
      "metadata": {
        "id": "WBiA42u1BaiU"
      },
      "source": [
        "def imputar_faltantes_por_moda(dataset, columna):\n",
        "  moda = dataset[columna].value_counts().index[0]\n",
        "  dataset[columna] = dataset[columna].fillna(moda)"
      ],
      "execution_count": null,
      "outputs": []
    },
    {
      "cell_type": "code",
      "metadata": {
        "id": "50Se9Ww5BdOR"
      },
      "source": [
        "imputar_faltantes_por_moda(df_train, \"device_type\")"
      ],
      "execution_count": null,
      "outputs": []
    },
    {
      "cell_type": "code",
      "metadata": {
        "colab": {
          "base_uri": "https://localhost:8080/"
        },
        "id": "1oMO2sFZBe8J",
        "outputId": "dfdc3b52-1c96-4e67-de22-e6ee327874eb"
      },
      "source": [
        "print(df_train.isnull().sum())"
      ],
      "execution_count": null,
      "outputs": [
        {
          "output_type": "stream",
          "text": [
            "customer_id     0\n",
            "account_id      0\n",
            "device_type     0\n",
            "asset_id       22\n",
            "tunein          0\n",
            "tuneout         0\n",
            "resume          0\n",
            "dtype: int64\n"
          ],
          "name": "stdout"
        }
      ]
    },
    {
      "cell_type": "code",
      "metadata": {
        "colab": {
          "base_uri": "https://localhost:8080/"
        },
        "id": "zEgVCYPqBh8h",
        "outputId": "bc58c4cd-6fc8-44ec-8dd1-cfbc59219080"
      },
      "source": [
        "imputar_faltantes_por_moda(df_train, \"asset_id\")\n",
        "print(df_train.isnull().sum())"
      ],
      "execution_count": null,
      "outputs": [
        {
          "output_type": "stream",
          "text": [
            "customer_id    0\n",
            "account_id     0\n",
            "device_type    0\n",
            "asset_id       0\n",
            "tunein         0\n",
            "tuneout        0\n",
            "resume         0\n",
            "dtype: int64\n"
          ],
          "name": "stdout"
        }
      ]
    },
    {
      "cell_type": "code",
      "metadata": {
        "colab": {
          "base_uri": "https://localhost:8080/"
        },
        "id": "m2BVT7VdBke0",
        "outputId": "c0c5681e-542d-4fbb-b4bb-a69506ffbd06"
      },
      "source": [
        "df_train['tunein_datetime'] = pd.to_datetime(df_train['tunein'], format='%Y-%m-%d %H:%M:%S')\n",
        "df_train['tunein_datetime'].head()"
      ],
      "execution_count": null,
      "outputs": [
        {
          "output_type": "execute_result",
          "data": {
            "text/plain": [
              "3164588   2021-02-25 21:05:00\n",
              "3164585   2021-01-13 00:12:00\n",
              "3164587   2021-01-18 15:21:00\n",
              "3164584   2021-01-12 21:13:00\n",
              "3164586   2021-01-17 01:45:00\n",
              "Name: tunein_datetime, dtype: datetime64[ns]"
            ]
          },
          "metadata": {
            "tags": []
          },
          "execution_count": 92
        }
      ]
    },
    {
      "cell_type": "code",
      "metadata": {
        "colab": {
          "base_uri": "https://localhost:8080/"
        },
        "id": "eOI8wbCnBmry",
        "outputId": "bf9f9800-76aa-43f6-957b-1b8f34552f4e"
      },
      "source": [
        "df_train['tuneout_datetime'] = pd.to_datetime(df_train['tuneout'], format='%Y-%m-%d %H:%M:%S')\n",
        "df_train['tuneout_datetime'].head()"
      ],
      "execution_count": null,
      "outputs": [
        {
          "output_type": "execute_result",
          "data": {
            "text/plain": [
              "3164588   2021-02-25 21:53:00\n",
              "3164585   2021-01-13 01:17:00\n",
              "3164587   2021-01-18 17:29:00\n",
              "3164584   2021-01-12 22:32:00\n",
              "3164586   2021-01-17 02:01:00\n",
              "Name: tuneout_datetime, dtype: datetime64[ns]"
            ]
          },
          "metadata": {
            "tags": []
          },
          "execution_count": 93
        }
      ]
    },
    {
      "cell_type": "code",
      "metadata": {
        "id": "6bc0vOypJDhr"
      },
      "source": [
        "df_train['difftune_datetime'] = df_train['tuneout_datetime'] - df_train['tunein_datetime']\n",
        "df_train['difftune_datetime'].head()"
      ],
      "execution_count": null,
      "outputs": []
    },
    {
      "cell_type": "code",
      "metadata": {
        "id": "CCYHVogwBq_z"
      },
      "source": [
        "def datetime_to_minutes(x):\n",
        "  return x.total_seconds()/60"
      ],
      "execution_count": null,
      "outputs": []
    },
    {
      "cell_type": "code",
      "metadata": {
        "id": "Sv9J6mgQyJlK"
      },
      "source": [
        "df_train['minutes'] = df_train['difftune_datetime'].apply(datetime_to_minutes)\n",
        "df_train['minutes'].head()"
      ],
      "execution_count": null,
      "outputs": []
    },
    {
      "cell_type": "code",
      "metadata": {
        "id": "CpqkZEN_Eqaa"
      },
      "source": [
        "df_train = df_train.groupby(['account_id','asset_id'], as_index=False).agg({\"minutes\": \"sum\"})\n",
        "print(\"Tamaño de df_train: \"+str(df_train.shape[0]))"
      ],
      "execution_count": null,
      "outputs": []
    },
    {
      "cell_type": "code",
      "metadata": {
        "colab": {
          "base_uri": "https://localhost:8080/"
        },
        "id": "ePpLNh6LEodS",
        "outputId": "8fe80977-a1b4-48c1-8d5f-025d0ca4a3b1"
      },
      "source": [
        "df_metadata = pd.read_csv(ruta_metadata, sep=';')"
      ],
      "execution_count": null,
      "outputs": [
        {
          "output_type": "execute_result",
          "data": {
            "text/plain": [
              "26.974734273406344"
            ]
          },
          "metadata": {
            "tags": []
          },
          "execution_count": 63
        }
      ]
    },
    {
      "cell_type": "code",
      "metadata": {
        "id": "CNpGRwVnOuBx"
      },
      "source": [
        "def consultar_contents_ids_con_asset_id(asset_id):\n",
        "  mask = df_metadata[\"asset_id\"] == asset_id\n",
        "  contents = df_metadata.loc[mask][\"content_id\"]\n",
        "  contents = contents.tolist()\n",
        "  return contents[0]"
      ],
      "execution_count": null,
      "outputs": []
    },
    {
      "cell_type": "code",
      "metadata": {
        "id": "Yv07hfY0Ovar"
      },
      "source": [
        "df_train[\"content_id\"] = df_train[\"asset_id\"].apply(consultar_contents_ids_con_asset_id)"
      ],
      "execution_count": null,
      "outputs": []
    },
    {
      "cell_type": "code",
      "metadata": {
        "colab": {
          "base_uri": "https://localhost:8080/",
          "height": 204
        },
        "id": "djGoTOgyOwzW",
        "outputId": "5c64b6d3-4edc-457f-ee9b-2c3f453e4cbf"
      },
      "source": [
        "df_train_transformado = pd.read_csv(\"/content/drive/MyDrive/datathon_2021_sr/df_train.csv\")\n",
        "df_train_transformado = df_train_transformado[[\"account_id\",\"content_id\",\"minutes\"]]\n",
        "df_train_transformado.head()"
      ],
      "execution_count": null,
      "outputs": [
        {
          "output_type": "execute_result",
          "data": {
            "text/html": [
              "<div>\n",
              "<style scoped>\n",
              "    .dataframe tbody tr th:only-of-type {\n",
              "        vertical-align: middle;\n",
              "    }\n",
              "\n",
              "    .dataframe tbody tr th {\n",
              "        vertical-align: top;\n",
              "    }\n",
              "\n",
              "    .dataframe thead th {\n",
              "        text-align: right;\n",
              "    }\n",
              "</style>\n",
              "<table border=\"1\" class=\"dataframe\">\n",
              "  <thead>\n",
              "    <tr style=\"text-align: right;\">\n",
              "      <th></th>\n",
              "      <th>account_id</th>\n",
              "      <th>content_id</th>\n",
              "      <th>minutes</th>\n",
              "    </tr>\n",
              "  </thead>\n",
              "  <tbody>\n",
              "    <tr>\n",
              "      <th>0</th>\n",
              "      <td>0</td>\n",
              "      <td>1503.0</td>\n",
              "      <td>128.0</td>\n",
              "    </tr>\n",
              "    <tr>\n",
              "      <th>1</th>\n",
              "      <td>0</td>\n",
              "      <td>2866.0</td>\n",
              "      <td>65.0</td>\n",
              "    </tr>\n",
              "    <tr>\n",
              "      <th>2</th>\n",
              "      <td>0</td>\n",
              "      <td>3438.0</td>\n",
              "      <td>79.0</td>\n",
              "    </tr>\n",
              "    <tr>\n",
              "      <th>3</th>\n",
              "      <td>0</td>\n",
              "      <td>3498.0</td>\n",
              "      <td>16.0</td>\n",
              "    </tr>\n",
              "    <tr>\n",
              "      <th>4</th>\n",
              "      <td>0</td>\n",
              "      <td>3845.0</td>\n",
              "      <td>48.0</td>\n",
              "    </tr>\n",
              "  </tbody>\n",
              "</table>\n",
              "</div>"
            ],
            "text/plain": [
              "   account_id  content_id  minutes\n",
              "0           0      1503.0    128.0\n",
              "1           0      2866.0     65.0\n",
              "2           0      3438.0     79.0\n",
              "3           0      3498.0     16.0\n",
              "4           0      3845.0     48.0"
            ]
          },
          "metadata": {
            "tags": []
          },
          "execution_count": 97
        }
      ]
    },
    {
      "cell_type": "code",
      "metadata": {
        "colab": {
          "base_uri": "https://localhost:8080/",
          "height": 455
        },
        "id": "xHPvsnoYP1Zi",
        "outputId": "b8ecf2df-5aa9-45d0-e89a-70b18114daf1"
      },
      "source": [
        "plt.figure(figsize=(23,8))\n",
        "plt.hist(df_train_transformado['minutes'],log=True)\n",
        "plt.show()"
      ],
      "execution_count": null,
      "outputs": [
        {
          "output_type": "display_data",
          "data": {
            "image/png": "[encoded data removed]",
            "text/plain": [
              "<Figure size 1656x576 with 1 Axes>"
            ]
          },
          "metadata": {
            "tags": [],
            "needs_background": "light"
          }
        }
      ]
    },
    {
      "cell_type": "code",
      "metadata": {
        "colab": {
          "base_uri": "https://localhost:8080/",
          "height": 451
        },
        "id": "5Ms5oii0QZZn",
        "outputId": "9e1b4320-85dd-40be-cacf-2099738926bd"
      },
      "source": [
        "plt.figure(figsize=(23,8))\n",
        "plt.boxplot(df_train_transformado['minutes'])\n",
        "plt.show()"
      ],
      "execution_count": null,
      "outputs": [
        {
          "output_type": "display_data",
          "data": {
            "image/png": "[encoded data removed]",
            "text/plain": [
              "<Figure size 1656x576 with 1 Axes>"
            ]
          },
          "metadata": {
            "tags": [],
            "needs_background": "light"
          }
        }
      ]
    },
    {
      "cell_type": "markdown",
      "metadata": {
        "id": "NS2u7IiVwjHU"
      },
      "source": [
        "La funcion de abajo se encarga de seccionar una distribucion de valores en 3 partes separadas por 2 umbrales, luego calcula el porcentaje que ocupa cada seccion"
      ]
    },
    {
      "cell_type": "code",
      "metadata": {
        "id": "Jp1nXHqnVDdh"
      },
      "source": [
        "def division_columna_por_2_umbrales(df, columna, umbral1, umbral2):\n",
        "\n",
        "  a = umbral1;\n",
        "  b = umbral2;\n",
        "\n",
        "  shape = df.shape[0]\n",
        "  min = str(df[columna].min())\n",
        "  max = str(df[columna].max())\n",
        "\n",
        "  mask = df[columna] < a\n",
        "  cluster_1 = sum(mask)\n",
        "  cluster_1_porcentaje = round((cluster_1/shape)*100,5)\n",
        "\n",
        "  mask1 = df[columna] >= a\n",
        "  mask2 = df[columna] <= b\n",
        "  mask = mask1 & mask2\n",
        "  cluster_2 = sum(mask)\n",
        "  cluster_2_porcentaje = round((cluster_2/shape)*100,5)\n",
        "\n",
        "  mask = df[columna] > b\n",
        "  cluster_3 = sum(mask)\n",
        "  cluster_3_porcentaje = round((cluster_3/shape)*100,5)\n",
        "\n",
        "  a = str(a)\n",
        "  b = str(b)\n",
        "\n",
        "  print(\"Seccion 1: \")\n",
        "  print(min+\" - \"+a+\" min : \"+str(cluster_1))\n",
        "  print(\"Porcentaje: \"+str(cluster_1_porcentaje)+\" %\")\n",
        "  print(\"\")\n",
        "  print(\"Seccion 2: \")\n",
        "  print(a+\" - \"+b+\" min : \"+str(cluster_2))\n",
        "  print(\"Porcentaje: \"+str(cluster_2_porcentaje)+\" %\")\n",
        "  print(\"\")\n",
        "  print(\"Seccion 3: \")\n",
        "  print(b+\" - \"+max+\" min : \"+str(cluster_3))\n",
        "  print(\"Porcentaje: \"+str(cluster_3_porcentaje)+\" %\")"
      ],
      "execution_count": null,
      "outputs": []
    },
    {
      "cell_type": "markdown",
      "metadata": {
        "id": "NGdFVK6fxKmW"
      },
      "source": [
        "Las visualizaciones se concentran entre 2 y 5000 minutos"
      ]
    },
    {
      "cell_type": "code",
      "metadata": {
        "colab": {
          "base_uri": "https://localhost:8080/"
        },
        "id": "RwrBApNpVldM",
        "outputId": "c0f25836-4ced-4883-8179-1c45b3b425b9"
      },
      "source": [
        "division_columna_por_2_umbrales(df_train_transformado, 'minutes', 5000, 15000)"
      ],
      "execution_count": null,
      "outputs": [
        {
          "output_type": "stream",
          "text": [
            "Seccion 1: \n",
            "2.0 - 5000 min : 971290\n",
            "Porcentaje: 99.96964 %\n",
            "\n",
            "Seccion 2: \n",
            "5000 - 15000 min : 291\n",
            "Porcentaje: 0.02995 %\n",
            "\n",
            "Seccion 3: \n",
            "15000 - 25252.0 min : 4\n",
            "Porcentaje: 0.00041 %\n"
          ],
          "name": "stdout"
        }
      ]
    },
    {
      "cell_type": "markdown",
      "metadata": {
        "id": "Vyvie1KrxQOh"
      },
      "source": [
        "Tambien se puede dividir en una distribucion normal donde hay un conjunto promedio que ocupa el 70% (0-90min), otro conjunto mas distanciado que ocupa el 25% (90-350min) y por ultimo los valores atipicos 5% (mas de 350min).\n",
        "\n",
        "Por lo general, una pelicula dura 90 min y un contenido de una serie dura menos de 90 min, por lo tanto, este conjunto puede contener series y peliculas indistintamente de las proporciones que ocupa cada tipo"
      ]
    },
    {
      "cell_type": "code",
      "metadata": {
        "colab": {
          "base_uri": "https://localhost:8080/"
        },
        "id": "kbZVBv2IVs-j",
        "outputId": "270392ba-720c-4e77-ca35-e9bdf3a0734f"
      },
      "source": [
        "division_columna_por_2_umbrales(df_train_transformado, 'minutes', 90, 350)"
      ],
      "execution_count": null,
      "outputs": [
        {
          "output_type": "stream",
          "text": [
            "Seccion 1: \n",
            "2.0 - 90 min : 680154\n",
            "Porcentaje: 70.00458 %\n",
            "\n",
            "Seccion 2: \n",
            "90 - 350 min : 244238\n",
            "Porcentaje: 25.1381 %\n",
            "\n",
            "Seccion 3: \n",
            "350 - 25252.0 min : 47193\n",
            "Porcentaje: 4.85732 %\n"
          ],
          "name": "stdout"
        }
      ]
    },
    {
      "cell_type": "code",
      "metadata": {
        "id": "gk8LVhFoUs3k"
      },
      "source": [
        "df_0_90_min = df_train_transformado[df_train_transformado[\"minutes\"] <= 90].copy()\n",
        "list_content_ids = df_0_90_min[\"content_id\"].unique()\n",
        "list_content_ids = list_content_ids.tolist()"
      ],
      "execution_count": null,
      "outputs": []
    },
    {
      "cell_type": "code",
      "metadata": {
        "colab": {
          "base_uri": "https://localhost:8080/",
          "height": 204
        },
        "id": "7873YjMAym_C",
        "outputId": "558a2089-1337-4e70-9d06-7d9bc926c0d2"
      },
      "source": [
        "df_metadata = pd.read_csv(ruta_metadata, sep=';')\n",
        "df_metadata_filtrado_0_90_min = df_metadata[df_metadata[\"content_id\"].isin(list_content_ids)]\n",
        "columnas_necesarias = [\"content_id\",\"show_type\",\"audience\",\"country_of_origin\",\"category\"]\n",
        "df_metadata_filtrado_0_90_min = df_metadata_filtrado_0_90_min[columnas_necesarias]"
      ],
      "execution_count": null,
      "outputs": [
        {
          "output_type": "execute_result",
          "data": {
            "text/html": [
              "<div>\n",
              "<style scoped>\n",
              "    .dataframe tbody tr th:only-of-type {\n",
              "        vertical-align: middle;\n",
              "    }\n",
              "\n",
              "    .dataframe tbody tr th {\n",
              "        vertical-align: top;\n",
              "    }\n",
              "\n",
              "    .dataframe thead th {\n",
              "        text-align: right;\n",
              "    }\n",
              "</style>\n",
              "<table border=\"1\" class=\"dataframe\">\n",
              "  <thead>\n",
              "    <tr style=\"text-align: right;\">\n",
              "      <th></th>\n",
              "      <th>content_id</th>\n",
              "      <th>show_type</th>\n",
              "      <th>audience</th>\n",
              "      <th>country_of_origin</th>\n",
              "      <th>category</th>\n",
              "    </tr>\n",
              "  </thead>\n",
              "  <tbody>\n",
              "    <tr>\n",
              "      <th>0</th>\n",
              "      <td>0.0</td>\n",
              "      <td>Serie</td>\n",
              "      <td>General</td>\n",
              "      <td>AR</td>\n",
              "      <td>Drama</td>\n",
              "    </tr>\n",
              "    <tr>\n",
              "      <th>1</th>\n",
              "      <td>1.0</td>\n",
              "      <td>Película</td>\n",
              "      <td>General</td>\n",
              "      <td>PY</td>\n",
              "      <td>Suspenso/Acción</td>\n",
              "    </tr>\n",
              "    <tr>\n",
              "      <th>3</th>\n",
              "      <td>3.0</td>\n",
              "      <td>Película</td>\n",
              "      <td>General</td>\n",
              "      <td>CL</td>\n",
              "      <td>Drama</td>\n",
              "    </tr>\n",
              "    <tr>\n",
              "      <th>6</th>\n",
              "      <td>6.0</td>\n",
              "      <td>Serie</td>\n",
              "      <td>Juvenil</td>\n",
              "      <td>GB</td>\n",
              "      <td>Aventura/Fantasía</td>\n",
              "    </tr>\n",
              "    <tr>\n",
              "      <th>7</th>\n",
              "      <td>7.0</td>\n",
              "      <td>TV</td>\n",
              "      <td>General</td>\n",
              "      <td>AR</td>\n",
              "      <td>Interés General/Espectáculo</td>\n",
              "    </tr>\n",
              "  </tbody>\n",
              "</table>\n",
              "</div>"
            ],
            "text/plain": [
              "   content_id show_type audience country_of_origin                     category\n",
              "0         0.0     Serie  General                AR                        Drama\n",
              "1         1.0  Película  General                PY              Suspenso/Acción\n",
              "3         3.0  Película  General                CL                        Drama\n",
              "6         6.0     Serie  Juvenil                GB            Aventura/Fantasía\n",
              "7         7.0        TV  General                AR  Interés General/Espectáculo"
            ]
          },
          "metadata": {
            "tags": []
          },
          "execution_count": 113
        }
      ]
    },
    {
      "cell_type": "code",
      "metadata": {
        "id": "m5FdqRKlys3Q"
      },
      "source": [
        "conjunto_cols = {}\n",
        "conjunto_cols[\"show_type\"] = pd.Series.mode\n",
        "conjunto_cols[\"audience\"] = pd.Series.mode\n",
        "conjunto_cols[\"country_of_origin\"] = pd.Series.mode\n",
        "conjunto_cols[\"category\"] = pd.Series.mode\n",
        "df_metadata_filtrado_0_90_min = df_metadata_filtrado_0_90_min.groupby(['content_id'], as_index=False).agg(conjunto_cols)"
      ],
      "execution_count": null,
      "outputs": []
    },
    {
      "cell_type": "code",
      "metadata": {
        "id": "CG1TKSOSyzFX"
      },
      "source": [
        "df_metadata_filtrado_0_90_min[\"show_type\"] = df_metadata_filtrado_0_90_min[\"show_type\"].astype(str)\n",
        "df_metadata_filtrado_0_90_min[\"audience\"] = df_metadata_filtrado_0_90_min[\"audience\"].astype(str)\n",
        "df_metadata_filtrado_0_90_min[\"country_of_origin\"] = df_metadata_filtrado_0_90_min[\"country_of_origin\"].astype(str)\n",
        "df_metadata_filtrado_0_90_min[\"category\"] = df_metadata_filtrado_0_90_min[\"category\"].astype(str)"
      ],
      "execution_count": null,
      "outputs": []
    },
    {
      "cell_type": "markdown",
      "metadata": {
        "id": "aPi3MjnfzFp3"
      },
      "source": [
        "La gran mayoria de visualizaciones entre 0 y 90 min corresponden a peliculas"
      ]
    },
    {
      "cell_type": "code",
      "metadata": {
        "colab": {
          "base_uri": "https://localhost:8080/",
          "height": 533
        },
        "id": "6Gc7sTZ7y2xf",
        "outputId": "fe1a3d3f-29a5-4e9c-a632-039da0357800"
      },
      "source": [
        "plt.figure(figsize=(23,8))\n",
        "sns.countplot(df_metadata_filtrado_0_90_min[\"show_type\"])\n",
        "plt.show()\n",
        "\n",
        "print(\"Moda de categoria: \"+df_metadata_filtrado_0_90_min[\"category\"].mode()[0])"
      ],
      "execution_count": null,
      "outputs": [
        {
          "output_type": "stream",
          "text": [
            "/usr/local/lib/python3.7/dist-packages/seaborn/_decorators.py:43: FutureWarning: Pass the following variable as a keyword arg: x. From version 0.12, the only valid positional argument will be `data`, and passing other arguments without an explicit keyword will result in an error or misinterpretation.\n",
            "  FutureWarning\n"
          ],
          "name": "stderr"
        },
        {
          "output_type": "display_data",
          "data": {
            "image/png": "[encoded data removed]",
            "text/plain": [
              "<Figure size 1656x576 with 1 Axes>"
            ]
          },
          "metadata": {
            "tags": [],
            "needs_background": "light"
          }
        },
        {
          "output_type": "stream",
          "text": [
            "Moda de categoria: Drama\n"
          ],
          "name": "stdout"
        }
      ]
    },
    {
      "cell_type": "markdown",
      "metadata": {
        "id": "0g74F818zbZH"
      },
      "source": [
        "Ahora voy a probar con el filtro de 90-350 min, donde, deberian aparecer mas series que peliculas porque una pelicula por lo general no dura mas de 2 horas"
      ]
    },
    {
      "cell_type": "code",
      "metadata": {
        "id": "6Ay5RgdMejKl"
      },
      "source": [
        "mask1 = df_train_transformado[\"minutes\"] > 90\n",
        "mask2 = df_train_transformado[\"minutes\"] <= 350\n",
        "mask = mask1 & mask2\n",
        "df_90_350_min = df_train_transformado[mask].copy()\n",
        "list_content_ids_2 = df_90_350_min[\"content_id\"].unique()\n",
        "list_content_ids_2 = list_content_ids_2.tolist()"
      ],
      "execution_count": null,
      "outputs": []
    },
    {
      "cell_type": "code",
      "metadata": {
        "id": "Z3L14zFZe53V"
      },
      "source": [
        "df_metadata = pd.read_csv(ruta_metadata, sep=';')\n",
        "df_metadata_filtrado_90_350_min = df_metadata[df_metadata[\"content_id\"].isin(list_content_ids_2)]\n",
        "columnas_necesarias = [\"content_id\",\"show_type\",\"audience\",\"country_of_origin\",\"category\"]\n",
        "df_metadata_filtrado_90_350_min = df_metadata_filtrado_90_350_min[columnas_necesarias]"
      ],
      "execution_count": null,
      "outputs": []
    },
    {
      "cell_type": "code",
      "metadata": {
        "id": "xQTA32VDfL8R"
      },
      "source": [
        "conjunto_cols = {}\n",
        "conjunto_cols[\"show_type\"] = pd.Series.mode\n",
        "conjunto_cols[\"audience\"] = pd.Series.mode\n",
        "conjunto_cols[\"country_of_origin\"] = pd.Series.mode\n",
        "conjunto_cols[\"category\"] = pd.Series.mode\n",
        "df_metadata_filtrado_90_350_min = df_metadata_filtrado_90_350_min.groupby(['content_id'], as_index=False).agg(conjunto_cols)"
      ],
      "execution_count": null,
      "outputs": []
    },
    {
      "cell_type": "code",
      "metadata": {
        "colab": {
          "base_uri": "https://localhost:8080/"
        },
        "id": "QMMzC8p7fWfa",
        "outputId": "4dd7ca06-060d-40a0-cfcc-1a9cdc27b05d"
      },
      "source": [
        "df_metadata_filtrado_90_350_min.shape"
      ],
      "execution_count": null,
      "outputs": [
        {
          "output_type": "execute_result",
          "data": {
            "text/plain": [
              "(3702, 5)"
            ]
          },
          "metadata": {
            "tags": []
          },
          "execution_count": 121
        }
      ]
    },
    {
      "cell_type": "code",
      "metadata": {
        "id": "jAGXXQ9bfajE"
      },
      "source": [
        "df_metadata_filtrado_90_350_min[\"show_type\"] = df_metadata_filtrado_90_350_min[\"show_type\"].astype(str)\n",
        "df_metadata_filtrado_90_350_min[\"audience\"] = df_metadata_filtrado_90_350_min[\"audience\"].astype(str)\n",
        "df_metadata_filtrado_90_350_min[\"country_of_origin\"] = df_metadata_filtrado_90_350_min[\"country_of_origin\"].astype(str)\n",
        "df_metadata_filtrado_90_350_min[\"category\"] = df_metadata_filtrado_90_350_min[\"category\"].astype(str)"
      ],
      "execution_count": null,
      "outputs": []
    },
    {
      "cell_type": "markdown",
      "metadata": {
        "id": "ZT4oqnM8z5vD"
      },
      "source": [
        "Las peliculas siguen abarcando las visualizaciones a pesar de la diferencia temporal, se volvio un patron y puede deberse a algunas cuestiones:\n",
        "\n",
        "* Los clientes prefieren contenido para ver 1 sola vez sin preocuparse por mantenerse al tanto del contenido \n",
        "* La publicidad se enfoca en ver peliculas pero no habla sobre las series"
      ]
    },
    {
      "cell_type": "code",
      "metadata": {
        "colab": {
          "base_uri": "https://localhost:8080/",
          "height": 533
        },
        "id": "hgcEqAhBfnth",
        "outputId": "15b7cded-377d-49e1-b349-34d5d35930b6"
      },
      "source": [
        "plt.figure(figsize=(23,8))\n",
        "sns.countplot(df_metadata_filtrado_90_350_min[\"show_type\"])\n",
        "plt.show()\n",
        "\n",
        "print(\"Moda de categoria: \"+df_metadata_filtrado_90_350_min[\"category\"].mode()[0])"
      ],
      "execution_count": null,
      "outputs": [
        {
          "output_type": "stream",
          "text": [
            "/usr/local/lib/python3.7/dist-packages/seaborn/_decorators.py:43: FutureWarning: Pass the following variable as a keyword arg: x. From version 0.12, the only valid positional argument will be `data`, and passing other arguments without an explicit keyword will result in an error or misinterpretation.\n",
            "  FutureWarning\n"
          ],
          "name": "stderr"
        },
        {
          "output_type": "display_data",
          "data": {
            "image/png": "[encoded data removed]",
            "text/plain": [
              "<Figure size 1656x576 with 1 Axes>"
            ]
          },
          "metadata": {
            "tags": [],
            "needs_background": "light"
          }
        },
        {
          "output_type": "stream",
          "text": [
            "Moda de categoria: Drama\n"
          ],
          "name": "stdout"
        }
      ]
    },
    {
      "cell_type": "markdown",
      "metadata": {
        "id": "ci9-u_u6Hp38"
      },
      "source": [
        "**Conclusion: **\n",
        "\n",
        "Las peliculas son las que generan mas visualizaciones"
      ]
    },
    {
      "cell_type": "markdown",
      "metadata": {
        "id": "SdVmL67_UF5L"
      },
      "source": [
        "# **Agrupamiento / Clustering de contenidos**"
      ]
    },
    {
      "cell_type": "markdown",
      "metadata": {
        "id": "LlBgRYAyybkj"
      },
      "source": [
        "Los sistemas de recomendación (SR) se utilizan ampliamente para proporcionar sugerencias automáticas personalizadas de información, productos y servicios. El filtrado colaborativo (FC) es una de las técnicas de recomendación más populares. Sin embargo, con el rápido crecimiento de la Web en términos de usuarios y elementos, la mayoría de los RS que utilizan la técnica FC sufren problemas como la escasez de datos y la escalabilidad. En este insight voy a prsentar un SR basado en técnicas de agrupación de datos para abordar el problema de escalabilidad asociado a la tarea de recomendación.\n",
        "\n",
        "El trabajo propuesto utiliza el algoritmo de agrupación KMeans para agrupar a los contenidos, y luego implementar algoritmos de votación para recomendar elementos al usuario según el/los clúster/es al que pertenece/n su historial de visualizacion. \n",
        "\n",
        "El objetivo es mejorar el tiempo de ejecución así como mantener una calidad de recomendación aceptable."
      ]
    },
    {
      "cell_type": "markdown",
      "metadata": {
        "id": "jnYNd1Lj0ba_"
      },
      "source": [
        "**Importacion de herramientas**"
      ]
    },
    {
      "cell_type": "code",
      "metadata": {
        "id": "L_VcQ45_Mg6l"
      },
      "source": [
        "from sklearn.cluster import KMeans\n",
        "from sklearn.metrics import silhouette_score\n",
        "from sklearn.decomposition import PCA"
      ],
      "execution_count": null,
      "outputs": []
    },
    {
      "cell_type": "markdown",
      "metadata": {
        "id": "1mhb49-70mu8"
      },
      "source": [
        "**Cargando el metadata**"
      ]
    },
    {
      "cell_type": "code",
      "metadata": {
        "colab": {
          "base_uri": "https://localhost:8080/",
          "height": 564
        },
        "id": "xvx879-UUKJD",
        "outputId": "a1df5e53-4c88-4ac8-f05a-0dc7441e3866"
      },
      "source": [
        "df_metadata = pd.read_csv(ruta_metadata, sep=';')\n",
        "df_metadata.head()"
      ],
      "execution_count": null,
      "outputs": [
        {
          "output_type": "execute_result",
          "data": {
            "text/html": [
              "<div>\n",
              "<style scoped>\n",
              "    .dataframe tbody tr th:only-of-type {\n",
              "        vertical-align: middle;\n",
              "    }\n",
              "\n",
              "    .dataframe tbody tr th {\n",
              "        vertical-align: top;\n",
              "    }\n",
              "\n",
              "    .dataframe thead th {\n",
              "        text-align: right;\n",
              "    }\n",
              "</style>\n",
              "<table border=\"1\" class=\"dataframe\">\n",
              "  <thead>\n",
              "    <tr style=\"text-align: right;\">\n",
              "      <th></th>\n",
              "      <th>asset_id</th>\n",
              "      <th>content_id</th>\n",
              "      <th>title</th>\n",
              "      <th>reduced_title</th>\n",
              "      <th>episode_title</th>\n",
              "      <th>show_type</th>\n",
              "      <th>released_year</th>\n",
              "      <th>country_of_origin</th>\n",
              "      <th>category</th>\n",
              "      <th>keywords</th>\n",
              "      <th>description</th>\n",
              "      <th>reduced_desc</th>\n",
              "      <th>cast_first_name</th>\n",
              "      <th>credits_first_name</th>\n",
              "      <th>run_time_min</th>\n",
              "      <th>audience</th>\n",
              "      <th>made_for_tv</th>\n",
              "      <th>close_caption</th>\n",
              "      <th>sex_rating</th>\n",
              "      <th>violence_rating</th>\n",
              "      <th>language_rating</th>\n",
              "      <th>dialog_rating</th>\n",
              "      <th>fv_rating</th>\n",
              "      <th>pay_per_view</th>\n",
              "      <th>pack_premium_1</th>\n",
              "      <th>pack_premium_2</th>\n",
              "      <th>create_date</th>\n",
              "      <th>modify_date</th>\n",
              "      <th>start_vod_date</th>\n",
              "      <th>end_vod_date</th>\n",
              "    </tr>\n",
              "  </thead>\n",
              "  <tbody>\n",
              "    <tr>\n",
              "      <th>0</th>\n",
              "      <td>15188</td>\n",
              "      <td>0.0</td>\n",
              "      <td>Ep:17 Tiempos Compulsivos</td>\n",
              "      <td>Tiempos_Compul_E17</td>\n",
              "      <td>Episodio 17</td>\n",
              "      <td>Serie</td>\n",
              "      <td>2012.0</td>\n",
              "      <td>AR</td>\n",
              "      <td>Drama</td>\n",
              "      <td>Trastornos,Médicos,Tragicómica,Telenovela,Enfe...</td>\n",
              "      <td>Esteban recibe una noticia inesperada: va a se...</td>\n",
              "      <td>Esteban recibe una noticia inesperada: va a se...</td>\n",
              "      <td>Rodrigo De la Serna, Paola Krum, Fernán Mirás,...</td>\n",
              "      <td>Daniel Barone</td>\n",
              "      <td>48.0</td>\n",
              "      <td>General</td>\n",
              "      <td>N</td>\n",
              "      <td>N</td>\n",
              "      <td>N</td>\n",
              "      <td>N</td>\n",
              "      <td>N</td>\n",
              "      <td>N</td>\n",
              "      <td>N</td>\n",
              "      <td>N</td>\n",
              "      <td>N</td>\n",
              "      <td>N</td>\n",
              "      <td>2017-12-01T10:18:15.0Z</td>\n",
              "      <td>2019-01-26T06:37:18.0Z</td>\n",
              "      <td>2017-12-01T00:00:00.0Z</td>\n",
              "      <td>2020-12-01T23:59:59.0Z</td>\n",
              "    </tr>\n",
              "    <tr>\n",
              "      <th>1</th>\n",
              "      <td>24940</td>\n",
              "      <td>1.0</td>\n",
              "      <td>7 Cajas</td>\n",
              "      <td>7_Cajas</td>\n",
              "      <td>NaN</td>\n",
              "      <td>Película</td>\n",
              "      <td>2012.0</td>\n",
              "      <td>PY</td>\n",
              "      <td>Suspenso/Acción</td>\n",
              "      <td>Latinoamérica,Pobreza,Crimen,Pandillas</td>\n",
              "      <td>Víctor trabaja como carretillero. Un día recib...</td>\n",
              "      <td>Trabajando como carretillero, Víctor recibe un...</td>\n",
              "      <td>Celso Franco, Víctor Sosa, Lali Gonzalez</td>\n",
              "      <td>Juan Carlos Maneglia</td>\n",
              "      <td>105.0</td>\n",
              "      <td>General</td>\n",
              "      <td>N</td>\n",
              "      <td>N</td>\n",
              "      <td>N</td>\n",
              "      <td>N</td>\n",
              "      <td>N</td>\n",
              "      <td>N</td>\n",
              "      <td>N</td>\n",
              "      <td>Y</td>\n",
              "      <td>N</td>\n",
              "      <td>N</td>\n",
              "      <td>2017-12-19T20:58:15.0Z</td>\n",
              "      <td>2019-09-17T19:02:03.0Z</td>\n",
              "      <td>2017-12-15T00:00:00.0Z</td>\n",
              "      <td>2022-12-14T23:59:59.0Z</td>\n",
              "    </tr>\n",
              "    <tr>\n",
              "      <th>2</th>\n",
              "      <td>21939</td>\n",
              "      <td>2.0</td>\n",
              "      <td>La Maldición de las Hormigas Gigantes</td>\n",
              "      <td>La_Maldicion_de_las</td>\n",
              "      <td>NaN</td>\n",
              "      <td>Película</td>\n",
              "      <td>2016.0</td>\n",
              "      <td>FI</td>\n",
              "      <td>Terror/Comedia</td>\n",
              "      <td>Criaturas,Plagas,Adolescentes,Fantasía,Video J...</td>\n",
              "      <td>Un grupo de motociclistas busca diversión el d...</td>\n",
              "      <td>Un grupo de motociclistas descubre un laborato...</td>\n",
              "      <td>Mark Arnold, Harry Lister Smith, Vanessa Grass...</td>\n",
              "      <td>Marko Mäkilaakso</td>\n",
              "      <td>82.0</td>\n",
              "      <td>Juvenil</td>\n",
              "      <td>Y</td>\n",
              "      <td>N</td>\n",
              "      <td>N</td>\n",
              "      <td>N</td>\n",
              "      <td>N</td>\n",
              "      <td>N</td>\n",
              "      <td>N</td>\n",
              "      <td>N</td>\n",
              "      <td>N</td>\n",
              "      <td>N</td>\n",
              "      <td>2018-02-16T13:51:07.0Z</td>\n",
              "      <td>2020-04-28T14:16:38.0Z</td>\n",
              "      <td>2018-01-25T00:00:00.0Z</td>\n",
              "      <td>2020-12-01T23:59:59.0Z</td>\n",
              "    </tr>\n",
              "    <tr>\n",
              "      <th>3</th>\n",
              "      <td>9005</td>\n",
              "      <td>3.0</td>\n",
              "      <td>Una Mujer Fantástica</td>\n",
              "      <td>Una_Mujer_Fantastic</td>\n",
              "      <td>NaN</td>\n",
              "      <td>Película</td>\n",
              "      <td>2017.0</td>\n",
              "      <td>CL</td>\n",
              "      <td>Drama</td>\n",
              "      <td>LGBT,Mujeres,Latinoamérica</td>\n",
              "      <td>Marina y Orlando están enamorados y planean un...</td>\n",
              "      <td>Marina y Orlando están enamorados. Pero cuando...</td>\n",
              "      <td>Daniela Vega, Francisco Reyes, Luis Gnecco, Am...</td>\n",
              "      <td>Sebastián Lelio</td>\n",
              "      <td>99.0</td>\n",
              "      <td>General</td>\n",
              "      <td>N</td>\n",
              "      <td>N</td>\n",
              "      <td>N</td>\n",
              "      <td>N</td>\n",
              "      <td>N</td>\n",
              "      <td>N</td>\n",
              "      <td>N</td>\n",
              "      <td>N</td>\n",
              "      <td>Y</td>\n",
              "      <td>N</td>\n",
              "      <td>2018-05-26T11:58:44.0Z</td>\n",
              "      <td>2019-11-15T03:00:23.0Z</td>\n",
              "      <td>2018-05-27T00:00:00.0Z</td>\n",
              "      <td>2021-04-30T23:59:59.0Z</td>\n",
              "    </tr>\n",
              "    <tr>\n",
              "      <th>4</th>\n",
              "      <td>7391</td>\n",
              "      <td>4.0</td>\n",
              "      <td>Star Trek</td>\n",
              "      <td>Star_Trek</td>\n",
              "      <td>NaN</td>\n",
              "      <td>Película</td>\n",
              "      <td>2009.0</td>\n",
              "      <td>US</td>\n",
              "      <td>Ciencia Ficción/Aventura</td>\n",
              "      <td>Fantasía,Galaxia,Futurismo,Aliens,Criaturas</td>\n",
              "      <td>El descarado James T. Kirk trata de estar a la...</td>\n",
              "      <td>James T. Kirk trata de estar a la altura del l...</td>\n",
              "      <td>Chris Pine, Zachary Quinto, Leonard Nimoy, Eri...</td>\n",
              "      <td>J.J. Abrams</td>\n",
              "      <td>126.0</td>\n",
              "      <td>General</td>\n",
              "      <td>N</td>\n",
              "      <td>N</td>\n",
              "      <td>N</td>\n",
              "      <td>N</td>\n",
              "      <td>N</td>\n",
              "      <td>N</td>\n",
              "      <td>N</td>\n",
              "      <td>Y</td>\n",
              "      <td>N</td>\n",
              "      <td>N</td>\n",
              "      <td>2019-05-03T20:07:24.0Z</td>\n",
              "      <td>2020-04-09T04:37:29.0Z</td>\n",
              "      <td>2019-05-02T00:00:00.0Z</td>\n",
              "      <td>2020-12-31T23:59:59.0Z</td>\n",
              "    </tr>\n",
              "  </tbody>\n",
              "</table>\n",
              "</div>"
            ],
            "text/plain": [
              "   asset_id  content_id  ...          start_vod_date            end_vod_date\n",
              "0     15188         0.0  ...  2017-12-01T00:00:00.0Z  2020-12-01T23:59:59.0Z\n",
              "1     24940         1.0  ...  2017-12-15T00:00:00.0Z  2022-12-14T23:59:59.0Z\n",
              "2     21939         2.0  ...  2018-01-25T00:00:00.0Z  2020-12-01T23:59:59.0Z\n",
              "3      9005         3.0  ...  2018-05-27T00:00:00.0Z  2021-04-30T23:59:59.0Z\n",
              "4      7391         4.0  ...  2019-05-02T00:00:00.0Z  2020-12-31T23:59:59.0Z\n",
              "\n",
              "[5 rows x 30 columns]"
            ]
          },
          "metadata": {
            "tags": []
          },
          "execution_count": 4
        }
      ]
    },
    {
      "cell_type": "markdown",
      "metadata": {
        "id": "cxoNJqTDYx9-"
      },
      "source": [
        "**Valores faltantes**\n"
      ]
    },
    {
      "cell_type": "code",
      "metadata": {
        "colab": {
          "base_uri": "https://localhost:8080/"
        },
        "id": "YhszOIO_Y0zs",
        "outputId": "a556b7a5-695d-46e3-e453-74efc03f8636"
      },
      "source": [
        "df_metadata.isnull().sum()"
      ],
      "execution_count": null,
      "outputs": [
        {
          "output_type": "execute_result",
          "data": {
            "text/plain": [
              "asset_id                  0\n",
              "content_id               21\n",
              "title                     0\n",
              "reduced_title             0\n",
              "episode_title          4147\n",
              "show_type                 4\n",
              "released_year             0\n",
              "country_of_origin         4\n",
              "category                  0\n",
              "keywords                  2\n",
              "description               2\n",
              "reduced_desc              0\n",
              "cast_first_name        8732\n",
              "credits_first_name    12554\n",
              "run_time_min              0\n",
              "audience                  1\n",
              "made_for_tv               0\n",
              "close_caption             0\n",
              "sex_rating                0\n",
              "violence_rating           0\n",
              "language_rating           0\n",
              "dialog_rating             0\n",
              "fv_rating                 0\n",
              "pay_per_view              0\n",
              "pack_premium_1            0\n",
              "pack_premium_2            0\n",
              "create_date               0\n",
              "modify_date               0\n",
              "start_vod_date            0\n",
              "end_vod_date              0\n",
              "dtype: int64"
            ]
          },
          "metadata": {
            "tags": []
          },
          "execution_count": 5
        }
      ]
    },
    {
      "cell_type": "markdown",
      "metadata": {
        "id": "KvD029Td0vpW"
      },
      "source": [
        "A continuacion voy a eliminar las columnas que no aportan informacion relevante"
      ]
    },
    {
      "cell_type": "code",
      "metadata": {
        "id": "GKkKnStdZBca"
      },
      "source": [
        "df_metadata.drop(columns=[\"episode_title\", \"description\", \"cast_first_name\", \"credits_first_name\"], inplace=True)"
      ],
      "execution_count": null,
      "outputs": []
    },
    {
      "cell_type": "code",
      "metadata": {
        "id": "n4h42gKUZAGM"
      },
      "source": [
        "def imputar_faltantes_por_moda(dataset, columna):\n",
        "  moda = dataset[columna].value_counts().index[0]\n",
        "  dataset[columna] = dataset[columna].fillna(moda)"
      ],
      "execution_count": null,
      "outputs": []
    },
    {
      "cell_type": "markdown",
      "metadata": {
        "id": "FgmUhHvf05cz"
      },
      "source": [
        "Limpieza de datos faltantes"
      ]
    },
    {
      "cell_type": "code",
      "metadata": {
        "id": "fUK2gnFKY8ES"
      },
      "source": [
        "imputar_faltantes_por_moda(df_metadata,\"content_id\")\n",
        "imputar_faltantes_por_moda(df_metadata,\"show_type\")\n",
        "imputar_faltantes_por_moda(df_metadata,\"country_of_origin\")\n",
        "imputar_faltantes_por_moda(df_metadata,\"audience\")\n",
        "df_metadata[\"keywords\"].fillna('', inplace=True)"
      ],
      "execution_count": null,
      "outputs": []
    },
    {
      "cell_type": "code",
      "metadata": {
        "colab": {
          "base_uri": "https://localhost:8080/"
        },
        "id": "qpU25dQ5ZHFX",
        "outputId": "30b6ef85-bb33-4f00-f274-555c788994e7"
      },
      "source": [
        "df_metadata.isnull().sum()"
      ],
      "execution_count": null,
      "outputs": [
        {
          "output_type": "execute_result",
          "data": {
            "text/plain": [
              "asset_id             0\n",
              "content_id           0\n",
              "title                0\n",
              "reduced_title        0\n",
              "show_type            0\n",
              "released_year        0\n",
              "country_of_origin    0\n",
              "category             0\n",
              "keywords             0\n",
              "reduced_desc         0\n",
              "run_time_min         0\n",
              "audience             0\n",
              "made_for_tv          0\n",
              "close_caption        0\n",
              "sex_rating           0\n",
              "violence_rating      0\n",
              "language_rating      0\n",
              "dialog_rating        0\n",
              "fv_rating            0\n",
              "pay_per_view         0\n",
              "pack_premium_1       0\n",
              "pack_premium_2       0\n",
              "create_date          0\n",
              "modify_date          0\n",
              "start_vod_date       0\n",
              "end_vod_date         0\n",
              "dtype: int64"
            ]
          },
          "metadata": {
            "tags": []
          },
          "execution_count": 9
        }
      ]
    },
    {
      "cell_type": "markdown",
      "metadata": {
        "id": "p_IuU7IJ084m"
      },
      "source": [
        "Estas son las columnas relevantes para hacer el agrupamiento"
      ]
    },
    {
      "cell_type": "code",
      "metadata": {
        "colab": {
          "base_uri": "https://localhost:8080/",
          "height": 204
        },
        "id": "Du5mgpIUZJda",
        "outputId": "3ec0797d-0d9d-4b4c-92b2-6cec8ee24e5f"
      },
      "source": [
        "df_metadata[[\"show_type\", \"category\", \"audience\"]].head()"
      ],
      "execution_count": null,
      "outputs": [
        {
          "output_type": "execute_result",
          "data": {
            "text/html": [
              "<div>\n",
              "<style scoped>\n",
              "    .dataframe tbody tr th:only-of-type {\n",
              "        vertical-align: middle;\n",
              "    }\n",
              "\n",
              "    .dataframe tbody tr th {\n",
              "        vertical-align: top;\n",
              "    }\n",
              "\n",
              "    .dataframe thead th {\n",
              "        text-align: right;\n",
              "    }\n",
              "</style>\n",
              "<table border=\"1\" class=\"dataframe\">\n",
              "  <thead>\n",
              "    <tr style=\"text-align: right;\">\n",
              "      <th></th>\n",
              "      <th>show_type</th>\n",
              "      <th>category</th>\n",
              "      <th>audience</th>\n",
              "    </tr>\n",
              "  </thead>\n",
              "  <tbody>\n",
              "    <tr>\n",
              "      <th>0</th>\n",
              "      <td>Serie</td>\n",
              "      <td>Drama</td>\n",
              "      <td>General</td>\n",
              "    </tr>\n",
              "    <tr>\n",
              "      <th>1</th>\n",
              "      <td>Película</td>\n",
              "      <td>Suspenso/Acción</td>\n",
              "      <td>General</td>\n",
              "    </tr>\n",
              "    <tr>\n",
              "      <th>2</th>\n",
              "      <td>Película</td>\n",
              "      <td>Terror/Comedia</td>\n",
              "      <td>Juvenil</td>\n",
              "    </tr>\n",
              "    <tr>\n",
              "      <th>3</th>\n",
              "      <td>Película</td>\n",
              "      <td>Drama</td>\n",
              "      <td>General</td>\n",
              "    </tr>\n",
              "    <tr>\n",
              "      <th>4</th>\n",
              "      <td>Película</td>\n",
              "      <td>Ciencia Ficción/Aventura</td>\n",
              "      <td>General</td>\n",
              "    </tr>\n",
              "  </tbody>\n",
              "</table>\n",
              "</div>"
            ],
            "text/plain": [
              "  show_type                  category audience\n",
              "0     Serie                     Drama  General\n",
              "1  Película           Suspenso/Acción  General\n",
              "2  Película            Terror/Comedia  Juvenil\n",
              "3  Película                     Drama  General\n",
              "4  Película  Ciencia Ficción/Aventura  General"
            ]
          },
          "metadata": {
            "tags": []
          },
          "execution_count": 10
        }
      ]
    },
    {
      "cell_type": "markdown",
      "metadata": {
        "id": "hA2kQ3UD1CxI"
      },
      "source": [
        "Primero codifico la columna \"show_type\" en columnas binarias porque no hay ninguna jerarquia entre ellas"
      ]
    },
    {
      "cell_type": "code",
      "metadata": {
        "colab": {
          "base_uri": "https://localhost:8080/",
          "height": 204
        },
        "id": "kAdO6ltTZK_k",
        "outputId": "15e42b0d-63bc-41fc-8fab-f74ff3fdc778"
      },
      "source": [
        "df_show_type = df_metadata[\"show_type\"].copy()\n",
        "df_show_type = pd.DataFrame(df_show_type, columns=[\"show_type\"])\n",
        "df_show_type = pd.get_dummies(df_metadata[\"show_type\"], prefix='show_type_')\n",
        "df_show_type.head()"
      ],
      "execution_count": null,
      "outputs": [
        {
          "output_type": "execute_result",
          "data": {
            "text/html": [
              "<div>\n",
              "<style scoped>\n",
              "    .dataframe tbody tr th:only-of-type {\n",
              "        vertical-align: middle;\n",
              "    }\n",
              "\n",
              "    .dataframe tbody tr th {\n",
              "        vertical-align: top;\n",
              "    }\n",
              "\n",
              "    .dataframe thead th {\n",
              "        text-align: right;\n",
              "    }\n",
              "</style>\n",
              "<table border=\"1\" class=\"dataframe\">\n",
              "  <thead>\n",
              "    <tr style=\"text-align: right;\">\n",
              "      <th></th>\n",
              "      <th>show_type__Gaming</th>\n",
              "      <th>show_type__Película</th>\n",
              "      <th>show_type__Rolling</th>\n",
              "      <th>show_type__Serie</th>\n",
              "      <th>show_type__Series,Serie</th>\n",
              "      <th>show_type__TV</th>\n",
              "      <th>show_type__Tutorial</th>\n",
              "      <th>show_type__Web</th>\n",
              "    </tr>\n",
              "  </thead>\n",
              "  <tbody>\n",
              "    <tr>\n",
              "      <th>0</th>\n",
              "      <td>0</td>\n",
              "      <td>0</td>\n",
              "      <td>0</td>\n",
              "      <td>1</td>\n",
              "      <td>0</td>\n",
              "      <td>0</td>\n",
              "      <td>0</td>\n",
              "      <td>0</td>\n",
              "    </tr>\n",
              "    <tr>\n",
              "      <th>1</th>\n",
              "      <td>0</td>\n",
              "      <td>1</td>\n",
              "      <td>0</td>\n",
              "      <td>0</td>\n",
              "      <td>0</td>\n",
              "      <td>0</td>\n",
              "      <td>0</td>\n",
              "      <td>0</td>\n",
              "    </tr>\n",
              "    <tr>\n",
              "      <th>2</th>\n",
              "      <td>0</td>\n",
              "      <td>1</td>\n",
              "      <td>0</td>\n",
              "      <td>0</td>\n",
              "      <td>0</td>\n",
              "      <td>0</td>\n",
              "      <td>0</td>\n",
              "      <td>0</td>\n",
              "    </tr>\n",
              "    <tr>\n",
              "      <th>3</th>\n",
              "      <td>0</td>\n",
              "      <td>1</td>\n",
              "      <td>0</td>\n",
              "      <td>0</td>\n",
              "      <td>0</td>\n",
              "      <td>0</td>\n",
              "      <td>0</td>\n",
              "      <td>0</td>\n",
              "    </tr>\n",
              "    <tr>\n",
              "      <th>4</th>\n",
              "      <td>0</td>\n",
              "      <td>1</td>\n",
              "      <td>0</td>\n",
              "      <td>0</td>\n",
              "      <td>0</td>\n",
              "      <td>0</td>\n",
              "      <td>0</td>\n",
              "      <td>0</td>\n",
              "    </tr>\n",
              "  </tbody>\n",
              "</table>\n",
              "</div>"
            ],
            "text/plain": [
              "   show_type__Gaming  show_type__Película  ...  show_type__Tutorial  show_type__Web\n",
              "0                  0                    0  ...                    0               0\n",
              "1                  0                    1  ...                    0               0\n",
              "2                  0                    1  ...                    0               0\n",
              "3                  0                    1  ...                    0               0\n",
              "4                  0                    1  ...                    0               0\n",
              "\n",
              "[5 rows x 8 columns]"
            ]
          },
          "metadata": {
            "tags": []
          },
          "execution_count": 11
        }
      ]
    },
    {
      "cell_type": "markdown",
      "metadata": {
        "id": "Uekzbh8Q1Oie"
      },
      "source": [
        "Primero codifico la columna \"audience\" en columnas binarias porque no hay ninguna jerarquia entre ellas"
      ]
    },
    {
      "cell_type": "code",
      "metadata": {
        "colab": {
          "base_uri": "https://localhost:8080/",
          "height": 204
        },
        "id": "r0ZSRPFqZOfa",
        "outputId": "0d625875-532e-4399-a86e-9f48df68ae00"
      },
      "source": [
        "df_audience = df_metadata[\"audience\"].copy()\n",
        "df_audience = pd.DataFrame(df_audience, columns=[\"audience\"])\n",
        "df_audience = pd.get_dummies(df_metadata[\"audience\"], prefix='aud_')\n",
        "df_audience.head()"
      ],
      "execution_count": null,
      "outputs": [
        {
          "output_type": "execute_result",
          "data": {
            "text/html": [
              "<div>\n",
              "<style scoped>\n",
              "    .dataframe tbody tr th:only-of-type {\n",
              "        vertical-align: middle;\n",
              "    }\n",
              "\n",
              "    .dataframe tbody tr th {\n",
              "        vertical-align: top;\n",
              "    }\n",
              "\n",
              "    .dataframe thead th {\n",
              "        text-align: right;\n",
              "    }\n",
              "</style>\n",
              "<table border=\"1\" class=\"dataframe\">\n",
              "  <thead>\n",
              "    <tr style=\"text-align: right;\">\n",
              "      <th></th>\n",
              "      <th>aud__Familiar</th>\n",
              "      <th>aud__Gaming</th>\n",
              "      <th>aud__General</th>\n",
              "      <th>aud__Hombres</th>\n",
              "      <th>aud__Juvenil</th>\n",
              "      <th>aud__Mujeres</th>\n",
              "      <th>aud__NIños</th>\n",
              "      <th>aud__Niños</th>\n",
              "      <th>aud__Preescolar</th>\n",
              "      <th>aud__Teens</th>\n",
              "    </tr>\n",
              "  </thead>\n",
              "  <tbody>\n",
              "    <tr>\n",
              "      <th>0</th>\n",
              "      <td>0</td>\n",
              "      <td>0</td>\n",
              "      <td>1</td>\n",
              "      <td>0</td>\n",
              "      <td>0</td>\n",
              "      <td>0</td>\n",
              "      <td>0</td>\n",
              "      <td>0</td>\n",
              "      <td>0</td>\n",
              "      <td>0</td>\n",
              "    </tr>\n",
              "    <tr>\n",
              "      <th>1</th>\n",
              "      <td>0</td>\n",
              "      <td>0</td>\n",
              "      <td>1</td>\n",
              "      <td>0</td>\n",
              "      <td>0</td>\n",
              "      <td>0</td>\n",
              "      <td>0</td>\n",
              "      <td>0</td>\n",
              "      <td>0</td>\n",
              "      <td>0</td>\n",
              "    </tr>\n",
              "    <tr>\n",
              "      <th>2</th>\n",
              "      <td>0</td>\n",
              "      <td>0</td>\n",
              "      <td>0</td>\n",
              "      <td>0</td>\n",
              "      <td>1</td>\n",
              "      <td>0</td>\n",
              "      <td>0</td>\n",
              "      <td>0</td>\n",
              "      <td>0</td>\n",
              "      <td>0</td>\n",
              "    </tr>\n",
              "    <tr>\n",
              "      <th>3</th>\n",
              "      <td>0</td>\n",
              "      <td>0</td>\n",
              "      <td>1</td>\n",
              "      <td>0</td>\n",
              "      <td>0</td>\n",
              "      <td>0</td>\n",
              "      <td>0</td>\n",
              "      <td>0</td>\n",
              "      <td>0</td>\n",
              "      <td>0</td>\n",
              "    </tr>\n",
              "    <tr>\n",
              "      <th>4</th>\n",
              "      <td>0</td>\n",
              "      <td>0</td>\n",
              "      <td>1</td>\n",
              "      <td>0</td>\n",
              "      <td>0</td>\n",
              "      <td>0</td>\n",
              "      <td>0</td>\n",
              "      <td>0</td>\n",
              "      <td>0</td>\n",
              "      <td>0</td>\n",
              "    </tr>\n",
              "  </tbody>\n",
              "</table>\n",
              "</div>"
            ],
            "text/plain": [
              "   aud__Familiar  aud__Gaming  ...  aud__Preescolar  aud__Teens\n",
              "0              0            0  ...                0           0\n",
              "1              0            0  ...                0           0\n",
              "2              0            0  ...                0           0\n",
              "3              0            0  ...                0           0\n",
              "4              0            0  ...                0           0\n",
              "\n",
              "[5 rows x 10 columns]"
            ]
          },
          "metadata": {
            "tags": []
          },
          "execution_count": 12
        }
      ]
    },
    {
      "cell_type": "markdown",
      "metadata": {
        "id": "QmBYdfgz1QsS"
      },
      "source": [
        "La columna categorias es un caso particular, un contenido puede tener multiples categorias (separadas por un \"/\"), entonces necesito una cabecera con todas las categorias posibles"
      ]
    },
    {
      "cell_type": "code",
      "metadata": {
        "id": "CJpKHj-zZSmi"
      },
      "source": [
        "categories = set()"
      ],
      "execution_count": null,
      "outputs": []
    },
    {
      "cell_type": "code",
      "metadata": {
        "colab": {
          "base_uri": "https://localhost:8080/"
        },
        "id": "vENkZZvuZUJ6",
        "outputId": "eb54f2d1-03b7-4bbf-c9c3-55325b08625a"
      },
      "source": [
        "df_metadata['category'].apply(lambda item: [categories.add('cat_'+x) for x in str(item).split('/')])"
      ],
      "execution_count": null,
      "outputs": [
        {
          "output_type": "execute_result",
          "data": {
            "text/plain": [
              "0              [None]\n",
              "1        [None, None]\n",
              "2        [None, None]\n",
              "3              [None]\n",
              "4        [None, None]\n",
              "             ...     \n",
              "33139    [None, None]\n",
              "33140    [None, None]\n",
              "33141    [None, None]\n",
              "33142    [None, None]\n",
              "33143    [None, None]\n",
              "Name: category, Length: 33144, dtype: object"
            ]
          },
          "metadata": {
            "tags": []
          },
          "execution_count": 14
        }
      ]
    },
    {
      "cell_type": "markdown",
      "metadata": {
        "id": "d9V7nb6v1jYQ"
      },
      "source": [
        "Hay 52 categorias en total"
      ]
    },
    {
      "cell_type": "code",
      "metadata": {
        "colab": {
          "base_uri": "https://localhost:8080/"
        },
        "id": "ndvSgHU3ZW0i",
        "outputId": "4c488374-d778-4c3e-9ebc-b12e11bdf137"
      },
      "source": [
        "categories = {x for x in categories if pd.notna(x) or x != ''}\n",
        "categories.discard('cat_')\n",
        "categories.discard('nan')\n",
        "len(categories)"
      ],
      "execution_count": null,
      "outputs": [
        {
          "output_type": "execute_result",
          "data": {
            "text/plain": [
              "52"
            ]
          },
          "metadata": {
            "tags": []
          },
          "execution_count": 15
        }
      ]
    },
    {
      "cell_type": "markdown",
      "metadata": {
        "id": "bxOr_htR1jBE"
      },
      "source": [
        "Esta es la cabecera"
      ]
    },
    {
      "cell_type": "code",
      "metadata": {
        "colab": {
          "base_uri": "https://localhost:8080/",
          "height": 86
        },
        "id": "a1MNOnpvZY0D",
        "outputId": "c74ad7f4-064d-49c1-d92c-0232efd7b259"
      },
      "source": [
        "categories_df = pd.DataFrame(columns=categories)\n",
        "categories_df.head()"
      ],
      "execution_count": null,
      "outputs": [
        {
          "output_type": "execute_result",
          "data": {
            "text/html": [
              "<div>\n",
              "<style scoped>\n",
              "    .dataframe tbody tr th:only-of-type {\n",
              "        vertical-align: middle;\n",
              "    }\n",
              "\n",
              "    .dataframe tbody tr th {\n",
              "        vertical-align: top;\n",
              "    }\n",
              "\n",
              "    .dataframe thead th {\n",
              "        text-align: right;\n",
              "    }\n",
              "</style>\n",
              "<table border=\"1\" class=\"dataframe\">\n",
              "  <thead>\n",
              "    <tr style=\"text-align: right;\">\n",
              "      <th></th>\n",
              "      <th>cat_Acción</th>\n",
              "      <th>cat_Ciencia ficción</th>\n",
              "      <th>cat_Espectáculo</th>\n",
              "      <th>cat_Música</th>\n",
              "      <th>cat_Deporte</th>\n",
              "      <th>cat_Magazine</th>\n",
              "      <th>cat_Naturaleza</th>\n",
              "      <th>cat_Fantasía</th>\n",
              "      <th>cat_Musical</th>\n",
              "      <th>cat_Historia</th>\n",
              "      <th>cat_Moda</th>\n",
              "      <th>cat_Viajes</th>\n",
              "      <th>cat_Comedia</th>\n",
              "      <th>cat_Aventura</th>\n",
              "      <th>cat_Bélico</th>\n",
              "      <th>cat_Reality</th>\n",
              "      <th>cat_Cultura</th>\n",
              "      <th>cat_Teatro</th>\n",
              "      <th>cat_Drama</th>\n",
              "      <th>cat_Político</th>\n",
              "      <th>cat_Dibujos animados</th>\n",
              "      <th>cat_Documental</th>\n",
              "      <th>cat_Crimen</th>\n",
              "      <th>cat_Dibujos Animados</th>\n",
              "      <th>cat_Investigación</th>\n",
              "      <th>cat_Entretenimiento</th>\n",
              "      <th>cat_Romance</th>\n",
              "      <th>cat_Policial</th>\n",
              "      <th>cat_Infantil, Comedia</th>\n",
              "      <th>cat_Familia</th>\n",
              "      <th>cat_Infantil</th>\n",
              "      <th>cat_Animales</th>\n",
              "      <th>cat_Aventuras</th>\n",
              "      <th>cat_Western</th>\n",
              "      <th>cat_Familiar</th>\n",
              "      <th>cat_Ciencia</th>\n",
              "      <th>cat_Competencia</th>\n",
              "      <th>cat_Accion</th>\n",
              "      <th>cat_Biografía</th>\n",
              "      <th>cat_Religión</th>\n",
              "      <th>cat_Interés General</th>\n",
              "      <th>cat_Animación</th>\n",
              "      <th>cat_Ciencia Ficción</th>\n",
              "      <th>cat_Restauración</th>\n",
              "      <th>cat_Terror</th>\n",
              "      <th>cat_Suspenso</th>\n",
              "      <th>cat_Entrevistas</th>\n",
              "      <th>cat_Decodificador Flow</th>\n",
              "      <th>cat_Humor</th>\n",
              "      <th>cat_Cocina</th>\n",
              "      <th>cat_Tutoriales</th>\n",
              "      <th>cat_Periodístico</th>\n",
              "    </tr>\n",
              "  </thead>\n",
              "  <tbody>\n",
              "  </tbody>\n",
              "</table>\n",
              "</div>"
            ],
            "text/plain": [
              "Empty DataFrame\n",
              "Columns: [cat_Acción, cat_Ciencia ficción, cat_Espectáculo, cat_Música, cat_Deporte, cat_Magazine, cat_Naturaleza, cat_Fantasía, cat_Musical, cat_Historia, cat_Moda, cat_Viajes, cat_Comedia, cat_Aventura, cat_Bélico, cat_Reality, cat_Cultura, cat_Teatro, cat_Drama, cat_Político, cat_Dibujos animados, cat_Documental, cat_Crimen, cat_Dibujos Animados, cat_Investigación, cat_Entretenimiento, cat_Romance, cat_Policial, cat_Infantil, Comedia, cat_Familia, cat_Infantil, cat_Animales, cat_Aventuras, cat_Western, cat_Familiar, cat_Ciencia, cat_Competencia, cat_Accion, cat_Biografía, cat_Religión, cat_Interés General, cat_Animación, cat_Ciencia Ficción, cat_Restauración, cat_Terror, cat_Suspenso, cat_Entrevistas, cat_Decodificador Flow, cat_Humor, cat_Cocina, cat_Tutoriales, cat_Periodístico]\n",
              "Index: []"
            ]
          },
          "metadata": {
            "tags": []
          },
          "execution_count": 16
        }
      ]
    },
    {
      "cell_type": "markdown",
      "metadata": {
        "id": "N1fY27PV1rDS"
      },
      "source": [
        "Ahora, voy a recorrer el dataset de metada y a partir de la/s categoria/s del contenido puntual, voy a rellenar la cabecera de categorias con 0s y 1s (el 1 significa que el contenido contiene la categoria)"
      ]
    },
    {
      "cell_type": "code",
      "metadata": {
        "id": "OQQu1raAZayL"
      },
      "source": [
        "cates  = df_metadata['category']\n",
        "col_names = categories_df.columns\n",
        "cat_features = []\n",
        "for i,cat in enumerate(cates): \n",
        "    if pd.notna(cat):\n",
        "        feats = cat.split('/')                         \n",
        "        row = np.zeros(len(categories))\n",
        "        for feat in feats:\n",
        "            feat = 'cat_'+feat\n",
        "            if feat != '':\n",
        "                if feat in col_names:\n",
        "                  index = np.where(col_names == feat)[0][0] #index            \n",
        "                  row[index] = 1\n",
        "        cat_features.append(row)"
      ],
      "execution_count": null,
      "outputs": []
    },
    {
      "cell_type": "code",
      "metadata": {
        "colab": {
          "base_uri": "https://localhost:8080/",
          "height": 241
        },
        "id": "N_6n4BkPZczb",
        "outputId": "d20c54d0-ad28-406f-aab3-483e052037a8"
      },
      "source": [
        "categories_df = pd.DataFrame(cat_features,columns= categories)\n",
        "categories_df.head()"
      ],
      "execution_count": null,
      "outputs": [
        {
          "output_type": "execute_result",
          "data": {
            "text/html": [
              "<div>\n",
              "<style scoped>\n",
              "    .dataframe tbody tr th:only-of-type {\n",
              "        vertical-align: middle;\n",
              "    }\n",
              "\n",
              "    .dataframe tbody tr th {\n",
              "        vertical-align: top;\n",
              "    }\n",
              "\n",
              "    .dataframe thead th {\n",
              "        text-align: right;\n",
              "    }\n",
              "</style>\n",
              "<table border=\"1\" class=\"dataframe\">\n",
              "  <thead>\n",
              "    <tr style=\"text-align: right;\">\n",
              "      <th></th>\n",
              "      <th>cat_Acción</th>\n",
              "      <th>cat_Ciencia ficción</th>\n",
              "      <th>cat_Espectáculo</th>\n",
              "      <th>cat_Música</th>\n",
              "      <th>cat_Deporte</th>\n",
              "      <th>cat_Magazine</th>\n",
              "      <th>cat_Naturaleza</th>\n",
              "      <th>cat_Fantasía</th>\n",
              "      <th>cat_Musical</th>\n",
              "      <th>cat_Historia</th>\n",
              "      <th>cat_Moda</th>\n",
              "      <th>cat_Viajes</th>\n",
              "      <th>cat_Comedia</th>\n",
              "      <th>cat_Aventura</th>\n",
              "      <th>cat_Bélico</th>\n",
              "      <th>cat_Reality</th>\n",
              "      <th>cat_Cultura</th>\n",
              "      <th>cat_Teatro</th>\n",
              "      <th>cat_Drama</th>\n",
              "      <th>cat_Político</th>\n",
              "      <th>cat_Dibujos animados</th>\n",
              "      <th>cat_Documental</th>\n",
              "      <th>cat_Crimen</th>\n",
              "      <th>cat_Dibujos Animados</th>\n",
              "      <th>cat_Investigación</th>\n",
              "      <th>cat_Entretenimiento</th>\n",
              "      <th>cat_Romance</th>\n",
              "      <th>cat_Policial</th>\n",
              "      <th>cat_Infantil, Comedia</th>\n",
              "      <th>cat_Familia</th>\n",
              "      <th>cat_Infantil</th>\n",
              "      <th>cat_Animales</th>\n",
              "      <th>cat_Aventuras</th>\n",
              "      <th>cat_Western</th>\n",
              "      <th>cat_Familiar</th>\n",
              "      <th>cat_Ciencia</th>\n",
              "      <th>cat_Competencia</th>\n",
              "      <th>cat_Accion</th>\n",
              "      <th>cat_Biografía</th>\n",
              "      <th>cat_Religión</th>\n",
              "      <th>cat_Interés General</th>\n",
              "      <th>cat_Animación</th>\n",
              "      <th>cat_Ciencia Ficción</th>\n",
              "      <th>cat_Restauración</th>\n",
              "      <th>cat_Terror</th>\n",
              "      <th>cat_Suspenso</th>\n",
              "      <th>cat_Entrevistas</th>\n",
              "      <th>cat_Decodificador Flow</th>\n",
              "      <th>cat_Humor</th>\n",
              "      <th>cat_Cocina</th>\n",
              "      <th>cat_Tutoriales</th>\n",
              "      <th>cat_Periodístico</th>\n",
              "    </tr>\n",
              "  </thead>\n",
              "  <tbody>\n",
              "    <tr>\n",
              "      <th>0</th>\n",
              "      <td>0.0</td>\n",
              "      <td>0.0</td>\n",
              "      <td>0.0</td>\n",
              "      <td>0.0</td>\n",
              "      <td>0.0</td>\n",
              "      <td>0.0</td>\n",
              "      <td>0.0</td>\n",
              "      <td>0.0</td>\n",
              "      <td>0.0</td>\n",
              "      <td>0.0</td>\n",
              "      <td>0.0</td>\n",
              "      <td>0.0</td>\n",
              "      <td>0.0</td>\n",
              "      <td>0.0</td>\n",
              "      <td>0.0</td>\n",
              "      <td>0.0</td>\n",
              "      <td>0.0</td>\n",
              "      <td>0.0</td>\n",
              "      <td>1.0</td>\n",
              "      <td>0.0</td>\n",
              "      <td>0.0</td>\n",
              "      <td>0.0</td>\n",
              "      <td>0.0</td>\n",
              "      <td>0.0</td>\n",
              "      <td>0.0</td>\n",
              "      <td>0.0</td>\n",
              "      <td>0.0</td>\n",
              "      <td>0.0</td>\n",
              "      <td>0.0</td>\n",
              "      <td>0.0</td>\n",
              "      <td>0.0</td>\n",
              "      <td>0.0</td>\n",
              "      <td>0.0</td>\n",
              "      <td>0.0</td>\n",
              "      <td>0.0</td>\n",
              "      <td>0.0</td>\n",
              "      <td>0.0</td>\n",
              "      <td>0.0</td>\n",
              "      <td>0.0</td>\n",
              "      <td>0.0</td>\n",
              "      <td>0.0</td>\n",
              "      <td>0.0</td>\n",
              "      <td>0.0</td>\n",
              "      <td>0.0</td>\n",
              "      <td>0.0</td>\n",
              "      <td>0.0</td>\n",
              "      <td>0.0</td>\n",
              "      <td>0.0</td>\n",
              "      <td>0.0</td>\n",
              "      <td>0.0</td>\n",
              "      <td>0.0</td>\n",
              "      <td>0.0</td>\n",
              "    </tr>\n",
              "    <tr>\n",
              "      <th>1</th>\n",
              "      <td>1.0</td>\n",
              "      <td>0.0</td>\n",
              "      <td>0.0</td>\n",
              "      <td>0.0</td>\n",
              "      <td>0.0</td>\n",
              "      <td>0.0</td>\n",
              "      <td>0.0</td>\n",
              "      <td>0.0</td>\n",
              "      <td>0.0</td>\n",
              "      <td>0.0</td>\n",
              "      <td>0.0</td>\n",
              "      <td>0.0</td>\n",
              "      <td>0.0</td>\n",
              "      <td>0.0</td>\n",
              "      <td>0.0</td>\n",
              "      <td>0.0</td>\n",
              "      <td>0.0</td>\n",
              "      <td>0.0</td>\n",
              "      <td>0.0</td>\n",
              "      <td>0.0</td>\n",
              "      <td>0.0</td>\n",
              "      <td>0.0</td>\n",
              "      <td>0.0</td>\n",
              "      <td>0.0</td>\n",
              "      <td>0.0</td>\n",
              "      <td>0.0</td>\n",
              "      <td>0.0</td>\n",
              "      <td>0.0</td>\n",
              "      <td>0.0</td>\n",
              "      <td>0.0</td>\n",
              "      <td>0.0</td>\n",
              "      <td>0.0</td>\n",
              "      <td>0.0</td>\n",
              "      <td>0.0</td>\n",
              "      <td>0.0</td>\n",
              "      <td>0.0</td>\n",
              "      <td>0.0</td>\n",
              "      <td>0.0</td>\n",
              "      <td>0.0</td>\n",
              "      <td>0.0</td>\n",
              "      <td>0.0</td>\n",
              "      <td>0.0</td>\n",
              "      <td>0.0</td>\n",
              "      <td>0.0</td>\n",
              "      <td>0.0</td>\n",
              "      <td>1.0</td>\n",
              "      <td>0.0</td>\n",
              "      <td>0.0</td>\n",
              "      <td>0.0</td>\n",
              "      <td>0.0</td>\n",
              "      <td>0.0</td>\n",
              "      <td>0.0</td>\n",
              "    </tr>\n",
              "    <tr>\n",
              "      <th>2</th>\n",
              "      <td>0.0</td>\n",
              "      <td>0.0</td>\n",
              "      <td>0.0</td>\n",
              "      <td>0.0</td>\n",
              "      <td>0.0</td>\n",
              "      <td>0.0</td>\n",
              "      <td>0.0</td>\n",
              "      <td>0.0</td>\n",
              "      <td>0.0</td>\n",
              "      <td>0.0</td>\n",
              "      <td>0.0</td>\n",
              "      <td>0.0</td>\n",
              "      <td>1.0</td>\n",
              "      <td>0.0</td>\n",
              "      <td>0.0</td>\n",
              "      <td>0.0</td>\n",
              "      <td>0.0</td>\n",
              "      <td>0.0</td>\n",
              "      <td>0.0</td>\n",
              "      <td>0.0</td>\n",
              "      <td>0.0</td>\n",
              "      <td>0.0</td>\n",
              "      <td>0.0</td>\n",
              "      <td>0.0</td>\n",
              "      <td>0.0</td>\n",
              "      <td>0.0</td>\n",
              "      <td>0.0</td>\n",
              "      <td>0.0</td>\n",
              "      <td>0.0</td>\n",
              "      <td>0.0</td>\n",
              "      <td>0.0</td>\n",
              "      <td>0.0</td>\n",
              "      <td>0.0</td>\n",
              "      <td>0.0</td>\n",
              "      <td>0.0</td>\n",
              "      <td>0.0</td>\n",
              "      <td>0.0</td>\n",
              "      <td>0.0</td>\n",
              "      <td>0.0</td>\n",
              "      <td>0.0</td>\n",
              "      <td>0.0</td>\n",
              "      <td>0.0</td>\n",
              "      <td>0.0</td>\n",
              "      <td>0.0</td>\n",
              "      <td>1.0</td>\n",
              "      <td>0.0</td>\n",
              "      <td>0.0</td>\n",
              "      <td>0.0</td>\n",
              "      <td>0.0</td>\n",
              "      <td>0.0</td>\n",
              "      <td>0.0</td>\n",
              "      <td>0.0</td>\n",
              "    </tr>\n",
              "    <tr>\n",
              "      <th>3</th>\n",
              "      <td>0.0</td>\n",
              "      <td>0.0</td>\n",
              "      <td>0.0</td>\n",
              "      <td>0.0</td>\n",
              "      <td>0.0</td>\n",
              "      <td>0.0</td>\n",
              "      <td>0.0</td>\n",
              "      <td>0.0</td>\n",
              "      <td>0.0</td>\n",
              "      <td>0.0</td>\n",
              "      <td>0.0</td>\n",
              "      <td>0.0</td>\n",
              "      <td>0.0</td>\n",
              "      <td>0.0</td>\n",
              "      <td>0.0</td>\n",
              "      <td>0.0</td>\n",
              "      <td>0.0</td>\n",
              "      <td>0.0</td>\n",
              "      <td>1.0</td>\n",
              "      <td>0.0</td>\n",
              "      <td>0.0</td>\n",
              "      <td>0.0</td>\n",
              "      <td>0.0</td>\n",
              "      <td>0.0</td>\n",
              "      <td>0.0</td>\n",
              "      <td>0.0</td>\n",
              "      <td>0.0</td>\n",
              "      <td>0.0</td>\n",
              "      <td>0.0</td>\n",
              "      <td>0.0</td>\n",
              "      <td>0.0</td>\n",
              "      <td>0.0</td>\n",
              "      <td>0.0</td>\n",
              "      <td>0.0</td>\n",
              "      <td>0.0</td>\n",
              "      <td>0.0</td>\n",
              "      <td>0.0</td>\n",
              "      <td>0.0</td>\n",
              "      <td>0.0</td>\n",
              "      <td>0.0</td>\n",
              "      <td>0.0</td>\n",
              "      <td>0.0</td>\n",
              "      <td>0.0</td>\n",
              "      <td>0.0</td>\n",
              "      <td>0.0</td>\n",
              "      <td>0.0</td>\n",
              "      <td>0.0</td>\n",
              "      <td>0.0</td>\n",
              "      <td>0.0</td>\n",
              "      <td>0.0</td>\n",
              "      <td>0.0</td>\n",
              "      <td>0.0</td>\n",
              "    </tr>\n",
              "    <tr>\n",
              "      <th>4</th>\n",
              "      <td>0.0</td>\n",
              "      <td>0.0</td>\n",
              "      <td>0.0</td>\n",
              "      <td>0.0</td>\n",
              "      <td>0.0</td>\n",
              "      <td>0.0</td>\n",
              "      <td>0.0</td>\n",
              "      <td>0.0</td>\n",
              "      <td>0.0</td>\n",
              "      <td>0.0</td>\n",
              "      <td>0.0</td>\n",
              "      <td>0.0</td>\n",
              "      <td>0.0</td>\n",
              "      <td>1.0</td>\n",
              "      <td>0.0</td>\n",
              "      <td>0.0</td>\n",
              "      <td>0.0</td>\n",
              "      <td>0.0</td>\n",
              "      <td>0.0</td>\n",
              "      <td>0.0</td>\n",
              "      <td>0.0</td>\n",
              "      <td>0.0</td>\n",
              "      <td>0.0</td>\n",
              "      <td>0.0</td>\n",
              "      <td>0.0</td>\n",
              "      <td>0.0</td>\n",
              "      <td>0.0</td>\n",
              "      <td>0.0</td>\n",
              "      <td>0.0</td>\n",
              "      <td>0.0</td>\n",
              "      <td>0.0</td>\n",
              "      <td>0.0</td>\n",
              "      <td>0.0</td>\n",
              "      <td>0.0</td>\n",
              "      <td>0.0</td>\n",
              "      <td>0.0</td>\n",
              "      <td>0.0</td>\n",
              "      <td>0.0</td>\n",
              "      <td>0.0</td>\n",
              "      <td>0.0</td>\n",
              "      <td>0.0</td>\n",
              "      <td>0.0</td>\n",
              "      <td>1.0</td>\n",
              "      <td>0.0</td>\n",
              "      <td>0.0</td>\n",
              "      <td>0.0</td>\n",
              "      <td>0.0</td>\n",
              "      <td>0.0</td>\n",
              "      <td>0.0</td>\n",
              "      <td>0.0</td>\n",
              "      <td>0.0</td>\n",
              "      <td>0.0</td>\n",
              "    </tr>\n",
              "  </tbody>\n",
              "</table>\n",
              "</div>"
            ],
            "text/plain": [
              "   cat_Acción  cat_Ciencia ficción  ...  cat_Tutoriales  cat_Periodístico\n",
              "0         0.0                  0.0  ...             0.0               0.0\n",
              "1         1.0                  0.0  ...             0.0               0.0\n",
              "2         0.0                  0.0  ...             0.0               0.0\n",
              "3         0.0                  0.0  ...             0.0               0.0\n",
              "4         0.0                  0.0  ...             0.0               0.0\n",
              "\n",
              "[5 rows x 52 columns]"
            ]
          },
          "metadata": {
            "tags": []
          },
          "execution_count": 18
        }
      ]
    },
    {
      "cell_type": "code",
      "metadata": {
        "colab": {
          "base_uri": "https://localhost:8080/",
          "height": 241
        },
        "id": "XKHIRprFZyGt",
        "outputId": "84b4a641-9bd8-4870-8530-a587c124ea9a"
      },
      "source": [
        "df_complete = pd.concat([df_show_type,df_audience,categories_df], axis=1)\n",
        "df_complete.head()"
      ],
      "execution_count": null,
      "outputs": [
        {
          "output_type": "execute_result",
          "data": {
            "text/html": [
              "<div>\n",
              "<style scoped>\n",
              "    .dataframe tbody tr th:only-of-type {\n",
              "        vertical-align: middle;\n",
              "    }\n",
              "\n",
              "    .dataframe tbody tr th {\n",
              "        vertical-align: top;\n",
              "    }\n",
              "\n",
              "    .dataframe thead th {\n",
              "        text-align: right;\n",
              "    }\n",
              "</style>\n",
              "<table border=\"1\" class=\"dataframe\">\n",
              "  <thead>\n",
              "    <tr style=\"text-align: right;\">\n",
              "      <th></th>\n",
              "      <th>show_type__Gaming</th>\n",
              "      <th>show_type__Película</th>\n",
              "      <th>show_type__Rolling</th>\n",
              "      <th>show_type__Serie</th>\n",
              "      <th>show_type__Series,Serie</th>\n",
              "      <th>show_type__TV</th>\n",
              "      <th>show_type__Tutorial</th>\n",
              "      <th>show_type__Web</th>\n",
              "      <th>aud__Familiar</th>\n",
              "      <th>aud__Gaming</th>\n",
              "      <th>aud__General</th>\n",
              "      <th>aud__Hombres</th>\n",
              "      <th>aud__Juvenil</th>\n",
              "      <th>aud__Mujeres</th>\n",
              "      <th>aud__NIños</th>\n",
              "      <th>aud__Niños</th>\n",
              "      <th>aud__Preescolar</th>\n",
              "      <th>aud__Teens</th>\n",
              "      <th>cat_Acción</th>\n",
              "      <th>cat_Ciencia ficción</th>\n",
              "      <th>cat_Espectáculo</th>\n",
              "      <th>cat_Música</th>\n",
              "      <th>cat_Deporte</th>\n",
              "      <th>cat_Magazine</th>\n",
              "      <th>cat_Naturaleza</th>\n",
              "      <th>cat_Fantasía</th>\n",
              "      <th>cat_Musical</th>\n",
              "      <th>cat_Historia</th>\n",
              "      <th>cat_Moda</th>\n",
              "      <th>cat_Viajes</th>\n",
              "      <th>cat_Comedia</th>\n",
              "      <th>cat_Aventura</th>\n",
              "      <th>cat_Bélico</th>\n",
              "      <th>cat_Reality</th>\n",
              "      <th>cat_Cultura</th>\n",
              "      <th>cat_Teatro</th>\n",
              "      <th>cat_Drama</th>\n",
              "      <th>cat_Político</th>\n",
              "      <th>cat_Dibujos animados</th>\n",
              "      <th>cat_Documental</th>\n",
              "      <th>cat_Crimen</th>\n",
              "      <th>cat_Dibujos Animados</th>\n",
              "      <th>cat_Investigación</th>\n",
              "      <th>cat_Entretenimiento</th>\n",
              "      <th>cat_Romance</th>\n",
              "      <th>cat_Policial</th>\n",
              "      <th>cat_Infantil, Comedia</th>\n",
              "      <th>cat_Familia</th>\n",
              "      <th>cat_Infantil</th>\n",
              "      <th>cat_Animales</th>\n",
              "      <th>cat_Aventuras</th>\n",
              "      <th>cat_Western</th>\n",
              "      <th>cat_Familiar</th>\n",
              "      <th>cat_Ciencia</th>\n",
              "      <th>cat_Competencia</th>\n",
              "      <th>cat_Accion</th>\n",
              "      <th>cat_Biografía</th>\n",
              "      <th>cat_Religión</th>\n",
              "      <th>cat_Interés General</th>\n",
              "      <th>cat_Animación</th>\n",
              "      <th>cat_Ciencia Ficción</th>\n",
              "      <th>cat_Restauración</th>\n",
              "      <th>cat_Terror</th>\n",
              "      <th>cat_Suspenso</th>\n",
              "      <th>cat_Entrevistas</th>\n",
              "      <th>cat_Decodificador Flow</th>\n",
              "      <th>cat_Humor</th>\n",
              "      <th>cat_Cocina</th>\n",
              "      <th>cat_Tutoriales</th>\n",
              "      <th>cat_Periodístico</th>\n",
              "    </tr>\n",
              "  </thead>\n",
              "  <tbody>\n",
              "    <tr>\n",
              "      <th>0</th>\n",
              "      <td>0</td>\n",
              "      <td>0</td>\n",
              "      <td>0</td>\n",
              "      <td>1</td>\n",
              "      <td>0</td>\n",
              "      <td>0</td>\n",
              "      <td>0</td>\n",
              "      <td>0</td>\n",
              "      <td>0</td>\n",
              "      <td>0</td>\n",
              "      <td>1</td>\n",
              "      <td>0</td>\n",
              "      <td>0</td>\n",
              "      <td>0</td>\n",
              "      <td>0</td>\n",
              "      <td>0</td>\n",
              "      <td>0</td>\n",
              "      <td>0</td>\n",
              "      <td>0.0</td>\n",
              "      <td>0.0</td>\n",
              "      <td>0.0</td>\n",
              "      <td>0.0</td>\n",
              "      <td>0.0</td>\n",
              "      <td>0.0</td>\n",
              "      <td>0.0</td>\n",
              "      <td>0.0</td>\n",
              "      <td>0.0</td>\n",
              "      <td>0.0</td>\n",
              "      <td>0.0</td>\n",
              "      <td>0.0</td>\n",
              "      <td>0.0</td>\n",
              "      <td>0.0</td>\n",
              "      <td>0.0</td>\n",
              "      <td>0.0</td>\n",
              "      <td>0.0</td>\n",
              "      <td>0.0</td>\n",
              "      <td>1.0</td>\n",
              "      <td>0.0</td>\n",
              "      <td>0.0</td>\n",
              "      <td>0.0</td>\n",
              "      <td>0.0</td>\n",
              "      <td>0.0</td>\n",
              "      <td>0.0</td>\n",
              "      <td>0.0</td>\n",
              "      <td>0.0</td>\n",
              "      <td>0.0</td>\n",
              "      <td>0.0</td>\n",
              "      <td>0.0</td>\n",
              "      <td>0.0</td>\n",
              "      <td>0.0</td>\n",
              "      <td>0.0</td>\n",
              "      <td>0.0</td>\n",
              "      <td>0.0</td>\n",
              "      <td>0.0</td>\n",
              "      <td>0.0</td>\n",
              "      <td>0.0</td>\n",
              "      <td>0.0</td>\n",
              "      <td>0.0</td>\n",
              "      <td>0.0</td>\n",
              "      <td>0.0</td>\n",
              "      <td>0.0</td>\n",
              "      <td>0.0</td>\n",
              "      <td>0.0</td>\n",
              "      <td>0.0</td>\n",
              "      <td>0.0</td>\n",
              "      <td>0.0</td>\n",
              "      <td>0.0</td>\n",
              "      <td>0.0</td>\n",
              "      <td>0.0</td>\n",
              "      <td>0.0</td>\n",
              "    </tr>\n",
              "    <tr>\n",
              "      <th>1</th>\n",
              "      <td>0</td>\n",
              "      <td>1</td>\n",
              "      <td>0</td>\n",
              "      <td>0</td>\n",
              "      <td>0</td>\n",
              "      <td>0</td>\n",
              "      <td>0</td>\n",
              "      <td>0</td>\n",
              "      <td>0</td>\n",
              "      <td>0</td>\n",
              "      <td>1</td>\n",
              "      <td>0</td>\n",
              "      <td>0</td>\n",
              "      <td>0</td>\n",
              "      <td>0</td>\n",
              "      <td>0</td>\n",
              "      <td>0</td>\n",
              "      <td>0</td>\n",
              "      <td>1.0</td>\n",
              "      <td>0.0</td>\n",
              "      <td>0.0</td>\n",
              "      <td>0.0</td>\n",
              "      <td>0.0</td>\n",
              "      <td>0.0</td>\n",
              "      <td>0.0</td>\n",
              "      <td>0.0</td>\n",
              "      <td>0.0</td>\n",
              "      <td>0.0</td>\n",
              "      <td>0.0</td>\n",
              "      <td>0.0</td>\n",
              "      <td>0.0</td>\n",
              "      <td>0.0</td>\n",
              "      <td>0.0</td>\n",
              "      <td>0.0</td>\n",
              "      <td>0.0</td>\n",
              "      <td>0.0</td>\n",
              "      <td>0.0</td>\n",
              "      <td>0.0</td>\n",
              "      <td>0.0</td>\n",
              "      <td>0.0</td>\n",
              "      <td>0.0</td>\n",
              "      <td>0.0</td>\n",
              "      <td>0.0</td>\n",
              "      <td>0.0</td>\n",
              "      <td>0.0</td>\n",
              "      <td>0.0</td>\n",
              "      <td>0.0</td>\n",
              "      <td>0.0</td>\n",
              "      <td>0.0</td>\n",
              "      <td>0.0</td>\n",
              "      <td>0.0</td>\n",
              "      <td>0.0</td>\n",
              "      <td>0.0</td>\n",
              "      <td>0.0</td>\n",
              "      <td>0.0</td>\n",
              "      <td>0.0</td>\n",
              "      <td>0.0</td>\n",
              "      <td>0.0</td>\n",
              "      <td>0.0</td>\n",
              "      <td>0.0</td>\n",
              "      <td>0.0</td>\n",
              "      <td>0.0</td>\n",
              "      <td>0.0</td>\n",
              "      <td>1.0</td>\n",
              "      <td>0.0</td>\n",
              "      <td>0.0</td>\n",
              "      <td>0.0</td>\n",
              "      <td>0.0</td>\n",
              "      <td>0.0</td>\n",
              "      <td>0.0</td>\n",
              "    </tr>\n",
              "    <tr>\n",
              "      <th>2</th>\n",
              "      <td>0</td>\n",
              "      <td>1</td>\n",
              "      <td>0</td>\n",
              "      <td>0</td>\n",
              "      <td>0</td>\n",
              "      <td>0</td>\n",
              "      <td>0</td>\n",
              "      <td>0</td>\n",
              "      <td>0</td>\n",
              "      <td>0</td>\n",
              "      <td>0</td>\n",
              "      <td>0</td>\n",
              "      <td>1</td>\n",
              "      <td>0</td>\n",
              "      <td>0</td>\n",
              "      <td>0</td>\n",
              "      <td>0</td>\n",
              "      <td>0</td>\n",
              "      <td>0.0</td>\n",
              "      <td>0.0</td>\n",
              "      <td>0.0</td>\n",
              "      <td>0.0</td>\n",
              "      <td>0.0</td>\n",
              "      <td>0.0</td>\n",
              "      <td>0.0</td>\n",
              "      <td>0.0</td>\n",
              "      <td>0.0</td>\n",
              "      <td>0.0</td>\n",
              "      <td>0.0</td>\n",
              "      <td>0.0</td>\n",
              "      <td>1.0</td>\n",
              "      <td>0.0</td>\n",
              "      <td>0.0</td>\n",
              "      <td>0.0</td>\n",
              "      <td>0.0</td>\n",
              "      <td>0.0</td>\n",
              "      <td>0.0</td>\n",
              "      <td>0.0</td>\n",
              "      <td>0.0</td>\n",
              "      <td>0.0</td>\n",
              "      <td>0.0</td>\n",
              "      <td>0.0</td>\n",
              "      <td>0.0</td>\n",
              "      <td>0.0</td>\n",
              "      <td>0.0</td>\n",
              "      <td>0.0</td>\n",
              "      <td>0.0</td>\n",
              "      <td>0.0</td>\n",
              "      <td>0.0</td>\n",
              "      <td>0.0</td>\n",
              "      <td>0.0</td>\n",
              "      <td>0.0</td>\n",
              "      <td>0.0</td>\n",
              "      <td>0.0</td>\n",
              "      <td>0.0</td>\n",
              "      <td>0.0</td>\n",
              "      <td>0.0</td>\n",
              "      <td>0.0</td>\n",
              "      <td>0.0</td>\n",
              "      <td>0.0</td>\n",
              "      <td>0.0</td>\n",
              "      <td>0.0</td>\n",
              "      <td>1.0</td>\n",
              "      <td>0.0</td>\n",
              "      <td>0.0</td>\n",
              "      <td>0.0</td>\n",
              "      <td>0.0</td>\n",
              "      <td>0.0</td>\n",
              "      <td>0.0</td>\n",
              "      <td>0.0</td>\n",
              "    </tr>\n",
              "    <tr>\n",
              "      <th>3</th>\n",
              "      <td>0</td>\n",
              "      <td>1</td>\n",
              "      <td>0</td>\n",
              "      <td>0</td>\n",
              "      <td>0</td>\n",
              "      <td>0</td>\n",
              "      <td>0</td>\n",
              "      <td>0</td>\n",
              "      <td>0</td>\n",
              "      <td>0</td>\n",
              "      <td>1</td>\n",
              "      <td>0</td>\n",
              "      <td>0</td>\n",
              "      <td>0</td>\n",
              "      <td>0</td>\n",
              "      <td>0</td>\n",
              "      <td>0</td>\n",
              "      <td>0</td>\n",
              "      <td>0.0</td>\n",
              "      <td>0.0</td>\n",
              "      <td>0.0</td>\n",
              "      <td>0.0</td>\n",
              "      <td>0.0</td>\n",
              "      <td>0.0</td>\n",
              "      <td>0.0</td>\n",
              "      <td>0.0</td>\n",
              "      <td>0.0</td>\n",
              "      <td>0.0</td>\n",
              "      <td>0.0</td>\n",
              "      <td>0.0</td>\n",
              "      <td>0.0</td>\n",
              "      <td>0.0</td>\n",
              "      <td>0.0</td>\n",
              "      <td>0.0</td>\n",
              "      <td>0.0</td>\n",
              "      <td>0.0</td>\n",
              "      <td>1.0</td>\n",
              "      <td>0.0</td>\n",
              "      <td>0.0</td>\n",
              "      <td>0.0</td>\n",
              "      <td>0.0</td>\n",
              "      <td>0.0</td>\n",
              "      <td>0.0</td>\n",
              "      <td>0.0</td>\n",
              "      <td>0.0</td>\n",
              "      <td>0.0</td>\n",
              "      <td>0.0</td>\n",
              "      <td>0.0</td>\n",
              "      <td>0.0</td>\n",
              "      <td>0.0</td>\n",
              "      <td>0.0</td>\n",
              "      <td>0.0</td>\n",
              "      <td>0.0</td>\n",
              "      <td>0.0</td>\n",
              "      <td>0.0</td>\n",
              "      <td>0.0</td>\n",
              "      <td>0.0</td>\n",
              "      <td>0.0</td>\n",
              "      <td>0.0</td>\n",
              "      <td>0.0</td>\n",
              "      <td>0.0</td>\n",
              "      <td>0.0</td>\n",
              "      <td>0.0</td>\n",
              "      <td>0.0</td>\n",
              "      <td>0.0</td>\n",
              "      <td>0.0</td>\n",
              "      <td>0.0</td>\n",
              "      <td>0.0</td>\n",
              "      <td>0.0</td>\n",
              "      <td>0.0</td>\n",
              "    </tr>\n",
              "    <tr>\n",
              "      <th>4</th>\n",
              "      <td>0</td>\n",
              "      <td>1</td>\n",
              "      <td>0</td>\n",
              "      <td>0</td>\n",
              "      <td>0</td>\n",
              "      <td>0</td>\n",
              "      <td>0</td>\n",
              "      <td>0</td>\n",
              "      <td>0</td>\n",
              "      <td>0</td>\n",
              "      <td>1</td>\n",
              "      <td>0</td>\n",
              "      <td>0</td>\n",
              "      <td>0</td>\n",
              "      <td>0</td>\n",
              "      <td>0</td>\n",
              "      <td>0</td>\n",
              "      <td>0</td>\n",
              "      <td>0.0</td>\n",
              "      <td>0.0</td>\n",
              "      <td>0.0</td>\n",
              "      <td>0.0</td>\n",
              "      <td>0.0</td>\n",
              "      <td>0.0</td>\n",
              "      <td>0.0</td>\n",
              "      <td>0.0</td>\n",
              "      <td>0.0</td>\n",
              "      <td>0.0</td>\n",
              "      <td>0.0</td>\n",
              "      <td>0.0</td>\n",
              "      <td>0.0</td>\n",
              "      <td>1.0</td>\n",
              "      <td>0.0</td>\n",
              "      <td>0.0</td>\n",
              "      <td>0.0</td>\n",
              "      <td>0.0</td>\n",
              "      <td>0.0</td>\n",
              "      <td>0.0</td>\n",
              "      <td>0.0</td>\n",
              "      <td>0.0</td>\n",
              "      <td>0.0</td>\n",
              "      <td>0.0</td>\n",
              "      <td>0.0</td>\n",
              "      <td>0.0</td>\n",
              "      <td>0.0</td>\n",
              "      <td>0.0</td>\n",
              "      <td>0.0</td>\n",
              "      <td>0.0</td>\n",
              "      <td>0.0</td>\n",
              "      <td>0.0</td>\n",
              "      <td>0.0</td>\n",
              "      <td>0.0</td>\n",
              "      <td>0.0</td>\n",
              "      <td>0.0</td>\n",
              "      <td>0.0</td>\n",
              "      <td>0.0</td>\n",
              "      <td>0.0</td>\n",
              "      <td>0.0</td>\n",
              "      <td>0.0</td>\n",
              "      <td>0.0</td>\n",
              "      <td>1.0</td>\n",
              "      <td>0.0</td>\n",
              "      <td>0.0</td>\n",
              "      <td>0.0</td>\n",
              "      <td>0.0</td>\n",
              "      <td>0.0</td>\n",
              "      <td>0.0</td>\n",
              "      <td>0.0</td>\n",
              "      <td>0.0</td>\n",
              "      <td>0.0</td>\n",
              "    </tr>\n",
              "  </tbody>\n",
              "</table>\n",
              "</div>"
            ],
            "text/plain": [
              "   show_type__Gaming  show_type__Película  ...  cat_Tutoriales  cat_Periodístico\n",
              "0                  0                    0  ...             0.0               0.0\n",
              "1                  0                    1  ...             0.0               0.0\n",
              "2                  0                    1  ...             0.0               0.0\n",
              "3                  0                    1  ...             0.0               0.0\n",
              "4                  0                    1  ...             0.0               0.0\n",
              "\n",
              "[5 rows x 70 columns]"
            ]
          },
          "metadata": {
            "tags": []
          },
          "execution_count": 19
        }
      ]
    },
    {
      "cell_type": "markdown",
      "metadata": {
        "id": "Pd5l_FNs2KaV"
      },
      "source": [
        "Agrego la columna de content_ids"
      ]
    },
    {
      "cell_type": "code",
      "metadata": {
        "colab": {
          "base_uri": "https://localhost:8080/",
          "height": 241
        },
        "id": "VZGg0Qs8Z1pr",
        "outputId": "fa1af539-a378-4d70-a9f6-a575d1e78623"
      },
      "source": [
        "df_complete[\"content_id\"] = df_metadata[\"content_id\"].values\n",
        "df_complete.head()"
      ],
      "execution_count": null,
      "outputs": [
        {
          "output_type": "execute_result",
          "data": {
            "text/html": [
              "<div>\n",
              "<style scoped>\n",
              "    .dataframe tbody tr th:only-of-type {\n",
              "        vertical-align: middle;\n",
              "    }\n",
              "\n",
              "    .dataframe tbody tr th {\n",
              "        vertical-align: top;\n",
              "    }\n",
              "\n",
              "    .dataframe thead th {\n",
              "        text-align: right;\n",
              "    }\n",
              "</style>\n",
              "<table border=\"1\" class=\"dataframe\">\n",
              "  <thead>\n",
              "    <tr style=\"text-align: right;\">\n",
              "      <th></th>\n",
              "      <th>show_type__Gaming</th>\n",
              "      <th>show_type__Película</th>\n",
              "      <th>show_type__Rolling</th>\n",
              "      <th>show_type__Serie</th>\n",
              "      <th>show_type__Series,Serie</th>\n",
              "      <th>show_type__TV</th>\n",
              "      <th>show_type__Tutorial</th>\n",
              "      <th>show_type__Web</th>\n",
              "      <th>aud__Familiar</th>\n",
              "      <th>aud__Gaming</th>\n",
              "      <th>aud__General</th>\n",
              "      <th>aud__Hombres</th>\n",
              "      <th>aud__Juvenil</th>\n",
              "      <th>aud__Mujeres</th>\n",
              "      <th>aud__NIños</th>\n",
              "      <th>aud__Niños</th>\n",
              "      <th>aud__Preescolar</th>\n",
              "      <th>aud__Teens</th>\n",
              "      <th>cat_Acción</th>\n",
              "      <th>cat_Ciencia ficción</th>\n",
              "      <th>cat_Espectáculo</th>\n",
              "      <th>cat_Música</th>\n",
              "      <th>cat_Deporte</th>\n",
              "      <th>cat_Magazine</th>\n",
              "      <th>cat_Naturaleza</th>\n",
              "      <th>cat_Fantasía</th>\n",
              "      <th>cat_Musical</th>\n",
              "      <th>cat_Historia</th>\n",
              "      <th>cat_Moda</th>\n",
              "      <th>cat_Viajes</th>\n",
              "      <th>cat_Comedia</th>\n",
              "      <th>cat_Aventura</th>\n",
              "      <th>cat_Bélico</th>\n",
              "      <th>cat_Reality</th>\n",
              "      <th>cat_Cultura</th>\n",
              "      <th>cat_Teatro</th>\n",
              "      <th>cat_Drama</th>\n",
              "      <th>cat_Político</th>\n",
              "      <th>cat_Dibujos animados</th>\n",
              "      <th>cat_Documental</th>\n",
              "      <th>cat_Crimen</th>\n",
              "      <th>cat_Dibujos Animados</th>\n",
              "      <th>cat_Investigación</th>\n",
              "      <th>cat_Entretenimiento</th>\n",
              "      <th>cat_Romance</th>\n",
              "      <th>cat_Policial</th>\n",
              "      <th>cat_Infantil, Comedia</th>\n",
              "      <th>cat_Familia</th>\n",
              "      <th>cat_Infantil</th>\n",
              "      <th>cat_Animales</th>\n",
              "      <th>cat_Aventuras</th>\n",
              "      <th>cat_Western</th>\n",
              "      <th>cat_Familiar</th>\n",
              "      <th>cat_Ciencia</th>\n",
              "      <th>cat_Competencia</th>\n",
              "      <th>cat_Accion</th>\n",
              "      <th>cat_Biografía</th>\n",
              "      <th>cat_Religión</th>\n",
              "      <th>cat_Interés General</th>\n",
              "      <th>cat_Animación</th>\n",
              "      <th>cat_Ciencia Ficción</th>\n",
              "      <th>cat_Restauración</th>\n",
              "      <th>cat_Terror</th>\n",
              "      <th>cat_Suspenso</th>\n",
              "      <th>cat_Entrevistas</th>\n",
              "      <th>cat_Decodificador Flow</th>\n",
              "      <th>cat_Humor</th>\n",
              "      <th>cat_Cocina</th>\n",
              "      <th>cat_Tutoriales</th>\n",
              "      <th>cat_Periodístico</th>\n",
              "      <th>content_id</th>\n",
              "    </tr>\n",
              "  </thead>\n",
              "  <tbody>\n",
              "    <tr>\n",
              "      <th>0</th>\n",
              "      <td>0</td>\n",
              "      <td>0</td>\n",
              "      <td>0</td>\n",
              "      <td>1</td>\n",
              "      <td>0</td>\n",
              "      <td>0</td>\n",
              "      <td>0</td>\n",
              "      <td>0</td>\n",
              "      <td>0</td>\n",
              "      <td>0</td>\n",
              "      <td>1</td>\n",
              "      <td>0</td>\n",
              "      <td>0</td>\n",
              "      <td>0</td>\n",
              "      <td>0</td>\n",
              "      <td>0</td>\n",
              "      <td>0</td>\n",
              "      <td>0</td>\n",
              "      <td>0.0</td>\n",
              "      <td>0.0</td>\n",
              "      <td>0.0</td>\n",
              "      <td>0.0</td>\n",
              "      <td>0.0</td>\n",
              "      <td>0.0</td>\n",
              "      <td>0.0</td>\n",
              "      <td>0.0</td>\n",
              "      <td>0.0</td>\n",
              "      <td>0.0</td>\n",
              "      <td>0.0</td>\n",
              "      <td>0.0</td>\n",
              "      <td>0.0</td>\n",
              "      <td>0.0</td>\n",
              "      <td>0.0</td>\n",
              "      <td>0.0</td>\n",
              "      <td>0.0</td>\n",
              "      <td>0.0</td>\n",
              "      <td>1.0</td>\n",
              "      <td>0.0</td>\n",
              "      <td>0.0</td>\n",
              "      <td>0.0</td>\n",
              "      <td>0.0</td>\n",
              "      <td>0.0</td>\n",
              "      <td>0.0</td>\n",
              "      <td>0.0</td>\n",
              "      <td>0.0</td>\n",
              "      <td>0.0</td>\n",
              "      <td>0.0</td>\n",
              "      <td>0.0</td>\n",
              "      <td>0.0</td>\n",
              "      <td>0.0</td>\n",
              "      <td>0.0</td>\n",
              "      <td>0.0</td>\n",
              "      <td>0.0</td>\n",
              "      <td>0.0</td>\n",
              "      <td>0.0</td>\n",
              "      <td>0.0</td>\n",
              "      <td>0.0</td>\n",
              "      <td>0.0</td>\n",
              "      <td>0.0</td>\n",
              "      <td>0.0</td>\n",
              "      <td>0.0</td>\n",
              "      <td>0.0</td>\n",
              "      <td>0.0</td>\n",
              "      <td>0.0</td>\n",
              "      <td>0.0</td>\n",
              "      <td>0.0</td>\n",
              "      <td>0.0</td>\n",
              "      <td>0.0</td>\n",
              "      <td>0.0</td>\n",
              "      <td>0.0</td>\n",
              "      <td>0.0</td>\n",
              "    </tr>\n",
              "    <tr>\n",
              "      <th>1</th>\n",
              "      <td>0</td>\n",
              "      <td>1</td>\n",
              "      <td>0</td>\n",
              "      <td>0</td>\n",
              "      <td>0</td>\n",
              "      <td>0</td>\n",
              "      <td>0</td>\n",
              "      <td>0</td>\n",
              "      <td>0</td>\n",
              "      <td>0</td>\n",
              "      <td>1</td>\n",
              "      <td>0</td>\n",
              "      <td>0</td>\n",
              "      <td>0</td>\n",
              "      <td>0</td>\n",
              "      <td>0</td>\n",
              "      <td>0</td>\n",
              "      <td>0</td>\n",
              "      <td>1.0</td>\n",
              "      <td>0.0</td>\n",
              "      <td>0.0</td>\n",
              "      <td>0.0</td>\n",
              "      <td>0.0</td>\n",
              "      <td>0.0</td>\n",
              "      <td>0.0</td>\n",
              "      <td>0.0</td>\n",
              "      <td>0.0</td>\n",
              "      <td>0.0</td>\n",
              "      <td>0.0</td>\n",
              "      <td>0.0</td>\n",
              "      <td>0.0</td>\n",
              "      <td>0.0</td>\n",
              "      <td>0.0</td>\n",
              "      <td>0.0</td>\n",
              "      <td>0.0</td>\n",
              "      <td>0.0</td>\n",
              "      <td>0.0</td>\n",
              "      <td>0.0</td>\n",
              "      <td>0.0</td>\n",
              "      <td>0.0</td>\n",
              "      <td>0.0</td>\n",
              "      <td>0.0</td>\n",
              "      <td>0.0</td>\n",
              "      <td>0.0</td>\n",
              "      <td>0.0</td>\n",
              "      <td>0.0</td>\n",
              "      <td>0.0</td>\n",
              "      <td>0.0</td>\n",
              "      <td>0.0</td>\n",
              "      <td>0.0</td>\n",
              "      <td>0.0</td>\n",
              "      <td>0.0</td>\n",
              "      <td>0.0</td>\n",
              "      <td>0.0</td>\n",
              "      <td>0.0</td>\n",
              "      <td>0.0</td>\n",
              "      <td>0.0</td>\n",
              "      <td>0.0</td>\n",
              "      <td>0.0</td>\n",
              "      <td>0.0</td>\n",
              "      <td>0.0</td>\n",
              "      <td>0.0</td>\n",
              "      <td>0.0</td>\n",
              "      <td>1.0</td>\n",
              "      <td>0.0</td>\n",
              "      <td>0.0</td>\n",
              "      <td>0.0</td>\n",
              "      <td>0.0</td>\n",
              "      <td>0.0</td>\n",
              "      <td>0.0</td>\n",
              "      <td>1.0</td>\n",
              "    </tr>\n",
              "    <tr>\n",
              "      <th>2</th>\n",
              "      <td>0</td>\n",
              "      <td>1</td>\n",
              "      <td>0</td>\n",
              "      <td>0</td>\n",
              "      <td>0</td>\n",
              "      <td>0</td>\n",
              "      <td>0</td>\n",
              "      <td>0</td>\n",
              "      <td>0</td>\n",
              "      <td>0</td>\n",
              "      <td>0</td>\n",
              "      <td>0</td>\n",
              "      <td>1</td>\n",
              "      <td>0</td>\n",
              "      <td>0</td>\n",
              "      <td>0</td>\n",
              "      <td>0</td>\n",
              "      <td>0</td>\n",
              "      <td>0.0</td>\n",
              "      <td>0.0</td>\n",
              "      <td>0.0</td>\n",
              "      <td>0.0</td>\n",
              "      <td>0.0</td>\n",
              "      <td>0.0</td>\n",
              "      <td>0.0</td>\n",
              "      <td>0.0</td>\n",
              "      <td>0.0</td>\n",
              "      <td>0.0</td>\n",
              "      <td>0.0</td>\n",
              "      <td>0.0</td>\n",
              "      <td>1.0</td>\n",
              "      <td>0.0</td>\n",
              "      <td>0.0</td>\n",
              "      <td>0.0</td>\n",
              "      <td>0.0</td>\n",
              "      <td>0.0</td>\n",
              "      <td>0.0</td>\n",
              "      <td>0.0</td>\n",
              "      <td>0.0</td>\n",
              "      <td>0.0</td>\n",
              "      <td>0.0</td>\n",
              "      <td>0.0</td>\n",
              "      <td>0.0</td>\n",
              "      <td>0.0</td>\n",
              "      <td>0.0</td>\n",
              "      <td>0.0</td>\n",
              "      <td>0.0</td>\n",
              "      <td>0.0</td>\n",
              "      <td>0.0</td>\n",
              "      <td>0.0</td>\n",
              "      <td>0.0</td>\n",
              "      <td>0.0</td>\n",
              "      <td>0.0</td>\n",
              "      <td>0.0</td>\n",
              "      <td>0.0</td>\n",
              "      <td>0.0</td>\n",
              "      <td>0.0</td>\n",
              "      <td>0.0</td>\n",
              "      <td>0.0</td>\n",
              "      <td>0.0</td>\n",
              "      <td>0.0</td>\n",
              "      <td>0.0</td>\n",
              "      <td>1.0</td>\n",
              "      <td>0.0</td>\n",
              "      <td>0.0</td>\n",
              "      <td>0.0</td>\n",
              "      <td>0.0</td>\n",
              "      <td>0.0</td>\n",
              "      <td>0.0</td>\n",
              "      <td>0.0</td>\n",
              "      <td>2.0</td>\n",
              "    </tr>\n",
              "    <tr>\n",
              "      <th>3</th>\n",
              "      <td>0</td>\n",
              "      <td>1</td>\n",
              "      <td>0</td>\n",
              "      <td>0</td>\n",
              "      <td>0</td>\n",
              "      <td>0</td>\n",
              "      <td>0</td>\n",
              "      <td>0</td>\n",
              "      <td>0</td>\n",
              "      <td>0</td>\n",
              "      <td>1</td>\n",
              "      <td>0</td>\n",
              "      <td>0</td>\n",
              "      <td>0</td>\n",
              "      <td>0</td>\n",
              "      <td>0</td>\n",
              "      <td>0</td>\n",
              "      <td>0</td>\n",
              "      <td>0.0</td>\n",
              "      <td>0.0</td>\n",
              "      <td>0.0</td>\n",
              "      <td>0.0</td>\n",
              "      <td>0.0</td>\n",
              "      <td>0.0</td>\n",
              "      <td>0.0</td>\n",
              "      <td>0.0</td>\n",
              "      <td>0.0</td>\n",
              "      <td>0.0</td>\n",
              "      <td>0.0</td>\n",
              "      <td>0.0</td>\n",
              "      <td>0.0</td>\n",
              "      <td>0.0</td>\n",
              "      <td>0.0</td>\n",
              "      <td>0.0</td>\n",
              "      <td>0.0</td>\n",
              "      <td>0.0</td>\n",
              "      <td>1.0</td>\n",
              "      <td>0.0</td>\n",
              "      <td>0.0</td>\n",
              "      <td>0.0</td>\n",
              "      <td>0.0</td>\n",
              "      <td>0.0</td>\n",
              "      <td>0.0</td>\n",
              "      <td>0.0</td>\n",
              "      <td>0.0</td>\n",
              "      <td>0.0</td>\n",
              "      <td>0.0</td>\n",
              "      <td>0.0</td>\n",
              "      <td>0.0</td>\n",
              "      <td>0.0</td>\n",
              "      <td>0.0</td>\n",
              "      <td>0.0</td>\n",
              "      <td>0.0</td>\n",
              "      <td>0.0</td>\n",
              "      <td>0.0</td>\n",
              "      <td>0.0</td>\n",
              "      <td>0.0</td>\n",
              "      <td>0.0</td>\n",
              "      <td>0.0</td>\n",
              "      <td>0.0</td>\n",
              "      <td>0.0</td>\n",
              "      <td>0.0</td>\n",
              "      <td>0.0</td>\n",
              "      <td>0.0</td>\n",
              "      <td>0.0</td>\n",
              "      <td>0.0</td>\n",
              "      <td>0.0</td>\n",
              "      <td>0.0</td>\n",
              "      <td>0.0</td>\n",
              "      <td>0.0</td>\n",
              "      <td>3.0</td>\n",
              "    </tr>\n",
              "    <tr>\n",
              "      <th>4</th>\n",
              "      <td>0</td>\n",
              "      <td>1</td>\n",
              "      <td>0</td>\n",
              "      <td>0</td>\n",
              "      <td>0</td>\n",
              "      <td>0</td>\n",
              "      <td>0</td>\n",
              "      <td>0</td>\n",
              "      <td>0</td>\n",
              "      <td>0</td>\n",
              "      <td>1</td>\n",
              "      <td>0</td>\n",
              "      <td>0</td>\n",
              "      <td>0</td>\n",
              "      <td>0</td>\n",
              "      <td>0</td>\n",
              "      <td>0</td>\n",
              "      <td>0</td>\n",
              "      <td>0.0</td>\n",
              "      <td>0.0</td>\n",
              "      <td>0.0</td>\n",
              "      <td>0.0</td>\n",
              "      <td>0.0</td>\n",
              "      <td>0.0</td>\n",
              "      <td>0.0</td>\n",
              "      <td>0.0</td>\n",
              "      <td>0.0</td>\n",
              "      <td>0.0</td>\n",
              "      <td>0.0</td>\n",
              "      <td>0.0</td>\n",
              "      <td>0.0</td>\n",
              "      <td>1.0</td>\n",
              "      <td>0.0</td>\n",
              "      <td>0.0</td>\n",
              "      <td>0.0</td>\n",
              "      <td>0.0</td>\n",
              "      <td>0.0</td>\n",
              "      <td>0.0</td>\n",
              "      <td>0.0</td>\n",
              "      <td>0.0</td>\n",
              "      <td>0.0</td>\n",
              "      <td>0.0</td>\n",
              "      <td>0.0</td>\n",
              "      <td>0.0</td>\n",
              "      <td>0.0</td>\n",
              "      <td>0.0</td>\n",
              "      <td>0.0</td>\n",
              "      <td>0.0</td>\n",
              "      <td>0.0</td>\n",
              "      <td>0.0</td>\n",
              "      <td>0.0</td>\n",
              "      <td>0.0</td>\n",
              "      <td>0.0</td>\n",
              "      <td>0.0</td>\n",
              "      <td>0.0</td>\n",
              "      <td>0.0</td>\n",
              "      <td>0.0</td>\n",
              "      <td>0.0</td>\n",
              "      <td>0.0</td>\n",
              "      <td>0.0</td>\n",
              "      <td>1.0</td>\n",
              "      <td>0.0</td>\n",
              "      <td>0.0</td>\n",
              "      <td>0.0</td>\n",
              "      <td>0.0</td>\n",
              "      <td>0.0</td>\n",
              "      <td>0.0</td>\n",
              "      <td>0.0</td>\n",
              "      <td>0.0</td>\n",
              "      <td>0.0</td>\n",
              "      <td>4.0</td>\n",
              "    </tr>\n",
              "  </tbody>\n",
              "</table>\n",
              "</div>"
            ],
            "text/plain": [
              "   show_type__Gaming  show_type__Película  ...  cat_Periodístico  content_id\n",
              "0                  0                    0  ...               0.0         0.0\n",
              "1                  0                    1  ...               0.0         1.0\n",
              "2                  0                    1  ...               0.0         2.0\n",
              "3                  0                    1  ...               0.0         3.0\n",
              "4                  0                    1  ...               0.0         4.0\n",
              "\n",
              "[5 rows x 71 columns]"
            ]
          },
          "metadata": {
            "tags": []
          },
          "execution_count": 20
        }
      ]
    },
    {
      "cell_type": "markdown",
      "metadata": {
        "id": "PfzJMp_12T1J"
      },
      "source": [
        "Hay un problema,...originalmente el dataset de metada contenia las asociaciones de asset_id con content_id, y por eso, la columna \"content_id\" contiene valores repetidos.\n",
        "Propongo agrupar el dataset por content_id y sumar las demas columnas, despues de sumar, establecer un valor maximo para las columnas de atributos (que es el 1) para que el agrupamiento sea lo mas objetivo posible.\n"
      ]
    },
    {
      "cell_type": "code",
      "metadata": {
        "id": "MHAE_T8VZ5O3"
      },
      "source": [
        "cols_a_sumar = df_complete.drop(columns=['content_id'], inplace=False).columns \n",
        "\n",
        "conjunto_cols = {}\n",
        "\n",
        "for c in cols_a_sumar:\n",
        "  conjunto_cols[c] = \"sum\""
      ],
      "execution_count": null,
      "outputs": []
    },
    {
      "cell_type": "code",
      "metadata": {
        "colab": {
          "base_uri": "https://localhost:8080/",
          "height": 241
        },
        "id": "J0w4TEgKZ60k",
        "outputId": "89163860-c712-46af-e0c1-d561bec1ed79"
      },
      "source": [
        "df_complete = df_complete.groupby(['content_id'], as_index=False).agg(conjunto_cols)\n",
        "df_complete[cols_a_sumar] = df_complete[cols_a_sumar].ge(1).astype(int)\n",
        "df_complete.rename(index=df_complete[\"content_id\"])\n",
        "df_complete.drop(columns=[\"content_id\"],inplace=True)\n",
        "df_complete.head()"
      ],
      "execution_count": null,
      "outputs": [
        {
          "output_type": "execute_result",
          "data": {
            "text/html": [
              "<div>\n",
              "<style scoped>\n",
              "    .dataframe tbody tr th:only-of-type {\n",
              "        vertical-align: middle;\n",
              "    }\n",
              "\n",
              "    .dataframe tbody tr th {\n",
              "        vertical-align: top;\n",
              "    }\n",
              "\n",
              "    .dataframe thead th {\n",
              "        text-align: right;\n",
              "    }\n",
              "</style>\n",
              "<table border=\"1\" class=\"dataframe\">\n",
              "  <thead>\n",
              "    <tr style=\"text-align: right;\">\n",
              "      <th></th>\n",
              "      <th>show_type__Gaming</th>\n",
              "      <th>show_type__Película</th>\n",
              "      <th>show_type__Rolling</th>\n",
              "      <th>show_type__Serie</th>\n",
              "      <th>show_type__Series,Serie</th>\n",
              "      <th>show_type__TV</th>\n",
              "      <th>show_type__Tutorial</th>\n",
              "      <th>show_type__Web</th>\n",
              "      <th>aud__Familiar</th>\n",
              "      <th>aud__Gaming</th>\n",
              "      <th>aud__General</th>\n",
              "      <th>aud__Hombres</th>\n",
              "      <th>aud__Juvenil</th>\n",
              "      <th>aud__Mujeres</th>\n",
              "      <th>aud__NIños</th>\n",
              "      <th>aud__Niños</th>\n",
              "      <th>aud__Preescolar</th>\n",
              "      <th>aud__Teens</th>\n",
              "      <th>cat_Acción</th>\n",
              "      <th>cat_Ciencia ficción</th>\n",
              "      <th>cat_Espectáculo</th>\n",
              "      <th>cat_Música</th>\n",
              "      <th>cat_Deporte</th>\n",
              "      <th>cat_Magazine</th>\n",
              "      <th>cat_Naturaleza</th>\n",
              "      <th>cat_Fantasía</th>\n",
              "      <th>cat_Musical</th>\n",
              "      <th>cat_Historia</th>\n",
              "      <th>cat_Moda</th>\n",
              "      <th>cat_Viajes</th>\n",
              "      <th>cat_Comedia</th>\n",
              "      <th>cat_Aventura</th>\n",
              "      <th>cat_Bélico</th>\n",
              "      <th>cat_Reality</th>\n",
              "      <th>cat_Cultura</th>\n",
              "      <th>cat_Teatro</th>\n",
              "      <th>cat_Drama</th>\n",
              "      <th>cat_Político</th>\n",
              "      <th>cat_Dibujos animados</th>\n",
              "      <th>cat_Documental</th>\n",
              "      <th>cat_Crimen</th>\n",
              "      <th>cat_Dibujos Animados</th>\n",
              "      <th>cat_Investigación</th>\n",
              "      <th>cat_Entretenimiento</th>\n",
              "      <th>cat_Romance</th>\n",
              "      <th>cat_Policial</th>\n",
              "      <th>cat_Infantil, Comedia</th>\n",
              "      <th>cat_Familia</th>\n",
              "      <th>cat_Infantil</th>\n",
              "      <th>cat_Animales</th>\n",
              "      <th>cat_Aventuras</th>\n",
              "      <th>cat_Western</th>\n",
              "      <th>cat_Familiar</th>\n",
              "      <th>cat_Ciencia</th>\n",
              "      <th>cat_Competencia</th>\n",
              "      <th>cat_Accion</th>\n",
              "      <th>cat_Biografía</th>\n",
              "      <th>cat_Religión</th>\n",
              "      <th>cat_Interés General</th>\n",
              "      <th>cat_Animación</th>\n",
              "      <th>cat_Ciencia Ficción</th>\n",
              "      <th>cat_Restauración</th>\n",
              "      <th>cat_Terror</th>\n",
              "      <th>cat_Suspenso</th>\n",
              "      <th>cat_Entrevistas</th>\n",
              "      <th>cat_Decodificador Flow</th>\n",
              "      <th>cat_Humor</th>\n",
              "      <th>cat_Cocina</th>\n",
              "      <th>cat_Tutoriales</th>\n",
              "      <th>cat_Periodístico</th>\n",
              "    </tr>\n",
              "  </thead>\n",
              "  <tbody>\n",
              "    <tr>\n",
              "      <th>0</th>\n",
              "      <td>0</td>\n",
              "      <td>0</td>\n",
              "      <td>0</td>\n",
              "      <td>1</td>\n",
              "      <td>0</td>\n",
              "      <td>0</td>\n",
              "      <td>0</td>\n",
              "      <td>0</td>\n",
              "      <td>0</td>\n",
              "      <td>0</td>\n",
              "      <td>1</td>\n",
              "      <td>0</td>\n",
              "      <td>0</td>\n",
              "      <td>0</td>\n",
              "      <td>0</td>\n",
              "      <td>0</td>\n",
              "      <td>0</td>\n",
              "      <td>0</td>\n",
              "      <td>0</td>\n",
              "      <td>0</td>\n",
              "      <td>0</td>\n",
              "      <td>0</td>\n",
              "      <td>0</td>\n",
              "      <td>0</td>\n",
              "      <td>0</td>\n",
              "      <td>0</td>\n",
              "      <td>0</td>\n",
              "      <td>0</td>\n",
              "      <td>0</td>\n",
              "      <td>0</td>\n",
              "      <td>0</td>\n",
              "      <td>0</td>\n",
              "      <td>0</td>\n",
              "      <td>0</td>\n",
              "      <td>0</td>\n",
              "      <td>0</td>\n",
              "      <td>1</td>\n",
              "      <td>0</td>\n",
              "      <td>0</td>\n",
              "      <td>0</td>\n",
              "      <td>0</td>\n",
              "      <td>0</td>\n",
              "      <td>0</td>\n",
              "      <td>0</td>\n",
              "      <td>0</td>\n",
              "      <td>0</td>\n",
              "      <td>0</td>\n",
              "      <td>0</td>\n",
              "      <td>0</td>\n",
              "      <td>0</td>\n",
              "      <td>0</td>\n",
              "      <td>0</td>\n",
              "      <td>0</td>\n",
              "      <td>0</td>\n",
              "      <td>0</td>\n",
              "      <td>0</td>\n",
              "      <td>0</td>\n",
              "      <td>0</td>\n",
              "      <td>0</td>\n",
              "      <td>0</td>\n",
              "      <td>0</td>\n",
              "      <td>0</td>\n",
              "      <td>0</td>\n",
              "      <td>0</td>\n",
              "      <td>0</td>\n",
              "      <td>0</td>\n",
              "      <td>0</td>\n",
              "      <td>0</td>\n",
              "      <td>0</td>\n",
              "      <td>0</td>\n",
              "    </tr>\n",
              "    <tr>\n",
              "      <th>1</th>\n",
              "      <td>0</td>\n",
              "      <td>1</td>\n",
              "      <td>0</td>\n",
              "      <td>0</td>\n",
              "      <td>0</td>\n",
              "      <td>0</td>\n",
              "      <td>0</td>\n",
              "      <td>0</td>\n",
              "      <td>0</td>\n",
              "      <td>0</td>\n",
              "      <td>1</td>\n",
              "      <td>0</td>\n",
              "      <td>0</td>\n",
              "      <td>0</td>\n",
              "      <td>0</td>\n",
              "      <td>0</td>\n",
              "      <td>0</td>\n",
              "      <td>0</td>\n",
              "      <td>1</td>\n",
              "      <td>0</td>\n",
              "      <td>0</td>\n",
              "      <td>0</td>\n",
              "      <td>0</td>\n",
              "      <td>0</td>\n",
              "      <td>0</td>\n",
              "      <td>0</td>\n",
              "      <td>0</td>\n",
              "      <td>0</td>\n",
              "      <td>0</td>\n",
              "      <td>0</td>\n",
              "      <td>0</td>\n",
              "      <td>0</td>\n",
              "      <td>0</td>\n",
              "      <td>0</td>\n",
              "      <td>0</td>\n",
              "      <td>0</td>\n",
              "      <td>0</td>\n",
              "      <td>0</td>\n",
              "      <td>0</td>\n",
              "      <td>0</td>\n",
              "      <td>1</td>\n",
              "      <td>0</td>\n",
              "      <td>0</td>\n",
              "      <td>0</td>\n",
              "      <td>0</td>\n",
              "      <td>0</td>\n",
              "      <td>0</td>\n",
              "      <td>0</td>\n",
              "      <td>0</td>\n",
              "      <td>0</td>\n",
              "      <td>0</td>\n",
              "      <td>0</td>\n",
              "      <td>0</td>\n",
              "      <td>0</td>\n",
              "      <td>0</td>\n",
              "      <td>0</td>\n",
              "      <td>0</td>\n",
              "      <td>0</td>\n",
              "      <td>0</td>\n",
              "      <td>0</td>\n",
              "      <td>0</td>\n",
              "      <td>0</td>\n",
              "      <td>0</td>\n",
              "      <td>1</td>\n",
              "      <td>0</td>\n",
              "      <td>0</td>\n",
              "      <td>0</td>\n",
              "      <td>0</td>\n",
              "      <td>0</td>\n",
              "      <td>0</td>\n",
              "    </tr>\n",
              "    <tr>\n",
              "      <th>2</th>\n",
              "      <td>0</td>\n",
              "      <td>1</td>\n",
              "      <td>0</td>\n",
              "      <td>0</td>\n",
              "      <td>0</td>\n",
              "      <td>0</td>\n",
              "      <td>0</td>\n",
              "      <td>0</td>\n",
              "      <td>0</td>\n",
              "      <td>0</td>\n",
              "      <td>0</td>\n",
              "      <td>0</td>\n",
              "      <td>1</td>\n",
              "      <td>0</td>\n",
              "      <td>0</td>\n",
              "      <td>0</td>\n",
              "      <td>0</td>\n",
              "      <td>0</td>\n",
              "      <td>0</td>\n",
              "      <td>0</td>\n",
              "      <td>0</td>\n",
              "      <td>0</td>\n",
              "      <td>0</td>\n",
              "      <td>0</td>\n",
              "      <td>0</td>\n",
              "      <td>0</td>\n",
              "      <td>0</td>\n",
              "      <td>0</td>\n",
              "      <td>0</td>\n",
              "      <td>0</td>\n",
              "      <td>1</td>\n",
              "      <td>0</td>\n",
              "      <td>0</td>\n",
              "      <td>0</td>\n",
              "      <td>0</td>\n",
              "      <td>0</td>\n",
              "      <td>0</td>\n",
              "      <td>0</td>\n",
              "      <td>0</td>\n",
              "      <td>0</td>\n",
              "      <td>0</td>\n",
              "      <td>0</td>\n",
              "      <td>0</td>\n",
              "      <td>0</td>\n",
              "      <td>0</td>\n",
              "      <td>0</td>\n",
              "      <td>0</td>\n",
              "      <td>0</td>\n",
              "      <td>0</td>\n",
              "      <td>0</td>\n",
              "      <td>0</td>\n",
              "      <td>0</td>\n",
              "      <td>0</td>\n",
              "      <td>0</td>\n",
              "      <td>0</td>\n",
              "      <td>0</td>\n",
              "      <td>0</td>\n",
              "      <td>0</td>\n",
              "      <td>0</td>\n",
              "      <td>0</td>\n",
              "      <td>0</td>\n",
              "      <td>0</td>\n",
              "      <td>1</td>\n",
              "      <td>0</td>\n",
              "      <td>0</td>\n",
              "      <td>0</td>\n",
              "      <td>0</td>\n",
              "      <td>0</td>\n",
              "      <td>0</td>\n",
              "      <td>0</td>\n",
              "    </tr>\n",
              "    <tr>\n",
              "      <th>3</th>\n",
              "      <td>0</td>\n",
              "      <td>1</td>\n",
              "      <td>0</td>\n",
              "      <td>0</td>\n",
              "      <td>0</td>\n",
              "      <td>0</td>\n",
              "      <td>0</td>\n",
              "      <td>0</td>\n",
              "      <td>0</td>\n",
              "      <td>0</td>\n",
              "      <td>1</td>\n",
              "      <td>0</td>\n",
              "      <td>0</td>\n",
              "      <td>0</td>\n",
              "      <td>0</td>\n",
              "      <td>0</td>\n",
              "      <td>0</td>\n",
              "      <td>0</td>\n",
              "      <td>0</td>\n",
              "      <td>0</td>\n",
              "      <td>0</td>\n",
              "      <td>0</td>\n",
              "      <td>0</td>\n",
              "      <td>0</td>\n",
              "      <td>0</td>\n",
              "      <td>0</td>\n",
              "      <td>0</td>\n",
              "      <td>0</td>\n",
              "      <td>0</td>\n",
              "      <td>0</td>\n",
              "      <td>0</td>\n",
              "      <td>0</td>\n",
              "      <td>0</td>\n",
              "      <td>0</td>\n",
              "      <td>0</td>\n",
              "      <td>0</td>\n",
              "      <td>1</td>\n",
              "      <td>0</td>\n",
              "      <td>0</td>\n",
              "      <td>0</td>\n",
              "      <td>0</td>\n",
              "      <td>0</td>\n",
              "      <td>0</td>\n",
              "      <td>0</td>\n",
              "      <td>0</td>\n",
              "      <td>0</td>\n",
              "      <td>0</td>\n",
              "      <td>0</td>\n",
              "      <td>0</td>\n",
              "      <td>0</td>\n",
              "      <td>0</td>\n",
              "      <td>0</td>\n",
              "      <td>0</td>\n",
              "      <td>0</td>\n",
              "      <td>0</td>\n",
              "      <td>0</td>\n",
              "      <td>0</td>\n",
              "      <td>0</td>\n",
              "      <td>0</td>\n",
              "      <td>0</td>\n",
              "      <td>0</td>\n",
              "      <td>0</td>\n",
              "      <td>0</td>\n",
              "      <td>0</td>\n",
              "      <td>0</td>\n",
              "      <td>0</td>\n",
              "      <td>0</td>\n",
              "      <td>0</td>\n",
              "      <td>0</td>\n",
              "      <td>0</td>\n",
              "    </tr>\n",
              "    <tr>\n",
              "      <th>4</th>\n",
              "      <td>0</td>\n",
              "      <td>1</td>\n",
              "      <td>0</td>\n",
              "      <td>0</td>\n",
              "      <td>0</td>\n",
              "      <td>0</td>\n",
              "      <td>0</td>\n",
              "      <td>0</td>\n",
              "      <td>0</td>\n",
              "      <td>0</td>\n",
              "      <td>1</td>\n",
              "      <td>0</td>\n",
              "      <td>0</td>\n",
              "      <td>0</td>\n",
              "      <td>0</td>\n",
              "      <td>0</td>\n",
              "      <td>0</td>\n",
              "      <td>0</td>\n",
              "      <td>0</td>\n",
              "      <td>0</td>\n",
              "      <td>0</td>\n",
              "      <td>0</td>\n",
              "      <td>0</td>\n",
              "      <td>0</td>\n",
              "      <td>0</td>\n",
              "      <td>0</td>\n",
              "      <td>0</td>\n",
              "      <td>0</td>\n",
              "      <td>0</td>\n",
              "      <td>0</td>\n",
              "      <td>0</td>\n",
              "      <td>1</td>\n",
              "      <td>0</td>\n",
              "      <td>0</td>\n",
              "      <td>0</td>\n",
              "      <td>0</td>\n",
              "      <td>0</td>\n",
              "      <td>0</td>\n",
              "      <td>0</td>\n",
              "      <td>0</td>\n",
              "      <td>0</td>\n",
              "      <td>0</td>\n",
              "      <td>0</td>\n",
              "      <td>0</td>\n",
              "      <td>0</td>\n",
              "      <td>0</td>\n",
              "      <td>0</td>\n",
              "      <td>0</td>\n",
              "      <td>0</td>\n",
              "      <td>0</td>\n",
              "      <td>0</td>\n",
              "      <td>0</td>\n",
              "      <td>0</td>\n",
              "      <td>0</td>\n",
              "      <td>0</td>\n",
              "      <td>0</td>\n",
              "      <td>0</td>\n",
              "      <td>0</td>\n",
              "      <td>0</td>\n",
              "      <td>0</td>\n",
              "      <td>1</td>\n",
              "      <td>0</td>\n",
              "      <td>0</td>\n",
              "      <td>0</td>\n",
              "      <td>0</td>\n",
              "      <td>0</td>\n",
              "      <td>0</td>\n",
              "      <td>0</td>\n",
              "      <td>0</td>\n",
              "      <td>0</td>\n",
              "    </tr>\n",
              "  </tbody>\n",
              "</table>\n",
              "</div>"
            ],
            "text/plain": [
              "   show_type__Gaming  show_type__Película  ...  cat_Tutoriales  cat_Periodístico\n",
              "0                  0                    0  ...               0                 0\n",
              "1                  0                    1  ...               0                 0\n",
              "2                  0                    1  ...               0                 0\n",
              "3                  0                    1  ...               0                 0\n",
              "4                  0                    1  ...               0                 0\n",
              "\n",
              "[5 rows x 70 columns]"
            ]
          },
          "metadata": {
            "tags": []
          },
          "execution_count": 22
        }
      ]
    },
    {
      "cell_type": "markdown",
      "metadata": {
        "id": "pMpKIF8j3AlN"
      },
      "source": [
        "Ahora el dataset de metada se redujo a 4366 filas, es la cantidad definitiva de contenidos"
      ]
    },
    {
      "cell_type": "code",
      "metadata": {
        "colab": {
          "base_uri": "https://localhost:8080/"
        },
        "id": "RZZjEAV75yOf",
        "outputId": "29abc288-b3cb-4eb2-f08d-54311a2287c3"
      },
      "source": [
        "df_complete.shape"
      ],
      "execution_count": null,
      "outputs": [
        {
          "output_type": "execute_result",
          "data": {
            "text/plain": [
              "(4366, 70)"
            ]
          },
          "metadata": {
            "tags": []
          },
          "execution_count": 23
        }
      ]
    },
    {
      "cell_type": "markdown",
      "metadata": {
        "id": "Pb5oAvOB3KzO"
      },
      "source": [
        "**Problema:**\n",
        "\n",
        "Los atributos estan codificados en 0s y 1s, kmeans utiliza la distancia euclidiana al cuadrado n m dimensiones como referencia para encontrar la similitud entre 2 puntos\n",
        "\n",
        "$$\n",
        "d(x,y)^{2} = \\sum_{j=1}^{m} (x_j - y_j)^{2}\n",
        "$$\n",
        "\n",
        "donde algunas distancias llevan a la confusion del modelo, ejemplo:\n",
        "\n",
        "$$\n",
        "(1-0)^{2} = (0-1)^{2} = 1\n",
        "$$\n",
        "\n",
        "Por eso, voy a pondear las columnas de atributos usando constantes ordinales"
      ]
    },
    {
      "cell_type": "code",
      "metadata": {
        "colab": {
          "base_uri": "https://localhost:8080/",
          "height": 241
        },
        "id": "uaTMHo6rDJ6K",
        "outputId": "ba4d6a6c-2491-47c1-d086-52aa8ad0bd5d"
      },
      "source": [
        "pesos_show_type = {}\n",
        "n = 0\n",
        "for c in df_show_type.columns:\n",
        "  n += 1\n",
        "  pesos_show_type[c] = n\n",
        "\n",
        "\n",
        "pesos_audience = {}\n",
        "n = 0\n",
        "for c in df_audience.columns:\n",
        "  n += 1\n",
        "  pesos_audience[c] = n\n",
        "\n",
        "\n",
        "pesos_category = {}\n",
        "n = 0\n",
        "for c in categories_df.columns:\n",
        "  n += 1\n",
        "  pesos_category[c] = n\n",
        "\n",
        "\n",
        "\n",
        "df_complete_ponderado = df_complete.copy()\n",
        "df_complete_ponderado\n",
        "for a in pesos_audience:\n",
        "  df_complete_ponderado[a] = df_complete_ponderado[a]*pesos_audience[a]\n",
        "\n",
        "for a in pesos_show_type:\n",
        "  df_complete_ponderado[a] = df_complete_ponderado[a]*pesos_show_type[a]\n",
        "\n",
        "for a in pesos_category:\n",
        "  df_complete_ponderado[a] = df_complete_ponderado[a]*pesos_category[a]\n",
        "\n",
        "df_complete_ponderado.head()"
      ],
      "execution_count": null,
      "outputs": [
        {
          "output_type": "execute_result",
          "data": {
            "text/html": [
              "<div>\n",
              "<style scoped>\n",
              "    .dataframe tbody tr th:only-of-type {\n",
              "        vertical-align: middle;\n",
              "    }\n",
              "\n",
              "    .dataframe tbody tr th {\n",
              "        vertical-align: top;\n",
              "    }\n",
              "\n",
              "    .dataframe thead th {\n",
              "        text-align: right;\n",
              "    }\n",
              "</style>\n",
              "<table border=\"1\" class=\"dataframe\">\n",
              "  <thead>\n",
              "    <tr style=\"text-align: right;\">\n",
              "      <th></th>\n",
              "      <th>show_type__Gaming</th>\n",
              "      <th>show_type__Película</th>\n",
              "      <th>show_type__Rolling</th>\n",
              "      <th>show_type__Serie</th>\n",
              "      <th>show_type__Series,Serie</th>\n",
              "      <th>show_type__TV</th>\n",
              "      <th>show_type__Tutorial</th>\n",
              "      <th>show_type__Web</th>\n",
              "      <th>aud__Familiar</th>\n",
              "      <th>aud__Gaming</th>\n",
              "      <th>aud__General</th>\n",
              "      <th>aud__Hombres</th>\n",
              "      <th>aud__Juvenil</th>\n",
              "      <th>aud__Mujeres</th>\n",
              "      <th>aud__NIños</th>\n",
              "      <th>aud__Niños</th>\n",
              "      <th>aud__Preescolar</th>\n",
              "      <th>aud__Teens</th>\n",
              "      <th>cat_Acción</th>\n",
              "      <th>cat_Ciencia ficción</th>\n",
              "      <th>cat_Espectáculo</th>\n",
              "      <th>cat_Música</th>\n",
              "      <th>cat_Deporte</th>\n",
              "      <th>cat_Magazine</th>\n",
              "      <th>cat_Naturaleza</th>\n",
              "      <th>cat_Fantasía</th>\n",
              "      <th>cat_Musical</th>\n",
              "      <th>cat_Historia</th>\n",
              "      <th>cat_Moda</th>\n",
              "      <th>cat_Viajes</th>\n",
              "      <th>cat_Comedia</th>\n",
              "      <th>cat_Aventura</th>\n",
              "      <th>cat_Bélico</th>\n",
              "      <th>cat_Reality</th>\n",
              "      <th>cat_Cultura</th>\n",
              "      <th>cat_Teatro</th>\n",
              "      <th>cat_Drama</th>\n",
              "      <th>cat_Político</th>\n",
              "      <th>cat_Dibujos animados</th>\n",
              "      <th>cat_Documental</th>\n",
              "      <th>cat_Crimen</th>\n",
              "      <th>cat_Dibujos Animados</th>\n",
              "      <th>cat_Investigación</th>\n",
              "      <th>cat_Entretenimiento</th>\n",
              "      <th>cat_Romance</th>\n",
              "      <th>cat_Policial</th>\n",
              "      <th>cat_Infantil, Comedia</th>\n",
              "      <th>cat_Familia</th>\n",
              "      <th>cat_Infantil</th>\n",
              "      <th>cat_Animales</th>\n",
              "      <th>cat_Aventuras</th>\n",
              "      <th>cat_Western</th>\n",
              "      <th>cat_Familiar</th>\n",
              "      <th>cat_Ciencia</th>\n",
              "      <th>cat_Competencia</th>\n",
              "      <th>cat_Accion</th>\n",
              "      <th>cat_Biografía</th>\n",
              "      <th>cat_Religión</th>\n",
              "      <th>cat_Interés General</th>\n",
              "      <th>cat_Animación</th>\n",
              "      <th>cat_Ciencia Ficción</th>\n",
              "      <th>cat_Restauración</th>\n",
              "      <th>cat_Terror</th>\n",
              "      <th>cat_Suspenso</th>\n",
              "      <th>cat_Entrevistas</th>\n",
              "      <th>cat_Decodificador Flow</th>\n",
              "      <th>cat_Humor</th>\n",
              "      <th>cat_Cocina</th>\n",
              "      <th>cat_Tutoriales</th>\n",
              "      <th>cat_Periodístico</th>\n",
              "    </tr>\n",
              "  </thead>\n",
              "  <tbody>\n",
              "    <tr>\n",
              "      <th>0</th>\n",
              "      <td>0</td>\n",
              "      <td>0</td>\n",
              "      <td>0</td>\n",
              "      <td>4</td>\n",
              "      <td>0</td>\n",
              "      <td>0</td>\n",
              "      <td>0</td>\n",
              "      <td>0</td>\n",
              "      <td>0</td>\n",
              "      <td>0</td>\n",
              "      <td>3</td>\n",
              "      <td>0</td>\n",
              "      <td>0</td>\n",
              "      <td>0</td>\n",
              "      <td>0</td>\n",
              "      <td>0</td>\n",
              "      <td>0</td>\n",
              "      <td>0</td>\n",
              "      <td>0</td>\n",
              "      <td>0</td>\n",
              "      <td>0</td>\n",
              "      <td>0</td>\n",
              "      <td>0</td>\n",
              "      <td>0</td>\n",
              "      <td>0</td>\n",
              "      <td>0</td>\n",
              "      <td>0</td>\n",
              "      <td>0</td>\n",
              "      <td>0</td>\n",
              "      <td>0</td>\n",
              "      <td>0</td>\n",
              "      <td>0</td>\n",
              "      <td>0</td>\n",
              "      <td>0</td>\n",
              "      <td>0</td>\n",
              "      <td>0</td>\n",
              "      <td>19</td>\n",
              "      <td>0</td>\n",
              "      <td>0</td>\n",
              "      <td>0</td>\n",
              "      <td>0</td>\n",
              "      <td>0</td>\n",
              "      <td>0</td>\n",
              "      <td>0</td>\n",
              "      <td>0</td>\n",
              "      <td>0</td>\n",
              "      <td>0</td>\n",
              "      <td>0</td>\n",
              "      <td>0</td>\n",
              "      <td>0</td>\n",
              "      <td>0</td>\n",
              "      <td>0</td>\n",
              "      <td>0</td>\n",
              "      <td>0</td>\n",
              "      <td>0</td>\n",
              "      <td>0</td>\n",
              "      <td>0</td>\n",
              "      <td>0</td>\n",
              "      <td>0</td>\n",
              "      <td>0</td>\n",
              "      <td>0</td>\n",
              "      <td>0</td>\n",
              "      <td>0</td>\n",
              "      <td>0</td>\n",
              "      <td>0</td>\n",
              "      <td>0</td>\n",
              "      <td>0</td>\n",
              "      <td>0</td>\n",
              "      <td>0</td>\n",
              "      <td>0</td>\n",
              "    </tr>\n",
              "    <tr>\n",
              "      <th>1</th>\n",
              "      <td>0</td>\n",
              "      <td>2</td>\n",
              "      <td>0</td>\n",
              "      <td>0</td>\n",
              "      <td>0</td>\n",
              "      <td>0</td>\n",
              "      <td>0</td>\n",
              "      <td>0</td>\n",
              "      <td>0</td>\n",
              "      <td>0</td>\n",
              "      <td>3</td>\n",
              "      <td>0</td>\n",
              "      <td>0</td>\n",
              "      <td>0</td>\n",
              "      <td>0</td>\n",
              "      <td>0</td>\n",
              "      <td>0</td>\n",
              "      <td>0</td>\n",
              "      <td>1</td>\n",
              "      <td>0</td>\n",
              "      <td>0</td>\n",
              "      <td>0</td>\n",
              "      <td>0</td>\n",
              "      <td>0</td>\n",
              "      <td>0</td>\n",
              "      <td>0</td>\n",
              "      <td>0</td>\n",
              "      <td>0</td>\n",
              "      <td>0</td>\n",
              "      <td>0</td>\n",
              "      <td>0</td>\n",
              "      <td>0</td>\n",
              "      <td>0</td>\n",
              "      <td>0</td>\n",
              "      <td>0</td>\n",
              "      <td>0</td>\n",
              "      <td>0</td>\n",
              "      <td>0</td>\n",
              "      <td>0</td>\n",
              "      <td>0</td>\n",
              "      <td>23</td>\n",
              "      <td>0</td>\n",
              "      <td>0</td>\n",
              "      <td>0</td>\n",
              "      <td>0</td>\n",
              "      <td>0</td>\n",
              "      <td>0</td>\n",
              "      <td>0</td>\n",
              "      <td>0</td>\n",
              "      <td>0</td>\n",
              "      <td>0</td>\n",
              "      <td>0</td>\n",
              "      <td>0</td>\n",
              "      <td>0</td>\n",
              "      <td>0</td>\n",
              "      <td>0</td>\n",
              "      <td>0</td>\n",
              "      <td>0</td>\n",
              "      <td>0</td>\n",
              "      <td>0</td>\n",
              "      <td>0</td>\n",
              "      <td>0</td>\n",
              "      <td>0</td>\n",
              "      <td>46</td>\n",
              "      <td>0</td>\n",
              "      <td>0</td>\n",
              "      <td>0</td>\n",
              "      <td>0</td>\n",
              "      <td>0</td>\n",
              "      <td>0</td>\n",
              "    </tr>\n",
              "    <tr>\n",
              "      <th>2</th>\n",
              "      <td>0</td>\n",
              "      <td>2</td>\n",
              "      <td>0</td>\n",
              "      <td>0</td>\n",
              "      <td>0</td>\n",
              "      <td>0</td>\n",
              "      <td>0</td>\n",
              "      <td>0</td>\n",
              "      <td>0</td>\n",
              "      <td>0</td>\n",
              "      <td>0</td>\n",
              "      <td>0</td>\n",
              "      <td>5</td>\n",
              "      <td>0</td>\n",
              "      <td>0</td>\n",
              "      <td>0</td>\n",
              "      <td>0</td>\n",
              "      <td>0</td>\n",
              "      <td>0</td>\n",
              "      <td>0</td>\n",
              "      <td>0</td>\n",
              "      <td>0</td>\n",
              "      <td>0</td>\n",
              "      <td>0</td>\n",
              "      <td>0</td>\n",
              "      <td>0</td>\n",
              "      <td>0</td>\n",
              "      <td>0</td>\n",
              "      <td>0</td>\n",
              "      <td>0</td>\n",
              "      <td>13</td>\n",
              "      <td>0</td>\n",
              "      <td>0</td>\n",
              "      <td>0</td>\n",
              "      <td>0</td>\n",
              "      <td>0</td>\n",
              "      <td>0</td>\n",
              "      <td>0</td>\n",
              "      <td>0</td>\n",
              "      <td>0</td>\n",
              "      <td>0</td>\n",
              "      <td>0</td>\n",
              "      <td>0</td>\n",
              "      <td>0</td>\n",
              "      <td>0</td>\n",
              "      <td>0</td>\n",
              "      <td>0</td>\n",
              "      <td>0</td>\n",
              "      <td>0</td>\n",
              "      <td>0</td>\n",
              "      <td>0</td>\n",
              "      <td>0</td>\n",
              "      <td>0</td>\n",
              "      <td>0</td>\n",
              "      <td>0</td>\n",
              "      <td>0</td>\n",
              "      <td>0</td>\n",
              "      <td>0</td>\n",
              "      <td>0</td>\n",
              "      <td>0</td>\n",
              "      <td>0</td>\n",
              "      <td>0</td>\n",
              "      <td>45</td>\n",
              "      <td>0</td>\n",
              "      <td>0</td>\n",
              "      <td>0</td>\n",
              "      <td>0</td>\n",
              "      <td>0</td>\n",
              "      <td>0</td>\n",
              "      <td>0</td>\n",
              "    </tr>\n",
              "    <tr>\n",
              "      <th>3</th>\n",
              "      <td>0</td>\n",
              "      <td>2</td>\n",
              "      <td>0</td>\n",
              "      <td>0</td>\n",
              "      <td>0</td>\n",
              "      <td>0</td>\n",
              "      <td>0</td>\n",
              "      <td>0</td>\n",
              "      <td>0</td>\n",
              "      <td>0</td>\n",
              "      <td>3</td>\n",
              "      <td>0</td>\n",
              "      <td>0</td>\n",
              "      <td>0</td>\n",
              "      <td>0</td>\n",
              "      <td>0</td>\n",
              "      <td>0</td>\n",
              "      <td>0</td>\n",
              "      <td>0</td>\n",
              "      <td>0</td>\n",
              "      <td>0</td>\n",
              "      <td>0</td>\n",
              "      <td>0</td>\n",
              "      <td>0</td>\n",
              "      <td>0</td>\n",
              "      <td>0</td>\n",
              "      <td>0</td>\n",
              "      <td>0</td>\n",
              "      <td>0</td>\n",
              "      <td>0</td>\n",
              "      <td>0</td>\n",
              "      <td>0</td>\n",
              "      <td>0</td>\n",
              "      <td>0</td>\n",
              "      <td>0</td>\n",
              "      <td>0</td>\n",
              "      <td>19</td>\n",
              "      <td>0</td>\n",
              "      <td>0</td>\n",
              "      <td>0</td>\n",
              "      <td>0</td>\n",
              "      <td>0</td>\n",
              "      <td>0</td>\n",
              "      <td>0</td>\n",
              "      <td>0</td>\n",
              "      <td>0</td>\n",
              "      <td>0</td>\n",
              "      <td>0</td>\n",
              "      <td>0</td>\n",
              "      <td>0</td>\n",
              "      <td>0</td>\n",
              "      <td>0</td>\n",
              "      <td>0</td>\n",
              "      <td>0</td>\n",
              "      <td>0</td>\n",
              "      <td>0</td>\n",
              "      <td>0</td>\n",
              "      <td>0</td>\n",
              "      <td>0</td>\n",
              "      <td>0</td>\n",
              "      <td>0</td>\n",
              "      <td>0</td>\n",
              "      <td>0</td>\n",
              "      <td>0</td>\n",
              "      <td>0</td>\n",
              "      <td>0</td>\n",
              "      <td>0</td>\n",
              "      <td>0</td>\n",
              "      <td>0</td>\n",
              "      <td>0</td>\n",
              "    </tr>\n",
              "    <tr>\n",
              "      <th>4</th>\n",
              "      <td>0</td>\n",
              "      <td>2</td>\n",
              "      <td>0</td>\n",
              "      <td>0</td>\n",
              "      <td>0</td>\n",
              "      <td>0</td>\n",
              "      <td>0</td>\n",
              "      <td>0</td>\n",
              "      <td>0</td>\n",
              "      <td>0</td>\n",
              "      <td>3</td>\n",
              "      <td>0</td>\n",
              "      <td>0</td>\n",
              "      <td>0</td>\n",
              "      <td>0</td>\n",
              "      <td>0</td>\n",
              "      <td>0</td>\n",
              "      <td>0</td>\n",
              "      <td>0</td>\n",
              "      <td>0</td>\n",
              "      <td>0</td>\n",
              "      <td>0</td>\n",
              "      <td>0</td>\n",
              "      <td>0</td>\n",
              "      <td>0</td>\n",
              "      <td>0</td>\n",
              "      <td>0</td>\n",
              "      <td>0</td>\n",
              "      <td>0</td>\n",
              "      <td>0</td>\n",
              "      <td>0</td>\n",
              "      <td>14</td>\n",
              "      <td>0</td>\n",
              "      <td>0</td>\n",
              "      <td>0</td>\n",
              "      <td>0</td>\n",
              "      <td>0</td>\n",
              "      <td>0</td>\n",
              "      <td>0</td>\n",
              "      <td>0</td>\n",
              "      <td>0</td>\n",
              "      <td>0</td>\n",
              "      <td>0</td>\n",
              "      <td>0</td>\n",
              "      <td>0</td>\n",
              "      <td>0</td>\n",
              "      <td>0</td>\n",
              "      <td>0</td>\n",
              "      <td>0</td>\n",
              "      <td>0</td>\n",
              "      <td>0</td>\n",
              "      <td>0</td>\n",
              "      <td>0</td>\n",
              "      <td>0</td>\n",
              "      <td>0</td>\n",
              "      <td>0</td>\n",
              "      <td>0</td>\n",
              "      <td>0</td>\n",
              "      <td>0</td>\n",
              "      <td>0</td>\n",
              "      <td>43</td>\n",
              "      <td>0</td>\n",
              "      <td>0</td>\n",
              "      <td>0</td>\n",
              "      <td>0</td>\n",
              "      <td>0</td>\n",
              "      <td>0</td>\n",
              "      <td>0</td>\n",
              "      <td>0</td>\n",
              "      <td>0</td>\n",
              "    </tr>\n",
              "  </tbody>\n",
              "</table>\n",
              "</div>"
            ],
            "text/plain": [
              "   show_type__Gaming  show_type__Película  ...  cat_Tutoriales  cat_Periodístico\n",
              "0                  0                    0  ...               0                 0\n",
              "1                  0                    2  ...               0                 0\n",
              "2                  0                    2  ...               0                 0\n",
              "3                  0                    2  ...               0                 0\n",
              "4                  0                    2  ...               0                 0\n",
              "\n",
              "[5 rows x 70 columns]"
            ]
          },
          "metadata": {
            "tags": []
          },
          "execution_count": 24
        }
      ]
    },
    {
      "cell_type": "markdown",
      "metadata": {
        "id": "O3b2nGRU8PzR"
      },
      "source": [
        "Ahora voy a hacer un experimento para medir el numero optimo de clusters y despues voy a medir la distancia de los puntos hacia los centroides con la metrica de la silueta, lo ideal es que se aproxime a 1"
      ]
    },
    {
      "cell_type": "code",
      "metadata": {
        "colab": {
          "base_uri": "https://localhost:8080/",
          "height": 584
        },
        "id": "VwtS7SAKC3x9",
        "outputId": "0e6360b9-7aa0-40d9-ce0f-e08c9edad72c"
      },
      "source": [
        "inercias=[]\n",
        "for i in range(1,60):\n",
        "    kmeans=KMeans(n_clusters=i,init='k-means++', random_state=42)\n",
        "    kmeans.fit(df_complete_ponderado)\n",
        "    inercias.append(kmeans.inertia_)\n",
        "plt.figure(figsize=(23,10))\n",
        "plt.plot(range(1, 60), inercias)\n",
        "plt.title('Elbow')\n",
        "plt.xlabel('Numero de clusters')\n",
        "plt.ylabel('Inercia')\n",
        "plt.show()"
      ],
      "execution_count": null,
      "outputs": [
        {
          "output_type": "display_data",
          "data": {
            "image/png": "[encoded data removed]",
            "text/plain": [
              "<Figure size 1656x720 with 1 Axes>"
            ]
          },
          "metadata": {
            "tags": [],
            "needs_background": "light"
          }
        }
      ]
    },
    {
      "cell_type": "markdown",
      "metadata": {
        "id": "TIhmA6v28qJV"
      },
      "source": [
        "No lo veo muy convincente segun la metrica de silueta, podria mejorar esto aplicando reduccion de dimensionalidad. Esto no va a alterar el dataset, solamente voy a reducirlo a las 2 columnas que tengan mayor covarianza con respecto a las demas"
      ]
    },
    {
      "cell_type": "code",
      "metadata": {
        "colab": {
          "base_uri": "https://localhost:8080/"
        },
        "id": "0aQaFUz8NM0y",
        "outputId": "05c006b3-086e-4c5d-9a1b-b1ec3d3dac6f"
      },
      "source": [
        "kmeans=KMeans(n_clusters=15,init='k-means++', random_state=42)\n",
        "kmeans.fit(df_complete_ponderado)\n",
        "silhouette_score(df_complete_ponderado, kmeans.labels_)"
      ],
      "execution_count": null,
      "outputs": [
        {
          "output_type": "execute_result",
          "data": {
            "text/plain": [
              "0.5072739020112407"
            ]
          },
          "metadata": {
            "tags": []
          },
          "execution_count": 50
        }
      ]
    },
    {
      "cell_type": "markdown",
      "metadata": {
        "id": "2wE0D86B9hOv"
      },
      "source": [
        "**PCA (Analisis de componentes principales)**"
      ]
    },
    {
      "cell_type": "code",
      "metadata": {
        "id": "_kx3zY3XE4oZ"
      },
      "source": [
        "X = np.asarray(df_complete_ponderado)\n",
        "X_PCA = PCA(2).fit_transform(X)"
      ],
      "execution_count": null,
      "outputs": []
    },
    {
      "cell_type": "markdown",
      "metadata": {
        "id": "vtvv_J339puJ"
      },
      "source": [
        "Voy a ejecutar de nuevo el experimento pero esta vez con el dataset reducido"
      ]
    },
    {
      "cell_type": "code",
      "metadata": {
        "colab": {
          "base_uri": "https://localhost:8080/",
          "height": 641
        },
        "id": "Ae4XIV7_F33S",
        "outputId": "b0273c4c-466d-41cd-b4e2-3845bb0309aa"
      },
      "source": [
        "inercias=[]\n",
        "for i in range(1,30):\n",
        "    kmeans=KMeans(n_clusters=i,init='k-means++', random_state=42)\n",
        "    kmeans.fit(X_PCA)\n",
        "    inercias.append(kmeans.inertia_)\n",
        "plt.figure(figsize=(23,10))\n",
        "plt.plot(range(1,30), inercias)\n",
        "plt.title('Elbow')\n",
        "plt.xlabel('Numero de clusters')\n",
        "plt.ylabel('Inercia')\n",
        "plt.show()"
      ],
      "execution_count": null,
      "outputs": [
        {
          "output_type": "display_data",
          "data": {
            "image/png": "[encoded data removed]",
            "text/plain": [
              "<Figure size 1656x720 with 1 Axes>"
            ]
          },
          "metadata": {
            "tags": [],
            "needs_background": "light"
          }
        }
      ]
    },
    {
      "cell_type": "markdown",
      "metadata": {
        "id": "odoEMVrQ9wPO"
      },
      "source": [
        "La metrica mejoro significativamente y ahora el agrupamiento funciona bien"
      ]
    },
    {
      "cell_type": "code",
      "metadata": {
        "colab": {
          "base_uri": "https://localhost:8080/"
        },
        "id": "0MHkMBMwHU8q",
        "outputId": "09c039fe-4e95-4721-9969-e37dfd7ecbcd"
      },
      "source": [
        "kmeans=KMeans(n_clusters=10,init='k-means++', random_state=42)\n",
        "kmeans.fit(X_PCA)\n",
        "silhouette_score(X_PCA, kmeans.labels_)"
      ],
      "execution_count": null,
      "outputs": [
        {
          "output_type": "execute_result",
          "data": {
            "text/plain": [
              "0.8420253410297353"
            ]
          },
          "metadata": {
            "tags": []
          },
          "execution_count": 69
        }
      ]
    },
    {
      "cell_type": "markdown",
      "metadata": {
        "id": "kffOqG22-CDL"
      },
      "source": [
        "Por ultimo, voy a visualizar los contenidos graficando sus componentes principales en un plot de dispersion mapeados semanticamente con el N° de cluster"
      ]
    },
    {
      "cell_type": "code",
      "metadata": {
        "colab": {
          "base_uri": "https://localhost:8080/",
          "height": 204
        },
        "id": "UUurZpmYQPig",
        "outputId": "c1f0272b-faf5-4ab3-861b-944cc4696ae2"
      },
      "source": [
        "df_contents_clustered = pd.DataFrame()\n",
        "df_contents_clustered[\"content_id\"] = df_complete.index.values\n",
        "df_contents_clustered[\"pc1\"] = X_PCA[:,0]\n",
        "df_contents_clustered[\"pc2\"] = X_PCA[:,1]\n",
        "df_contents_clustered[\"cluster\"] = kmeans.labels_\n",
        "df_contents_clustered.head()"
      ],
      "execution_count": null,
      "outputs": [
        {
          "output_type": "execute_result",
          "data": {
            "text/html": [
              "<div>\n",
              "<style scoped>\n",
              "    .dataframe tbody tr th:only-of-type {\n",
              "        vertical-align: middle;\n",
              "    }\n",
              "\n",
              "    .dataframe tbody tr th {\n",
              "        vertical-align: top;\n",
              "    }\n",
              "\n",
              "    .dataframe thead th {\n",
              "        text-align: right;\n",
              "    }\n",
              "</style>\n",
              "<table border=\"1\" class=\"dataframe\">\n",
              "  <thead>\n",
              "    <tr style=\"text-align: right;\">\n",
              "      <th></th>\n",
              "      <th>content_id</th>\n",
              "      <th>pc1</th>\n",
              "      <th>pc2</th>\n",
              "      <th>cluster</th>\n",
              "    </tr>\n",
              "  </thead>\n",
              "  <tbody>\n",
              "    <tr>\n",
              "      <th>0</th>\n",
              "      <td>0</td>\n",
              "      <td>-3.231720</td>\n",
              "      <td>-8.745510</td>\n",
              "      <td>0</td>\n",
              "    </tr>\n",
              "    <tr>\n",
              "      <th>1</th>\n",
              "      <td>1</td>\n",
              "      <td>38.989352</td>\n",
              "      <td>3.608974</td>\n",
              "      <td>4</td>\n",
              "    </tr>\n",
              "    <tr>\n",
              "      <th>2</th>\n",
              "      <td>2</td>\n",
              "      <td>9.397730</td>\n",
              "      <td>6.075642</td>\n",
              "      <td>6</td>\n",
              "    </tr>\n",
              "    <tr>\n",
              "      <th>3</th>\n",
              "      <td>3</td>\n",
              "      <td>-3.204835</td>\n",
              "      <td>-8.707660</td>\n",
              "      <td>0</td>\n",
              "    </tr>\n",
              "    <tr>\n",
              "      <th>4</th>\n",
              "      <td>4</td>\n",
              "      <td>-5.119670</td>\n",
              "      <td>-0.790269</td>\n",
              "      <td>3</td>\n",
              "    </tr>\n",
              "  </tbody>\n",
              "</table>\n",
              "</div>"
            ],
            "text/plain": [
              "   content_id        pc1       pc2  cluster\n",
              "0           0  -3.231720 -8.745510        0\n",
              "1           1  38.989352  3.608974        4\n",
              "2           2   9.397730  6.075642        6\n",
              "3           3  -3.204835 -8.707660        0\n",
              "4           4  -5.119670 -0.790269        3"
            ]
          },
          "metadata": {
            "tags": []
          },
          "execution_count": 74
        }
      ]
    },
    {
      "cell_type": "code",
      "metadata": {
        "colab": {
          "base_uri": "https://localhost:8080/"
        },
        "id": "3PnDl7N6WfTs",
        "outputId": "66a0bfc5-f102-41c8-9b96-504356d77ec7"
      },
      "source": [
        "df_contents_clustered[\"cluster\"].nunique()"
      ],
      "execution_count": null,
      "outputs": [
        {
          "output_type": "execute_result",
          "data": {
            "text/plain": [
              "10"
            ]
          },
          "metadata": {
            "tags": []
          },
          "execution_count": 78
        }
      ]
    },
    {
      "cell_type": "code",
      "metadata": {
        "colab": {
          "base_uri": "https://localhost:8080/",
          "height": 564
        },
        "id": "TyQCtqVuV10s",
        "outputId": "7a4b3fb3-e1cc-468c-8352-3655f1d551c4"
      },
      "source": [
        "plt.figure(figsize=(23,10))\n",
        "sns.scatterplot(x='pc1', y='pc2',hue='cluster',data=df_contents_clustered, palette=\"deep\")\n",
        "plt.show()"
      ],
      "execution_count": null,
      "outputs": [
        {
          "output_type": "display_data",
          "data": {
            "image/png": "[encoded data removed]",
            "text/plain": [
              "<Figure size 1656x720 with 1 Axes>"
            ]
          },
          "metadata": {
            "tags": [],
            "needs_background": "light"
          }
        }
      ]
    },
    {
      "cell_type": "markdown",
      "metadata": {
        "id": "8gYmCVXA_Srk"
      },
      "source": [
        "**¿Cual es la utilidad de este agrupamiento?**\n",
        "\n",
        "En vez de generar una matriz con dimension finita, podria asignarle una etiqueta de cluster a cada contenido, incluso se puede almacenar en la base de datos como una columna adicional.\n",
        "\n",
        "Cada vez que se carga un nuevo contenido a la plataforma, deberia predecir el cluster que le corresponde y asignarselo en la base de datos.\n",
        "\n",
        "De esta forma, cuando un usuario entra a la plataforma, el sistema puede consultar el historial del usuario y obtener los contenidos con mayor visualizacion (en teoria son los que mas le gustaron) y de esos contenidos encontrar los clusters derivados para realizar una consulta y recomndar contenidos similares.\n",
        "\n",
        "Hay una desventaja con este metodo, y es que a pesar de recomendar contenidos similares no se sabe cuales son las medidas de similitud para ordenarlos de mayor a menor (aunque, se podria calcular nuevamente usando el filtro de cluster_id y los atributos), en este punto cabe preguntar.\n",
        "\n",
        "* ¿Vale la pena sacrificar precision o tiempo de ejecucion para calcularla por un sistema mas agil, mantenible y robusto a los items nuevos?\n",
        "* Suponiendo que podemos obtener los contenidos mas similares, ¿es prudente recomendar siempre los mismos contenidos o en el mismo orden?, el agrupamiento permite seleccionar n cantidad de contenidos similares ¿porque tiene que ser solo 20?\n",
        "\n",
        "Queda a eleccion de un propietario de un sistema que ofrezca consumos a los clientes determinar cual es la mejor opcion\n"
      ]
    },
    {
      "cell_type": "markdown",
      "metadata": {
        "id": "Wr4-9lsu-3SD"
      },
      "source": [
        "# **Insight 3: Recomendacion arbitraria**"
      ]
    },
    {
      "cell_type": "markdown",
      "metadata": {
        "id": "DTlq_j3Xcalz"
      },
      "source": [
        "Una buena estrategia de marketing es recomndar productos o items por notificaciones enviadas desde el sistema, el problema es como seleccionar a los usuarios y que contenidos recomendarles.\n",
        "\n",
        "Este insight pretende resolver esa cuestion con una distribucion estadistica que filtra las opciones mas contundentes.\n",
        "\n",
        "Primero necesito cargar los registros de interaccion usuario-contenido, luego calcular los minutos de visualizacion y reagrupar por account_id y asset_id (sumando los minutos por cada grupo)."
      ]
    },
    {
      "cell_type": "code",
      "metadata": {
        "colab": {
          "base_uri": "https://localhost:8080/",
          "height": 204
        },
        "id": "OHQoYFRd-5ap",
        "outputId": "46e96ae6-29f4-4e13-81e5-8bc9af867363"
      },
      "source": [
        "df_train = pd.read_csv(ruta_train)\n",
        "columnas_necesarias = [\"account_id\",\"asset_id\",\"tunein\",\"tuneout\"]\n",
        "imputar_faltantes_por_moda(df_train, \"device_type\")\n",
        "\n",
        "df_train['tunein_datetime'] = pd.to_datetime(df_train['tunein'], format='%Y-%m-%d %H:%M:%S')\n",
        "df_train['tuneout_datetime'] = pd.to_datetime(df_train['tuneout'], format='%Y-%m-%d %H:%M:%S')\n",
        "df_train['difftune_datetime'] = df_train['tuneout_datetime'] - df_train['tunein_datetime']\n",
        "\n",
        "df_train['minutes'] = df_train['difftune_datetime'].apply(datetime_to_minutes)\n",
        "\n",
        "df_train = df_train[[\"account_id\",\"asset_id\",\"minutes\"]]\n",
        "\n",
        "df_train = df_train.groupby(['account_id','asset_id'], as_index=False).agg({\"minutes\": \"sum\"})\n",
        "\n",
        "df_train.head()"
      ],
      "execution_count": null,
      "outputs": [
        {
          "output_type": "execute_result",
          "data": {
            "text/html": [
              "<div>\n",
              "<style scoped>\n",
              "    .dataframe tbody tr th:only-of-type {\n",
              "        vertical-align: middle;\n",
              "    }\n",
              "\n",
              "    .dataframe tbody tr th {\n",
              "        vertical-align: top;\n",
              "    }\n",
              "\n",
              "    .dataframe thead th {\n",
              "        text-align: right;\n",
              "    }\n",
              "</style>\n",
              "<table border=\"1\" class=\"dataframe\">\n",
              "  <thead>\n",
              "    <tr style=\"text-align: right;\">\n",
              "      <th></th>\n",
              "      <th>account_id</th>\n",
              "      <th>asset_id</th>\n",
              "      <th>minutes</th>\n",
              "    </tr>\n",
              "  </thead>\n",
              "  <tbody>\n",
              "    <tr>\n",
              "      <th>0</th>\n",
              "      <td>0</td>\n",
              "      <td>6397.0</td>\n",
              "      <td>48.0</td>\n",
              "    </tr>\n",
              "    <tr>\n",
              "      <th>1</th>\n",
              "      <td>0</td>\n",
              "      <td>13056.0</td>\n",
              "      <td>65.0</td>\n",
              "    </tr>\n",
              "    <tr>\n",
              "      <th>2</th>\n",
              "      <td>0</td>\n",
              "      <td>15900.0</td>\n",
              "      <td>128.0</td>\n",
              "    </tr>\n",
              "    <tr>\n",
              "      <th>3</th>\n",
              "      <td>0</td>\n",
              "      <td>29811.0</td>\n",
              "      <td>79.0</td>\n",
              "    </tr>\n",
              "    <tr>\n",
              "      <th>4</th>\n",
              "      <td>0</td>\n",
              "      <td>29897.0</td>\n",
              "      <td>16.0</td>\n",
              "    </tr>\n",
              "  </tbody>\n",
              "</table>\n",
              "</div>"
            ],
            "text/plain": [
              "   account_id  asset_id  minutes\n",
              "0           0    6397.0     48.0\n",
              "1           0   13056.0     65.0\n",
              "2           0   15900.0    128.0\n",
              "3           0   29811.0     79.0\n",
              "4           0   29897.0     16.0"
            ]
          },
          "metadata": {
            "tags": []
          },
          "execution_count": 12
        }
      ]
    },
    {
      "cell_type": "markdown",
      "metadata": {
        "id": "fIdVe22JeFPu"
      },
      "source": [
        "Todos los assets tienen un tiempo de duracion grabados en el dataset de metadata, necesito asociarlos con el dataset de interacciones previamente cargado"
      ]
    },
    {
      "cell_type": "code",
      "metadata": {
        "colab": {
          "base_uri": "https://localhost:8080/",
          "height": 204
        },
        "id": "DFqulR_GH6mj",
        "outputId": "b7310622-ff7e-4148-d347-89f8c7a62b9a"
      },
      "source": [
        "df_metadata = pd.read_csv(ruta_metadata, sep=';')\n",
        "df_metadata = df_metadata[[\"asset_id\",\"run_time_min\"]]\n",
        "df_metadata.head()"
      ],
      "execution_count": null,
      "outputs": [
        {
          "output_type": "execute_result",
          "data": {
            "text/html": [
              "<div>\n",
              "<style scoped>\n",
              "    .dataframe tbody tr th:only-of-type {\n",
              "        vertical-align: middle;\n",
              "    }\n",
              "\n",
              "    .dataframe tbody tr th {\n",
              "        vertical-align: top;\n",
              "    }\n",
              "\n",
              "    .dataframe thead th {\n",
              "        text-align: right;\n",
              "    }\n",
              "</style>\n",
              "<table border=\"1\" class=\"dataframe\">\n",
              "  <thead>\n",
              "    <tr style=\"text-align: right;\">\n",
              "      <th></th>\n",
              "      <th>asset_id</th>\n",
              "      <th>run_time_min</th>\n",
              "    </tr>\n",
              "  </thead>\n",
              "  <tbody>\n",
              "    <tr>\n",
              "      <th>0</th>\n",
              "      <td>15188</td>\n",
              "      <td>48.0</td>\n",
              "    </tr>\n",
              "    <tr>\n",
              "      <th>1</th>\n",
              "      <td>24940</td>\n",
              "      <td>105.0</td>\n",
              "    </tr>\n",
              "    <tr>\n",
              "      <th>2</th>\n",
              "      <td>21939</td>\n",
              "      <td>82.0</td>\n",
              "    </tr>\n",
              "    <tr>\n",
              "      <th>3</th>\n",
              "      <td>9005</td>\n",
              "      <td>99.0</td>\n",
              "    </tr>\n",
              "    <tr>\n",
              "      <th>4</th>\n",
              "      <td>7391</td>\n",
              "      <td>126.0</td>\n",
              "    </tr>\n",
              "  </tbody>\n",
              "</table>\n",
              "</div>"
            ],
            "text/plain": [
              "   asset_id  run_time_min\n",
              "0     15188          48.0\n",
              "1     24940         105.0\n",
              "2     21939          82.0\n",
              "3      9005          99.0\n",
              "4      7391         126.0"
            ]
          },
          "metadata": {
            "tags": []
          },
          "execution_count": 27
        }
      ]
    },
    {
      "cell_type": "code",
      "metadata": {
        "id": "_zHA8HaCK7Jg"
      },
      "source": [
        "def consultar_duracion_total_asset(asset_id):\n",
        "  mask = df_metadata[\"asset_id\"] == asset_id\n",
        "  df_ = df_metadata[mask].copy()\n",
        "  return df_.iloc[0][1]"
      ],
      "execution_count": null,
      "outputs": []
    },
    {
      "cell_type": "code",
      "metadata": {
        "colab": {
          "base_uri": "https://localhost:8080/"
        },
        "id": "tS4z_wlXK3sc",
        "outputId": "994a8154-b918-4d82-9507-bbe0f11e9b97"
      },
      "source": [
        "consultar_duracion_total_asset(21939)"
      ],
      "execution_count": null,
      "outputs": [
        {
          "output_type": "execute_result",
          "data": {
            "text/plain": [
              "82.0"
            ]
          },
          "metadata": {
            "tags": []
          },
          "execution_count": 34
        }
      ]
    },
    {
      "cell_type": "markdown",
      "metadata": {
        "id": "EsB4ei31eUWC"
      },
      "source": [
        "Listo, el dataset ya contiene los minutos visualizados y la duracion del asset"
      ]
    },
    {
      "cell_type": "code",
      "metadata": {
        "colab": {
          "base_uri": "https://localhost:8080/",
          "height": 204
        },
        "id": "Uro46iwqKyYe",
        "outputId": "fa06eb22-3f26-432b-eda6-f54f8e0ddbb5"
      },
      "source": [
        "df_train[\"run_time_min\"] = df_train[\"asset_id\"].apply(consultar_duracion_total_asset)\n",
        "df_train.head()"
      ],
      "execution_count": null,
      "outputs": [
        {
          "output_type": "execute_result",
          "data": {
            "text/html": [
              "<div>\n",
              "<style scoped>\n",
              "    .dataframe tbody tr th:only-of-type {\n",
              "        vertical-align: middle;\n",
              "    }\n",
              "\n",
              "    .dataframe tbody tr th {\n",
              "        vertical-align: top;\n",
              "    }\n",
              "\n",
              "    .dataframe thead th {\n",
              "        text-align: right;\n",
              "    }\n",
              "</style>\n",
              "<table border=\"1\" class=\"dataframe\">\n",
              "  <thead>\n",
              "    <tr style=\"text-align: right;\">\n",
              "      <th></th>\n",
              "      <th>account_id</th>\n",
              "      <th>asset_id</th>\n",
              "      <th>minutes</th>\n",
              "      <th>run_time_min</th>\n",
              "    </tr>\n",
              "  </thead>\n",
              "  <tbody>\n",
              "    <tr>\n",
              "      <th>0</th>\n",
              "      <td>0</td>\n",
              "      <td>6397.0</td>\n",
              "      <td>48.0</td>\n",
              "      <td>43.0</td>\n",
              "    </tr>\n",
              "    <tr>\n",
              "      <th>1</th>\n",
              "      <td>0</td>\n",
              "      <td>13056.0</td>\n",
              "      <td>65.0</td>\n",
              "      <td>86.0</td>\n",
              "    </tr>\n",
              "    <tr>\n",
              "      <th>2</th>\n",
              "      <td>0</td>\n",
              "      <td>15900.0</td>\n",
              "      <td>128.0</td>\n",
              "      <td>128.0</td>\n",
              "    </tr>\n",
              "    <tr>\n",
              "      <th>3</th>\n",
              "      <td>0</td>\n",
              "      <td>29811.0</td>\n",
              "      <td>79.0</td>\n",
              "      <td>79.0</td>\n",
              "    </tr>\n",
              "    <tr>\n",
              "      <th>4</th>\n",
              "      <td>0</td>\n",
              "      <td>29897.0</td>\n",
              "      <td>16.0</td>\n",
              "      <td>96.0</td>\n",
              "    </tr>\n",
              "  </tbody>\n",
              "</table>\n",
              "</div>"
            ],
            "text/plain": [
              "   account_id  asset_id  minutes  run_time_min\n",
              "0           0    6397.0     48.0          43.0\n",
              "1           0   13056.0     65.0          86.0\n",
              "2           0   15900.0    128.0         128.0\n",
              "3           0   29811.0     79.0          79.0\n",
              "4           0   29897.0     16.0          96.0"
            ]
          },
          "metadata": {
            "tags": []
          },
          "execution_count": 35
        }
      ]
    },
    {
      "cell_type": "markdown",
      "metadata": {
        "id": "xubrhp4BecBI"
      },
      "source": [
        "Voy a crear una columna adicional que es la diferencia entre la duracion del asset y los minutos visualizados"
      ]
    },
    {
      "cell_type": "code",
      "metadata": {
        "colab": {
          "base_uri": "https://localhost:8080/",
          "height": 204
        },
        "id": "inuiumy6WsEG",
        "outputId": "91b0981b-c1fa-44f7-effd-e47281173e99"
      },
      "source": [
        "df_train[\"rest_minutes_to_watch\"] = df_train[\"run_time_min\"] - df_train[\"minutes\"]\n",
        "df_train.head()"
      ],
      "execution_count": null,
      "outputs": [
        {
          "output_type": "execute_result",
          "data": {
            "text/html": [
              "<div>\n",
              "<style scoped>\n",
              "    .dataframe tbody tr th:only-of-type {\n",
              "        vertical-align: middle;\n",
              "    }\n",
              "\n",
              "    .dataframe tbody tr th {\n",
              "        vertical-align: top;\n",
              "    }\n",
              "\n",
              "    .dataframe thead th {\n",
              "        text-align: right;\n",
              "    }\n",
              "</style>\n",
              "<table border=\"1\" class=\"dataframe\">\n",
              "  <thead>\n",
              "    <tr style=\"text-align: right;\">\n",
              "      <th></th>\n",
              "      <th>account_id</th>\n",
              "      <th>asset_id</th>\n",
              "      <th>minutes</th>\n",
              "      <th>run_time_min</th>\n",
              "      <th>rest_minutes_to_watch</th>\n",
              "    </tr>\n",
              "  </thead>\n",
              "  <tbody>\n",
              "    <tr>\n",
              "      <th>0</th>\n",
              "      <td>0</td>\n",
              "      <td>6397.0</td>\n",
              "      <td>48.0</td>\n",
              "      <td>43.0</td>\n",
              "      <td>-5.0</td>\n",
              "    </tr>\n",
              "    <tr>\n",
              "      <th>1</th>\n",
              "      <td>0</td>\n",
              "      <td>13056.0</td>\n",
              "      <td>65.0</td>\n",
              "      <td>86.0</td>\n",
              "      <td>21.0</td>\n",
              "    </tr>\n",
              "    <tr>\n",
              "      <th>2</th>\n",
              "      <td>0</td>\n",
              "      <td>15900.0</td>\n",
              "      <td>128.0</td>\n",
              "      <td>128.0</td>\n",
              "      <td>0.0</td>\n",
              "    </tr>\n",
              "    <tr>\n",
              "      <th>3</th>\n",
              "      <td>0</td>\n",
              "      <td>29811.0</td>\n",
              "      <td>79.0</td>\n",
              "      <td>79.0</td>\n",
              "      <td>0.0</td>\n",
              "    </tr>\n",
              "    <tr>\n",
              "      <th>4</th>\n",
              "      <td>0</td>\n",
              "      <td>29897.0</td>\n",
              "      <td>16.0</td>\n",
              "      <td>96.0</td>\n",
              "      <td>80.0</td>\n",
              "    </tr>\n",
              "  </tbody>\n",
              "</table>\n",
              "</div>"
            ],
            "text/plain": [
              "   account_id  asset_id  minutes  run_time_min  rest_minutes_to_watch\n",
              "0           0    6397.0     48.0          43.0                   -5.0\n",
              "1           0   13056.0     65.0          86.0                   21.0\n",
              "2           0   15900.0    128.0         128.0                    0.0\n",
              "3           0   29811.0     79.0          79.0                    0.0\n",
              "4           0   29897.0     16.0          96.0                   80.0"
            ]
          },
          "metadata": {
            "tags": []
          },
          "execution_count": 36
        }
      ]
    },
    {
      "cell_type": "markdown",
      "metadata": {
        "id": "m3tdb4xCej_z"
      },
      "source": [
        "**Histograma de la nueva columna:**\n",
        "\n",
        "Parecen haber algunos casos excepcionales, voy a filtrar un poco la distribucion"
      ]
    },
    {
      "cell_type": "code",
      "metadata": {
        "colab": {
          "base_uri": "https://localhost:8080/",
          "height": 455
        },
        "id": "Lb0KZflPbpyp",
        "outputId": "618b1bca-8ffa-47bf-a95c-240e7483fc2d"
      },
      "source": [
        "plt.figure(figsize=(23,8))\n",
        "plt.hist(df_train['rest_minutes_to_watch'],log=True)\n",
        "plt.show()"
      ],
      "execution_count": null,
      "outputs": [
        {
          "output_type": "display_data",
          "data": {
            "image/png": "[encoded data removed]",
            "text/plain": [
              "<Figure size 1656x576 with 1 Axes>"
            ]
          },
          "metadata": {
            "tags": [],
            "needs_background": "light"
          }
        }
      ]
    },
    {
      "cell_type": "markdown",
      "metadata": {
        "id": "WtqxH5xjex95"
      },
      "source": [
        "La funcion de abajo divide una columna en 2 partes definidas por un umbral, y muestra el porcentaje que ocupa cada parte"
      ]
    },
    {
      "cell_type": "code",
      "metadata": {
        "id": "dxnL21Z7ZqHr"
      },
      "source": [
        "def dividir_col_por_umbral(df, col, umbral):\n",
        "  count_1 = sum(df[col] < umbral)\n",
        "  count_2 = sum(df[col] >= umbral)\n",
        "  porcentaje_1 = count_1/df.shape[0]\n",
        "  porcentaje_2 = count_2/df.shape[0]\n",
        "\n",
        "  min = df[col].min()\n",
        "  max = df[col].max()\n",
        "\n",
        "  print(\"Division de \"+col)\n",
        "  print(\"\")\n",
        "  print(str(min)+\" - \"+str(umbral)+\" => \"+str(round(porcentaje_1,10))+\" %\")\n",
        "  print(\"\")\n",
        "  print(str(umbral)+\" - \"+str(max)+\" => \"+str(round(porcentaje_2,10))+\" %\")\n",
        "  print(\"\")"
      ],
      "execution_count": null,
      "outputs": []
    },
    {
      "cell_type": "markdown",
      "metadata": {
        "id": "3lO-UNYje7rf"
      },
      "source": [
        "Es conveniente filtrar los numeros menores a -1000"
      ]
    },
    {
      "cell_type": "code",
      "metadata": {
        "colab": {
          "base_uri": "https://localhost:8080/"
        },
        "id": "IC9O_qppbJ_E",
        "outputId": "63f05abe-e603-4624-a232-f8a7c10fe660"
      },
      "source": [
        "dividir_col_por_umbral(df_train, 'rest_minutes_to_watch', -1000)"
      ],
      "execution_count": null,
      "outputs": [
        {
          "output_type": "stream",
          "text": [
            "Division de rest_minutes_to_watch\n",
            "\n",
            "-9138.0 - -1000 => 9.03564e-05 %\n",
            "\n",
            "-1000 - 303.0 => 0.9999096436 %\n",
            "\n"
          ],
          "name": "stdout"
        }
      ]
    },
    {
      "cell_type": "markdown",
      "metadata": {
        "id": "HmhjEAS6fGFq"
      },
      "source": [
        "**Distribucion definitiva y utilidad:**\n",
        "\n",
        "Los rangos menores a 0 corresponden a las visualizaciones que duraron mas que la duracion del asset, esto significa que el usuario en particular tiende a repetir la visualizacion y conviene recomendarle contenidos similares utilizando el sistema de recomendacion.\n",
        "\n",
        "El rango 0 corresponde a las visualizaciones completas de assets, queda a eleccion del encargado de marketing utilizar esa referencia para recomendar contenidos.\n",
        "\n",
        "Los rangos mayores que 0 coresponden a visualizacioes que no llegaron hasta el final de la duracion del asset, pudo deberse a interrupciones que ocurrieron durante el contexto o simplemente el usuario no tiende a ver esa clase de contenido. No es prudente recomendar con esta referecia"
      ]
    },
    {
      "cell_type": "code",
      "metadata": {
        "colab": {
          "base_uri": "https://localhost:8080/",
          "height": 503
        },
        "id": "jGbFwA0ZYjrM",
        "outputId": "fc859553-3a5d-4be8-bff1-b8537551bea8"
      },
      "source": [
        "plt.figure(figsize=(23,8))\n",
        "mascara = df_train['rest_minutes_to_watch'] >= -1000\n",
        "plt.hist(df_train.loc[mascara]['rest_minutes_to_watch'],log=True)\n",
        "plt.show()"
      ],
      "execution_count": null,
      "outputs": [
        {
          "output_type": "display_data",
          "data": {
            "image/png": "[encoded data removed]",
            "text/plain": [
              "<Figure size 1656x576 with 1 Axes>"
            ]
          },
          "metadata": {
            "tags": [],
            "needs_background": "light"
          }
        }
      ]
    }
  ]
}